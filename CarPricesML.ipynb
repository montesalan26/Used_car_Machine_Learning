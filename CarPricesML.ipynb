{
 "cells": [
  {
   "cell_type": "markdown",
   "metadata": {},
   "source": [
    "Rusty Bargain used car sales service is developing an app to attract new customers. In that app, you can quickly find out the market value of your car. You have access to historical data: technical specifications, trim versions, and prices. You need to build the model to determine the value. \n",
    "\n",
    "Rusty Bargain is interested in:\n",
    "\n",
    "- the quality of the prediction;\n",
    "- the speed of the prediction;\n",
    "- the time required for training"
   ]
  },
  {
   "cell_type": "markdown",
   "metadata": {},
   "source": [
    "## Data preparation"
   ]
  },
  {
   "cell_type": "code",
   "execution_count": 1,
   "metadata": {},
   "outputs": [],
   "source": [
    "import pandas as pd\n",
    "from sklearn.linear_model import LinearRegression\n",
    "from sklearn.model_selection import train_test_split\n",
    "from sklearn.metrics import mean_squared_error, mean_absolute_error\n",
    "from matplotlib import pyplot as plt\n",
    "import numpy as np\n",
    "from sklearn.dummy import DummyRegressor\n",
    "from sklearn.model_selection import cross_val_score\n",
    "from sklearn.ensemble import RandomForestRegressor, GradientBoostingClassifier\n",
    "import seaborn as sns\n",
    "from sklearn.ensemble import GradientBoostingRegressor\n",
    "import lightgbm as lgb\n",
    "from lightgbm import LGBMRegressor\n",
    "from catboost import CatBoostRegressor\n",
    "from xgboost import XGBRegressor\n",
    "from sklearn.preprocessing import StandardScaler\n",
    "from sklearn.model_selection import GridSearchCV"
   ]
  },
  {
   "cell_type": "code",
   "execution_count": 2,
   "metadata": {},
   "outputs": [],
   "source": [
    "df = pd.read_csv('/datasets/car_data.csv')"
   ]
  },
  {
   "cell_type": "markdown",
   "metadata": {},
   "source": [
    "### Check For Duplicates"
   ]
  },
  {
   "cell_type": "code",
   "execution_count": 3,
   "metadata": {
    "scrolled": true
   },
   "outputs": [
    {
     "data": {
      "text/plain": [
       "0"
      ]
     },
     "execution_count": 3,
     "metadata": {},
     "output_type": "execute_result"
    }
   ],
   "source": [
    "df.duplicated().sum()\n",
    "df = df.drop_duplicates()\n",
    "df.duplicated().sum()"
   ]
  },
  {
   "cell_type": "markdown",
   "metadata": {},
   "source": [
    "### Rename Columns"
   ]
  },
  {
   "cell_type": "code",
   "execution_count": 4,
   "metadata": {},
   "outputs": [
    {
     "data": {
      "text/plain": [
       "Index(['DateCrawled', 'Price', 'VehicleType', 'RegistrationYear', 'Gearbox',\n",
       "       'Power', 'Model', 'Mileage', 'RegistrationMonth', 'FuelType', 'Brand',\n",
       "       'NotRepaired', 'DateCreated', 'NumberOfPictures', 'PostalCode',\n",
       "       'LastSeen'],\n",
       "      dtype='object')"
      ]
     },
     "execution_count": 4,
     "metadata": {},
     "output_type": "execute_result"
    }
   ],
   "source": [
    "df.columns"
   ]
  },
  {
   "cell_type": "code",
   "execution_count": 5,
   "metadata": {},
   "outputs": [
    {
     "data": {
      "text/plain": [
       "Index(['date_crawled', 'price', 'vehicle_type', 'registration_year', 'gearbox',\n",
       "       'power', 'model', 'mileage', 'registration_month', 'fuel_type', 'brand',\n",
       "       'not_repaired', 'date_created', 'number_of_pictures', 'postal_code',\n",
       "       'last_seen'],\n",
       "      dtype='object')"
      ]
     },
     "execution_count": 5,
     "metadata": {},
     "output_type": "execute_result"
    }
   ],
   "source": [
    "\n",
    "column_names = ['date_crawled', 'price', 'vehicle_type', 'registration_year', 'gearbox', 'power', 'model', 'mileage', \n",
    "               'registration_month', 'fuel_type', 'brand', 'not_repaired', 'date_created', 'number_of_pictures', 'postal_code',\n",
    "               'last_seen']\n",
    "\n",
    "df.columns = column_names\n",
    "df.columns"
   ]
  },
  {
   "cell_type": "markdown",
   "metadata": {},
   "source": [
    "### Analyze Data"
   ]
  },
  {
   "cell_type": "code",
   "execution_count": 6,
   "metadata": {},
   "outputs": [
    {
     "name": "stdout",
     "output_type": "stream",
     "text": [
      "<class 'pandas.core.frame.DataFrame'>\n",
      "Int64Index: 354107 entries, 0 to 354368\n",
      "Data columns (total 16 columns):\n",
      " #   Column              Non-Null Count   Dtype \n",
      "---  ------              --------------   ----- \n",
      " 0   date_crawled        354107 non-null  object\n",
      " 1   price               354107 non-null  int64 \n",
      " 2   vehicle_type        316623 non-null  object\n",
      " 3   registration_year   354107 non-null  int64 \n",
      " 4   gearbox             334277 non-null  object\n",
      " 5   power               354107 non-null  int64 \n",
      " 6   model               334406 non-null  object\n",
      " 7   mileage             354107 non-null  int64 \n",
      " 8   registration_month  354107 non-null  int64 \n",
      " 9   fuel_type           321218 non-null  object\n",
      " 10  brand               354107 non-null  object\n",
      " 11  not_repaired        282962 non-null  object\n",
      " 12  date_created        354107 non-null  object\n",
      " 13  number_of_pictures  354107 non-null  int64 \n",
      " 14  postal_code         354107 non-null  int64 \n",
      " 15  last_seen           354107 non-null  object\n",
      "dtypes: int64(7), object(9)\n",
      "memory usage: 45.9+ MB\n"
     ]
    }
   ],
   "source": [
    "df.info()"
   ]
  },
  {
   "cell_type": "code",
   "execution_count": 7,
   "metadata": {
    "scrolled": true
   },
   "outputs": [
    {
     "data": {
      "text/html": [
       "<div>\n",
       "<style scoped>\n",
       "    .dataframe tbody tr th:only-of-type {\n",
       "        vertical-align: middle;\n",
       "    }\n",
       "\n",
       "    .dataframe tbody tr th {\n",
       "        vertical-align: top;\n",
       "    }\n",
       "\n",
       "    .dataframe thead th {\n",
       "        text-align: right;\n",
       "    }\n",
       "</style>\n",
       "<table border=\"1\" class=\"dataframe\">\n",
       "  <thead>\n",
       "    <tr style=\"text-align: right;\">\n",
       "      <th></th>\n",
       "      <th>price</th>\n",
       "      <th>registration_year</th>\n",
       "      <th>power</th>\n",
       "      <th>mileage</th>\n",
       "      <th>registration_month</th>\n",
       "      <th>number_of_pictures</th>\n",
       "      <th>postal_code</th>\n",
       "    </tr>\n",
       "  </thead>\n",
       "  <tbody>\n",
       "    <tr>\n",
       "      <th>count</th>\n",
       "      <td>354107.000000</td>\n",
       "      <td>354107.000000</td>\n",
       "      <td>354107.000000</td>\n",
       "      <td>354107.000000</td>\n",
       "      <td>354107.000000</td>\n",
       "      <td>354107.0</td>\n",
       "      <td>354107.000000</td>\n",
       "    </tr>\n",
       "    <tr>\n",
       "      <th>mean</th>\n",
       "      <td>4416.433287</td>\n",
       "      <td>2004.235355</td>\n",
       "      <td>110.089651</td>\n",
       "      <td>128211.811684</td>\n",
       "      <td>5.714182</td>\n",
       "      <td>0.0</td>\n",
       "      <td>50507.145030</td>\n",
       "    </tr>\n",
       "    <tr>\n",
       "      <th>std</th>\n",
       "      <td>4514.338584</td>\n",
       "      <td>90.261168</td>\n",
       "      <td>189.914972</td>\n",
       "      <td>37906.590101</td>\n",
       "      <td>3.726682</td>\n",
       "      <td>0.0</td>\n",
       "      <td>25784.212094</td>\n",
       "    </tr>\n",
       "    <tr>\n",
       "      <th>min</th>\n",
       "      <td>0.000000</td>\n",
       "      <td>1000.000000</td>\n",
       "      <td>0.000000</td>\n",
       "      <td>5000.000000</td>\n",
       "      <td>0.000000</td>\n",
       "      <td>0.0</td>\n",
       "      <td>1067.000000</td>\n",
       "    </tr>\n",
       "    <tr>\n",
       "      <th>25%</th>\n",
       "      <td>1050.000000</td>\n",
       "      <td>1999.000000</td>\n",
       "      <td>69.000000</td>\n",
       "      <td>125000.000000</td>\n",
       "      <td>3.000000</td>\n",
       "      <td>0.0</td>\n",
       "      <td>30165.000000</td>\n",
       "    </tr>\n",
       "    <tr>\n",
       "      <th>50%</th>\n",
       "      <td>2700.000000</td>\n",
       "      <td>2003.000000</td>\n",
       "      <td>105.000000</td>\n",
       "      <td>150000.000000</td>\n",
       "      <td>6.000000</td>\n",
       "      <td>0.0</td>\n",
       "      <td>49406.000000</td>\n",
       "    </tr>\n",
       "    <tr>\n",
       "      <th>75%</th>\n",
       "      <td>6400.000000</td>\n",
       "      <td>2008.000000</td>\n",
       "      <td>143.000000</td>\n",
       "      <td>150000.000000</td>\n",
       "      <td>9.000000</td>\n",
       "      <td>0.0</td>\n",
       "      <td>71083.000000</td>\n",
       "    </tr>\n",
       "    <tr>\n",
       "      <th>max</th>\n",
       "      <td>20000.000000</td>\n",
       "      <td>9999.000000</td>\n",
       "      <td>20000.000000</td>\n",
       "      <td>150000.000000</td>\n",
       "      <td>12.000000</td>\n",
       "      <td>0.0</td>\n",
       "      <td>99998.000000</td>\n",
       "    </tr>\n",
       "  </tbody>\n",
       "</table>\n",
       "</div>"
      ],
      "text/plain": [
       "               price  registration_year          power        mileage  \\\n",
       "count  354107.000000      354107.000000  354107.000000  354107.000000   \n",
       "mean     4416.433287        2004.235355     110.089651  128211.811684   \n",
       "std      4514.338584          90.261168     189.914972   37906.590101   \n",
       "min         0.000000        1000.000000       0.000000    5000.000000   \n",
       "25%      1050.000000        1999.000000      69.000000  125000.000000   \n",
       "50%      2700.000000        2003.000000     105.000000  150000.000000   \n",
       "75%      6400.000000        2008.000000     143.000000  150000.000000   \n",
       "max     20000.000000        9999.000000   20000.000000  150000.000000   \n",
       "\n",
       "       registration_month  number_of_pictures    postal_code  \n",
       "count       354107.000000            354107.0  354107.000000  \n",
       "mean             5.714182                 0.0   50507.145030  \n",
       "std              3.726682                 0.0   25784.212094  \n",
       "min              0.000000                 0.0    1067.000000  \n",
       "25%              3.000000                 0.0   30165.000000  \n",
       "50%              6.000000                 0.0   49406.000000  \n",
       "75%              9.000000                 0.0   71083.000000  \n",
       "max             12.000000                 0.0   99998.000000  "
      ]
     },
     "execution_count": 7,
     "metadata": {},
     "output_type": "execute_result"
    }
   ],
   "source": [
    "df.describe()"
   ]
  },
  {
   "cell_type": "markdown",
   "metadata": {},
   "source": [
    "After analyzing the data, you can see that the Registration Year and Power column have some outliers, considering the fact that the year \"1000\" and\"9999\" arent valid years, because there were no vehicles in the year 1000 and we havent reached the year 9999. Also, you can see that the minimun horse power is 0 and the max horse power is 20,000, also vehicles dont have 20k horse power or 0 hp, we are going to remove these outliers from the data."
   ]
  },
  {
   "cell_type": "markdown",
   "metadata": {},
   "source": [
    "### Removing Outliers from Registration Year Column"
   ]
  },
  {
   "cell_type": "code",
   "execution_count": 8,
   "metadata": {},
   "outputs": [
    {
     "data": {
      "text/html": [
       "<div>\n",
       "<style scoped>\n",
       "    .dataframe tbody tr th:only-of-type {\n",
       "        vertical-align: middle;\n",
       "    }\n",
       "\n",
       "    .dataframe tbody tr th {\n",
       "        vertical-align: top;\n",
       "    }\n",
       "\n",
       "    .dataframe thead th {\n",
       "        text-align: right;\n",
       "    }\n",
       "</style>\n",
       "<table border=\"1\" class=\"dataframe\">\n",
       "  <thead>\n",
       "    <tr style=\"text-align: right;\">\n",
       "      <th></th>\n",
       "      <th>date_crawled</th>\n",
       "      <th>price</th>\n",
       "      <th>vehicle_type</th>\n",
       "      <th>registration_year</th>\n",
       "      <th>gearbox</th>\n",
       "      <th>power</th>\n",
       "      <th>model</th>\n",
       "      <th>mileage</th>\n",
       "      <th>registration_month</th>\n",
       "      <th>fuel_type</th>\n",
       "      <th>brand</th>\n",
       "      <th>not_repaired</th>\n",
       "      <th>date_created</th>\n",
       "      <th>number_of_pictures</th>\n",
       "      <th>postal_code</th>\n",
       "      <th>last_seen</th>\n",
       "    </tr>\n",
       "  </thead>\n",
       "  <tbody>\n",
       "    <tr>\n",
       "      <th>0</th>\n",
       "      <td>24/03/2016 11:52</td>\n",
       "      <td>480</td>\n",
       "      <td>NaN</td>\n",
       "      <td>1993</td>\n",
       "      <td>manual</td>\n",
       "      <td>0</td>\n",
       "      <td>golf</td>\n",
       "      <td>150000</td>\n",
       "      <td>0</td>\n",
       "      <td>petrol</td>\n",
       "      <td>volkswagen</td>\n",
       "      <td>NaN</td>\n",
       "      <td>24/03/2016 00:00</td>\n",
       "      <td>0</td>\n",
       "      <td>70435</td>\n",
       "      <td>07/04/2016 03:16</td>\n",
       "    </tr>\n",
       "    <tr>\n",
       "      <th>1</th>\n",
       "      <td>24/03/2016 10:58</td>\n",
       "      <td>18300</td>\n",
       "      <td>coupe</td>\n",
       "      <td>2011</td>\n",
       "      <td>manual</td>\n",
       "      <td>190</td>\n",
       "      <td>NaN</td>\n",
       "      <td>125000</td>\n",
       "      <td>5</td>\n",
       "      <td>gasoline</td>\n",
       "      <td>audi</td>\n",
       "      <td>yes</td>\n",
       "      <td>24/03/2016 00:00</td>\n",
       "      <td>0</td>\n",
       "      <td>66954</td>\n",
       "      <td>07/04/2016 01:46</td>\n",
       "    </tr>\n",
       "    <tr>\n",
       "      <th>2</th>\n",
       "      <td>14/03/2016 12:52</td>\n",
       "      <td>9800</td>\n",
       "      <td>suv</td>\n",
       "      <td>2004</td>\n",
       "      <td>auto</td>\n",
       "      <td>163</td>\n",
       "      <td>grand</td>\n",
       "      <td>125000</td>\n",
       "      <td>8</td>\n",
       "      <td>gasoline</td>\n",
       "      <td>jeep</td>\n",
       "      <td>NaN</td>\n",
       "      <td>14/03/2016 00:00</td>\n",
       "      <td>0</td>\n",
       "      <td>90480</td>\n",
       "      <td>05/04/2016 12:47</td>\n",
       "    </tr>\n",
       "    <tr>\n",
       "      <th>3</th>\n",
       "      <td>17/03/2016 16:54</td>\n",
       "      <td>1500</td>\n",
       "      <td>small</td>\n",
       "      <td>2001</td>\n",
       "      <td>manual</td>\n",
       "      <td>75</td>\n",
       "      <td>golf</td>\n",
       "      <td>150000</td>\n",
       "      <td>6</td>\n",
       "      <td>petrol</td>\n",
       "      <td>volkswagen</td>\n",
       "      <td>no</td>\n",
       "      <td>17/03/2016 00:00</td>\n",
       "      <td>0</td>\n",
       "      <td>91074</td>\n",
       "      <td>17/03/2016 17:40</td>\n",
       "    </tr>\n",
       "    <tr>\n",
       "      <th>4</th>\n",
       "      <td>31/03/2016 17:25</td>\n",
       "      <td>3600</td>\n",
       "      <td>small</td>\n",
       "      <td>2008</td>\n",
       "      <td>manual</td>\n",
       "      <td>69</td>\n",
       "      <td>fabia</td>\n",
       "      <td>90000</td>\n",
       "      <td>7</td>\n",
       "      <td>gasoline</td>\n",
       "      <td>skoda</td>\n",
       "      <td>no</td>\n",
       "      <td>31/03/2016 00:00</td>\n",
       "      <td>0</td>\n",
       "      <td>60437</td>\n",
       "      <td>06/04/2016 10:17</td>\n",
       "    </tr>\n",
       "    <tr>\n",
       "      <th>...</th>\n",
       "      <td>...</td>\n",
       "      <td>...</td>\n",
       "      <td>...</td>\n",
       "      <td>...</td>\n",
       "      <td>...</td>\n",
       "      <td>...</td>\n",
       "      <td>...</td>\n",
       "      <td>...</td>\n",
       "      <td>...</td>\n",
       "      <td>...</td>\n",
       "      <td>...</td>\n",
       "      <td>...</td>\n",
       "      <td>...</td>\n",
       "      <td>...</td>\n",
       "      <td>...</td>\n",
       "      <td>...</td>\n",
       "    </tr>\n",
       "    <tr>\n",
       "      <th>354364</th>\n",
       "      <td>21/03/2016 09:50</td>\n",
       "      <td>0</td>\n",
       "      <td>NaN</td>\n",
       "      <td>2005</td>\n",
       "      <td>manual</td>\n",
       "      <td>0</td>\n",
       "      <td>colt</td>\n",
       "      <td>150000</td>\n",
       "      <td>7</td>\n",
       "      <td>petrol</td>\n",
       "      <td>mitsubishi</td>\n",
       "      <td>yes</td>\n",
       "      <td>21/03/2016 00:00</td>\n",
       "      <td>0</td>\n",
       "      <td>2694</td>\n",
       "      <td>21/03/2016 10:42</td>\n",
       "    </tr>\n",
       "    <tr>\n",
       "      <th>354365</th>\n",
       "      <td>14/03/2016 17:48</td>\n",
       "      <td>2200</td>\n",
       "      <td>NaN</td>\n",
       "      <td>2005</td>\n",
       "      <td>NaN</td>\n",
       "      <td>0</td>\n",
       "      <td>NaN</td>\n",
       "      <td>20000</td>\n",
       "      <td>1</td>\n",
       "      <td>NaN</td>\n",
       "      <td>sonstige_autos</td>\n",
       "      <td>NaN</td>\n",
       "      <td>14/03/2016 00:00</td>\n",
       "      <td>0</td>\n",
       "      <td>39576</td>\n",
       "      <td>06/04/2016 00:46</td>\n",
       "    </tr>\n",
       "    <tr>\n",
       "      <th>354366</th>\n",
       "      <td>05/03/2016 19:56</td>\n",
       "      <td>1199</td>\n",
       "      <td>convertible</td>\n",
       "      <td>2000</td>\n",
       "      <td>auto</td>\n",
       "      <td>101</td>\n",
       "      <td>fortwo</td>\n",
       "      <td>125000</td>\n",
       "      <td>3</td>\n",
       "      <td>petrol</td>\n",
       "      <td>smart</td>\n",
       "      <td>no</td>\n",
       "      <td>05/03/2016 00:00</td>\n",
       "      <td>0</td>\n",
       "      <td>26135</td>\n",
       "      <td>11/03/2016 18:17</td>\n",
       "    </tr>\n",
       "    <tr>\n",
       "      <th>354367</th>\n",
       "      <td>19/03/2016 18:57</td>\n",
       "      <td>9200</td>\n",
       "      <td>bus</td>\n",
       "      <td>1996</td>\n",
       "      <td>manual</td>\n",
       "      <td>102</td>\n",
       "      <td>transporter</td>\n",
       "      <td>150000</td>\n",
       "      <td>3</td>\n",
       "      <td>gasoline</td>\n",
       "      <td>volkswagen</td>\n",
       "      <td>no</td>\n",
       "      <td>19/03/2016 00:00</td>\n",
       "      <td>0</td>\n",
       "      <td>87439</td>\n",
       "      <td>07/04/2016 07:15</td>\n",
       "    </tr>\n",
       "    <tr>\n",
       "      <th>354368</th>\n",
       "      <td>20/03/2016 19:41</td>\n",
       "      <td>3400</td>\n",
       "      <td>wagon</td>\n",
       "      <td>2002</td>\n",
       "      <td>manual</td>\n",
       "      <td>100</td>\n",
       "      <td>golf</td>\n",
       "      <td>150000</td>\n",
       "      <td>6</td>\n",
       "      <td>gasoline</td>\n",
       "      <td>volkswagen</td>\n",
       "      <td>NaN</td>\n",
       "      <td>20/03/2016 00:00</td>\n",
       "      <td>0</td>\n",
       "      <td>40764</td>\n",
       "      <td>24/03/2016 12:45</td>\n",
       "    </tr>\n",
       "  </tbody>\n",
       "</table>\n",
       "<p>347802 rows × 16 columns</p>\n",
       "</div>"
      ],
      "text/plain": [
       "            date_crawled  price vehicle_type  registration_year gearbox  \\\n",
       "0       24/03/2016 11:52    480          NaN               1993  manual   \n",
       "1       24/03/2016 10:58  18300        coupe               2011  manual   \n",
       "2       14/03/2016 12:52   9800          suv               2004    auto   \n",
       "3       17/03/2016 16:54   1500        small               2001  manual   \n",
       "4       31/03/2016 17:25   3600        small               2008  manual   \n",
       "...                  ...    ...          ...                ...     ...   \n",
       "354364  21/03/2016 09:50      0          NaN               2005  manual   \n",
       "354365  14/03/2016 17:48   2200          NaN               2005     NaN   \n",
       "354366  05/03/2016 19:56   1199  convertible               2000    auto   \n",
       "354367  19/03/2016 18:57   9200          bus               1996  manual   \n",
       "354368  20/03/2016 19:41   3400        wagon               2002  manual   \n",
       "\n",
       "        power        model  mileage  registration_month fuel_type  \\\n",
       "0           0         golf   150000                   0    petrol   \n",
       "1         190          NaN   125000                   5  gasoline   \n",
       "2         163        grand   125000                   8  gasoline   \n",
       "3          75         golf   150000                   6    petrol   \n",
       "4          69        fabia    90000                   7  gasoline   \n",
       "...       ...          ...      ...                 ...       ...   \n",
       "354364      0         colt   150000                   7    petrol   \n",
       "354365      0          NaN    20000                   1       NaN   \n",
       "354366    101       fortwo   125000                   3    petrol   \n",
       "354367    102  transporter   150000                   3  gasoline   \n",
       "354368    100         golf   150000                   6  gasoline   \n",
       "\n",
       "                 brand not_repaired      date_created  number_of_pictures  \\\n",
       "0           volkswagen          NaN  24/03/2016 00:00                   0   \n",
       "1                 audi          yes  24/03/2016 00:00                   0   \n",
       "2                 jeep          NaN  14/03/2016 00:00                   0   \n",
       "3           volkswagen           no  17/03/2016 00:00                   0   \n",
       "4                skoda           no  31/03/2016 00:00                   0   \n",
       "...                ...          ...               ...                 ...   \n",
       "354364      mitsubishi          yes  21/03/2016 00:00                   0   \n",
       "354365  sonstige_autos          NaN  14/03/2016 00:00                   0   \n",
       "354366           smart           no  05/03/2016 00:00                   0   \n",
       "354367      volkswagen           no  19/03/2016 00:00                   0   \n",
       "354368      volkswagen          NaN  20/03/2016 00:00                   0   \n",
       "\n",
       "        postal_code         last_seen  \n",
       "0             70435  07/04/2016 03:16  \n",
       "1             66954  07/04/2016 01:46  \n",
       "2             90480  05/04/2016 12:47  \n",
       "3             91074  17/03/2016 17:40  \n",
       "4             60437  06/04/2016 10:17  \n",
       "...             ...               ...  \n",
       "354364         2694  21/03/2016 10:42  \n",
       "354365        39576  06/04/2016 00:46  \n",
       "354366        26135  11/03/2016 18:17  \n",
       "354367        87439  07/04/2016 07:15  \n",
       "354368        40764  24/03/2016 12:45  \n",
       "\n",
       "[347802 rows x 16 columns]"
      ]
     },
     "execution_count": 8,
     "metadata": {},
     "output_type": "execute_result"
    }
   ],
   "source": [
    "q1_price = df['registration_year'].quantile(.25)\n",
    "q3_price = df['registration_year'].quantile(.75)\n",
    "IQR = q3_price - q1_price\n",
    "\n",
    "lower = q1_price - 1.5 * IQR\n",
    "upper = q3_price + 1.5 * IQR\n",
    "\n",
    "df_filtered = df[(df['registration_year'] >= lower) & (df['registration_year'] <= upper)]\n",
    "df_filtered"
   ]
  },
  {
   "cell_type": "markdown",
   "metadata": {},
   "source": [
    "### Removing Outliers from Power Column"
   ]
  },
  {
   "cell_type": "code",
   "execution_count": 9,
   "metadata": {
    "scrolled": true
   },
   "outputs": [
    {
     "data": {
      "text/html": [
       "<div>\n",
       "<style scoped>\n",
       "    .dataframe tbody tr th:only-of-type {\n",
       "        vertical-align: middle;\n",
       "    }\n",
       "\n",
       "    .dataframe tbody tr th {\n",
       "        vertical-align: top;\n",
       "    }\n",
       "\n",
       "    .dataframe thead th {\n",
       "        text-align: right;\n",
       "    }\n",
       "</style>\n",
       "<table border=\"1\" class=\"dataframe\">\n",
       "  <thead>\n",
       "    <tr style=\"text-align: right;\">\n",
       "      <th></th>\n",
       "      <th>date_crawled</th>\n",
       "      <th>price</th>\n",
       "      <th>vehicle_type</th>\n",
       "      <th>registration_year</th>\n",
       "      <th>gearbox</th>\n",
       "      <th>power</th>\n",
       "      <th>model</th>\n",
       "      <th>mileage</th>\n",
       "      <th>registration_month</th>\n",
       "      <th>fuel_type</th>\n",
       "      <th>brand</th>\n",
       "      <th>not_repaired</th>\n",
       "      <th>date_created</th>\n",
       "      <th>number_of_pictures</th>\n",
       "      <th>postal_code</th>\n",
       "      <th>last_seen</th>\n",
       "    </tr>\n",
       "  </thead>\n",
       "  <tbody>\n",
       "    <tr>\n",
       "      <th>0</th>\n",
       "      <td>24/03/2016 11:52</td>\n",
       "      <td>480</td>\n",
       "      <td>NaN</td>\n",
       "      <td>1993</td>\n",
       "      <td>manual</td>\n",
       "      <td>0</td>\n",
       "      <td>golf</td>\n",
       "      <td>150000</td>\n",
       "      <td>0</td>\n",
       "      <td>petrol</td>\n",
       "      <td>volkswagen</td>\n",
       "      <td>NaN</td>\n",
       "      <td>24/03/2016 00:00</td>\n",
       "      <td>0</td>\n",
       "      <td>70435</td>\n",
       "      <td>07/04/2016 03:16</td>\n",
       "    </tr>\n",
       "    <tr>\n",
       "      <th>1</th>\n",
       "      <td>24/03/2016 10:58</td>\n",
       "      <td>18300</td>\n",
       "      <td>coupe</td>\n",
       "      <td>2011</td>\n",
       "      <td>manual</td>\n",
       "      <td>190</td>\n",
       "      <td>NaN</td>\n",
       "      <td>125000</td>\n",
       "      <td>5</td>\n",
       "      <td>gasoline</td>\n",
       "      <td>audi</td>\n",
       "      <td>yes</td>\n",
       "      <td>24/03/2016 00:00</td>\n",
       "      <td>0</td>\n",
       "      <td>66954</td>\n",
       "      <td>07/04/2016 01:46</td>\n",
       "    </tr>\n",
       "    <tr>\n",
       "      <th>2</th>\n",
       "      <td>14/03/2016 12:52</td>\n",
       "      <td>9800</td>\n",
       "      <td>suv</td>\n",
       "      <td>2004</td>\n",
       "      <td>auto</td>\n",
       "      <td>163</td>\n",
       "      <td>grand</td>\n",
       "      <td>125000</td>\n",
       "      <td>8</td>\n",
       "      <td>gasoline</td>\n",
       "      <td>jeep</td>\n",
       "      <td>NaN</td>\n",
       "      <td>14/03/2016 00:00</td>\n",
       "      <td>0</td>\n",
       "      <td>90480</td>\n",
       "      <td>05/04/2016 12:47</td>\n",
       "    </tr>\n",
       "    <tr>\n",
       "      <th>3</th>\n",
       "      <td>17/03/2016 16:54</td>\n",
       "      <td>1500</td>\n",
       "      <td>small</td>\n",
       "      <td>2001</td>\n",
       "      <td>manual</td>\n",
       "      <td>75</td>\n",
       "      <td>golf</td>\n",
       "      <td>150000</td>\n",
       "      <td>6</td>\n",
       "      <td>petrol</td>\n",
       "      <td>volkswagen</td>\n",
       "      <td>no</td>\n",
       "      <td>17/03/2016 00:00</td>\n",
       "      <td>0</td>\n",
       "      <td>91074</td>\n",
       "      <td>17/03/2016 17:40</td>\n",
       "    </tr>\n",
       "    <tr>\n",
       "      <th>4</th>\n",
       "      <td>31/03/2016 17:25</td>\n",
       "      <td>3600</td>\n",
       "      <td>small</td>\n",
       "      <td>2008</td>\n",
       "      <td>manual</td>\n",
       "      <td>69</td>\n",
       "      <td>fabia</td>\n",
       "      <td>90000</td>\n",
       "      <td>7</td>\n",
       "      <td>gasoline</td>\n",
       "      <td>skoda</td>\n",
       "      <td>no</td>\n",
       "      <td>31/03/2016 00:00</td>\n",
       "      <td>0</td>\n",
       "      <td>60437</td>\n",
       "      <td>06/04/2016 10:17</td>\n",
       "    </tr>\n",
       "    <tr>\n",
       "      <th>...</th>\n",
       "      <td>...</td>\n",
       "      <td>...</td>\n",
       "      <td>...</td>\n",
       "      <td>...</td>\n",
       "      <td>...</td>\n",
       "      <td>...</td>\n",
       "      <td>...</td>\n",
       "      <td>...</td>\n",
       "      <td>...</td>\n",
       "      <td>...</td>\n",
       "      <td>...</td>\n",
       "      <td>...</td>\n",
       "      <td>...</td>\n",
       "      <td>...</td>\n",
       "      <td>...</td>\n",
       "      <td>...</td>\n",
       "    </tr>\n",
       "    <tr>\n",
       "      <th>354364</th>\n",
       "      <td>21/03/2016 09:50</td>\n",
       "      <td>0</td>\n",
       "      <td>NaN</td>\n",
       "      <td>2005</td>\n",
       "      <td>manual</td>\n",
       "      <td>0</td>\n",
       "      <td>colt</td>\n",
       "      <td>150000</td>\n",
       "      <td>7</td>\n",
       "      <td>petrol</td>\n",
       "      <td>mitsubishi</td>\n",
       "      <td>yes</td>\n",
       "      <td>21/03/2016 00:00</td>\n",
       "      <td>0</td>\n",
       "      <td>2694</td>\n",
       "      <td>21/03/2016 10:42</td>\n",
       "    </tr>\n",
       "    <tr>\n",
       "      <th>354365</th>\n",
       "      <td>14/03/2016 17:48</td>\n",
       "      <td>2200</td>\n",
       "      <td>NaN</td>\n",
       "      <td>2005</td>\n",
       "      <td>NaN</td>\n",
       "      <td>0</td>\n",
       "      <td>NaN</td>\n",
       "      <td>20000</td>\n",
       "      <td>1</td>\n",
       "      <td>NaN</td>\n",
       "      <td>sonstige_autos</td>\n",
       "      <td>NaN</td>\n",
       "      <td>14/03/2016 00:00</td>\n",
       "      <td>0</td>\n",
       "      <td>39576</td>\n",
       "      <td>06/04/2016 00:46</td>\n",
       "    </tr>\n",
       "    <tr>\n",
       "      <th>354366</th>\n",
       "      <td>05/03/2016 19:56</td>\n",
       "      <td>1199</td>\n",
       "      <td>convertible</td>\n",
       "      <td>2000</td>\n",
       "      <td>auto</td>\n",
       "      <td>101</td>\n",
       "      <td>fortwo</td>\n",
       "      <td>125000</td>\n",
       "      <td>3</td>\n",
       "      <td>petrol</td>\n",
       "      <td>smart</td>\n",
       "      <td>no</td>\n",
       "      <td>05/03/2016 00:00</td>\n",
       "      <td>0</td>\n",
       "      <td>26135</td>\n",
       "      <td>11/03/2016 18:17</td>\n",
       "    </tr>\n",
       "    <tr>\n",
       "      <th>354367</th>\n",
       "      <td>19/03/2016 18:57</td>\n",
       "      <td>9200</td>\n",
       "      <td>bus</td>\n",
       "      <td>1996</td>\n",
       "      <td>manual</td>\n",
       "      <td>102</td>\n",
       "      <td>transporter</td>\n",
       "      <td>150000</td>\n",
       "      <td>3</td>\n",
       "      <td>gasoline</td>\n",
       "      <td>volkswagen</td>\n",
       "      <td>no</td>\n",
       "      <td>19/03/2016 00:00</td>\n",
       "      <td>0</td>\n",
       "      <td>87439</td>\n",
       "      <td>07/04/2016 07:15</td>\n",
       "    </tr>\n",
       "    <tr>\n",
       "      <th>354368</th>\n",
       "      <td>20/03/2016 19:41</td>\n",
       "      <td>3400</td>\n",
       "      <td>wagon</td>\n",
       "      <td>2002</td>\n",
       "      <td>manual</td>\n",
       "      <td>100</td>\n",
       "      <td>golf</td>\n",
       "      <td>150000</td>\n",
       "      <td>6</td>\n",
       "      <td>gasoline</td>\n",
       "      <td>volkswagen</td>\n",
       "      <td>NaN</td>\n",
       "      <td>20/03/2016 00:00</td>\n",
       "      <td>0</td>\n",
       "      <td>40764</td>\n",
       "      <td>24/03/2016 12:45</td>\n",
       "    </tr>\n",
       "  </tbody>\n",
       "</table>\n",
       "<p>340616 rows × 16 columns</p>\n",
       "</div>"
      ],
      "text/plain": [
       "            date_crawled  price vehicle_type  registration_year gearbox  \\\n",
       "0       24/03/2016 11:52    480          NaN               1993  manual   \n",
       "1       24/03/2016 10:58  18300        coupe               2011  manual   \n",
       "2       14/03/2016 12:52   9800          suv               2004    auto   \n",
       "3       17/03/2016 16:54   1500        small               2001  manual   \n",
       "4       31/03/2016 17:25   3600        small               2008  manual   \n",
       "...                  ...    ...          ...                ...     ...   \n",
       "354364  21/03/2016 09:50      0          NaN               2005  manual   \n",
       "354365  14/03/2016 17:48   2200          NaN               2005     NaN   \n",
       "354366  05/03/2016 19:56   1199  convertible               2000    auto   \n",
       "354367  19/03/2016 18:57   9200          bus               1996  manual   \n",
       "354368  20/03/2016 19:41   3400        wagon               2002  manual   \n",
       "\n",
       "        power        model  mileage  registration_month fuel_type  \\\n",
       "0           0         golf   150000                   0    petrol   \n",
       "1         190          NaN   125000                   5  gasoline   \n",
       "2         163        grand   125000                   8  gasoline   \n",
       "3          75         golf   150000                   6    petrol   \n",
       "4          69        fabia    90000                   7  gasoline   \n",
       "...       ...          ...      ...                 ...       ...   \n",
       "354364      0         colt   150000                   7    petrol   \n",
       "354365      0          NaN    20000                   1       NaN   \n",
       "354366    101       fortwo   125000                   3    petrol   \n",
       "354367    102  transporter   150000                   3  gasoline   \n",
       "354368    100         golf   150000                   6  gasoline   \n",
       "\n",
       "                 brand not_repaired      date_created  number_of_pictures  \\\n",
       "0           volkswagen          NaN  24/03/2016 00:00                   0   \n",
       "1                 audi          yes  24/03/2016 00:00                   0   \n",
       "2                 jeep          NaN  14/03/2016 00:00                   0   \n",
       "3           volkswagen           no  17/03/2016 00:00                   0   \n",
       "4                skoda           no  31/03/2016 00:00                   0   \n",
       "...                ...          ...               ...                 ...   \n",
       "354364      mitsubishi          yes  21/03/2016 00:00                   0   \n",
       "354365  sonstige_autos          NaN  14/03/2016 00:00                   0   \n",
       "354366           smart           no  05/03/2016 00:00                   0   \n",
       "354367      volkswagen           no  19/03/2016 00:00                   0   \n",
       "354368      volkswagen          NaN  20/03/2016 00:00                   0   \n",
       "\n",
       "        postal_code         last_seen  \n",
       "0             70435  07/04/2016 03:16  \n",
       "1             66954  07/04/2016 01:46  \n",
       "2             90480  05/04/2016 12:47  \n",
       "3             91074  17/03/2016 17:40  \n",
       "4             60437  06/04/2016 10:17  \n",
       "...             ...               ...  \n",
       "354364         2694  21/03/2016 10:42  \n",
       "354365        39576  06/04/2016 00:46  \n",
       "354366        26135  11/03/2016 18:17  \n",
       "354367        87439  07/04/2016 07:15  \n",
       "354368        40764  24/03/2016 12:45  \n",
       "\n",
       "[340616 rows x 16 columns]"
      ]
     },
     "execution_count": 9,
     "metadata": {},
     "output_type": "execute_result"
    }
   ],
   "source": [
    "\n",
    "q1_power = df['power'].quantile(.25)\n",
    "q3_power = df['power'].quantile(.75)\n",
    "IQR_power = q3_power - q1_power\n",
    "\n",
    "lower_power = q1_power - 1.5 * IQR_power\n",
    "upper_power = q3_power + 1.5 * IQR_power\n",
    "\n",
    "new_df = df_filtered[(df_filtered['power'] >= lower_power) & (df_filtered['power'] <= upper_power)]\n",
    "new_df"
   ]
  },
  {
   "cell_type": "code",
   "execution_count": 10,
   "metadata": {
    "scrolled": true
   },
   "outputs": [
    {
     "name": "stdout",
     "output_type": "stream",
     "text": [
      "<class 'pandas.core.frame.DataFrame'>\n",
      "Int64Index: 340616 entries, 0 to 354368\n",
      "Data columns (total 16 columns):\n",
      " #   Column              Non-Null Count   Dtype \n",
      "---  ------              --------------   ----- \n",
      " 0   date_crawled        340616 non-null  object\n",
      " 1   price               340616 non-null  int64 \n",
      " 2   vehicle_type        304699 non-null  object\n",
      " 3   registration_year   340616 non-null  int64 \n",
      " 4   gearbox             322284 non-null  object\n",
      " 5   power               340616 non-null  int64 \n",
      " 6   model               322814 non-null  object\n",
      " 7   mileage             340616 non-null  int64 \n",
      " 8   registration_month  340616 non-null  int64 \n",
      " 9   fuel_type           309616 non-null  object\n",
      " 10  brand               340616 non-null  object\n",
      " 11  not_repaired        272736 non-null  object\n",
      " 12  date_created        340616 non-null  object\n",
      " 13  number_of_pictures  340616 non-null  int64 \n",
      " 14  postal_code         340616 non-null  int64 \n",
      " 15  last_seen           340616 non-null  object\n",
      "dtypes: int64(7), object(9)\n",
      "memory usage: 44.2+ MB\n"
     ]
    }
   ],
   "source": [
    "new_df.info()"
   ]
  },
  {
   "cell_type": "markdown",
   "metadata": {},
   "source": [
    "### Check For Missing Values"
   ]
  },
  {
   "cell_type": "code",
   "execution_count": 11,
   "metadata": {},
   "outputs": [
    {
     "data": {
      "text/plain": [
       "date_crawled              0\n",
       "price                     0\n",
       "vehicle_type          35917\n",
       "registration_year         0\n",
       "gearbox               18332\n",
       "power                     0\n",
       "model                 17802\n",
       "mileage                   0\n",
       "registration_month        0\n",
       "fuel_type             31000\n",
       "brand                     0\n",
       "not_repaired          67880\n",
       "date_created              0\n",
       "number_of_pictures        0\n",
       "postal_code               0\n",
       "last_seen                 0\n",
       "dtype: int64"
      ]
     },
     "execution_count": 11,
     "metadata": {},
     "output_type": "execute_result"
    }
   ],
   "source": [
    "new_df.isna().sum()"
   ]
  },
  {
   "cell_type": "code",
   "execution_count": 12,
   "metadata": {
    "scrolled": false
   },
   "outputs": [
    {
     "data": {
      "text/plain": [
       "array([nan, 'coupe', 'suv', 'small', 'sedan', 'convertible', 'bus',\n",
       "       'wagon', 'other'], dtype=object)"
      ]
     },
     "execution_count": 12,
     "metadata": {},
     "output_type": "execute_result"
    }
   ],
   "source": [
    "new_df['vehicle_type'].unique()"
   ]
  },
  {
   "cell_type": "code",
   "execution_count": 13,
   "metadata": {
    "scrolled": true
   },
   "outputs": [
    {
     "name": "stdout",
     "output_type": "stream",
     "text": [
      "volkswagen        9339\n",
      "opel              4828\n",
      "ford              2735\n",
      "bmw               2650\n",
      "renault           2344\n",
      "mercedes_benz     2300\n",
      "audi              2298\n",
      "fiat              1199\n",
      "peugeot            944\n",
      "sonstige_autos     844\n",
      "seat               821\n",
      "mazda              566\n",
      "citroen            512\n",
      "nissan             487\n",
      "smart              455\n",
      "honda              353\n",
      "mitsubishi         338\n",
      "toyota             337\n",
      "skoda              303\n",
      "hyundai            271\n",
      "alfa_romeo         236\n",
      "suzuki             223\n",
      "kia                204\n",
      "mini               197\n",
      "volvo              192\n",
      "chrysler           126\n",
      "chevrolet          110\n",
      "daihatsu           101\n",
      "trabant             91\n",
      "daewoo              78\n",
      "subaru              72\n",
      "rover               67\n",
      "lancia              55\n",
      "porsche             52\n",
      "dacia               50\n",
      "jeep                49\n",
      "land_rover          26\n",
      "lada                24\n",
      "jaguar              20\n",
      "saab                20\n",
      "Name: brand, dtype: int64\n"
     ]
    }
   ],
   "source": [
    "filtered_df = new_df[['vehicle_type', 'brand', 'model']]\n",
    "null_types = filtered_df[filtered_df['vehicle_type'].isnull()]\n",
    "print(null_types['brand'].value_counts())"
   ]
  },
  {
   "cell_type": "code",
   "execution_count": 14,
   "metadata": {
    "scrolled": true
   },
   "outputs": [
    {
     "data": {
      "text/plain": [
       "golf         3915\n",
       "polo         1585\n",
       "other        1584\n",
       "corsa        1564\n",
       "3er          1290\n",
       "             ... \n",
       "amarok          1\n",
       "crossfire       1\n",
       "b_max           1\n",
       "200             1\n",
       "q3              1\n",
       "Name: model, Length: 239, dtype: int64"
      ]
     },
     "execution_count": 14,
     "metadata": {},
     "output_type": "execute_result"
    }
   ],
   "source": [
    "null_types['model'].value_counts()"
   ]
  },
  {
   "cell_type": "markdown",
   "metadata": {},
   "source": [
    "By looking at the Vehicle Types with missing values, you can see that the top missing values are the Volkswagon Brand, and the top two missing values in the model column are the \"Golf\" and \"Polo\". Two vehicles created by Volkswagen. But still, it's not enough to where you can replace those missing values with Volkwagen brand and the models Golf and Polo."
   ]
  },
  {
   "cell_type": "code",
   "execution_count": 15,
   "metadata": {
    "scrolled": true
   },
   "outputs": [
    {
     "data": {
      "text/plain": [
       "array(['manual', 'auto', nan], dtype=object)"
      ]
     },
     "execution_count": 15,
     "metadata": {},
     "output_type": "execute_result"
    }
   ],
   "source": [
    "new_df['gearbox'].unique()"
   ]
  },
  {
   "cell_type": "code",
   "execution_count": 16,
   "metadata": {
    "scrolled": false
   },
   "outputs": [
    {
     "name": "stdout",
     "output_type": "stream",
     "text": [
      "['golf' nan 'grand' 'fabia' '3er' '2_reihe' 'c_max' '3_reihe' 'passat'\n",
      " 'navara' 'polo' 'twingo' 'a_klasse' 'scirocco' '5er' 'meriva' 'arosa'\n",
      " 'other' 'c4' 'civic' 'punto' 'e_klasse' 'clio' 'kadett' 'kangoo' 'corsa'\n",
      " 'one' 'fortwo' '1er' 'b_klasse' 'signum' 'astra' 'a8' 'jetta' 'fiesta'\n",
      " 'c_klasse' 'micra' 'vito' 'sprinter' '156' 'escort' 'forester' 'xc_reihe'\n",
      " 'scenic' 'a4' 'ka' 'a1' 'insignia' 'transporter' 'combo' 'focus' 'tt'\n",
      " 'a6' 'jazz' 'omega' 'slk' '80' '147' 'z_reihe' 'sportage' 'sorento' 'v40'\n",
      " 'ibiza' 'eos' 'touran' 'getz' 'a3' 'almera' 'megane' '7er' 'lupo' 'r19'\n",
      " 'zafira' 'mondeo' 'cordoba' 'colt' 'impreza' 'vectra' 'berlingo' 'tiguan'\n",
      " 'i_reihe' 'mustang' 'espace' 'sharan' '6_reihe' 'panda' 'up' 'seicento'\n",
      " 'ceed' '5_reihe' 'yeti' 'octavia' 'mii' 'rx_reihe' 'modus' 'fox' 'matiz'\n",
      " 'beetle' 'c1' 'rio' 'touareg' 'logan' 'caddy' 'spider' 'cuore' 's_max'\n",
      " 'a2' 'galaxy' 'c3' 'viano' '1_reihe' 'avensis' 'roomster' 'santa'\n",
      " 'cooper' '4_reihe' 'a5' '500' 'laguna' 'ptcruiser' 'clk' 'primera'\n",
      " 'x_reihe' 'exeo' '159' 'transit' 'juke' 'qashqai' 'carisma' 's_klasse'\n",
      " 'accord' 'corolla' 'lanos' 'phaeton' 'verso' 'swift' 'rav' 'picanto'\n",
      " 'boxster' 'kalos' 'superb' 'stilo' 'alhambra' 'mx_reihe' 'roadster'\n",
      " 'ypsilon' 'cayenne' 'galant' 'justy' 'leon' '90' 'sirion' 'crossfire'\n",
      " 'agila' 'duster' 'cr_reihe' 'v50' 'c_reihe' 'v_klasse' 'm_klasse' 'yaris'\n",
      " 'c5' 'aygo' 'carnival' 'fusion' 'bora' 'forfour' '100' 'cl' 'tigra'\n",
      " '300c' 'spark' 'v70' 'kuga' 'x_type' 'ducato' 's_type' 'x_trail' 'toledo'\n",
      " 'altea' 'voyager' 'calibra' 'bravo' 'antara' 'tucson' 'citigo' 'jimny'\n",
      " 'wrangler' 'lybra' 'q7' 'lancer' 'captiva' 'sl' 'c2' 'discovery'\n",
      " 'freelander' 'sandero' 'note' '900' 'cherokee' 'clubman' 'samara'\n",
      " 'defender' '601' 'cx_reihe' 'legacy' 'pajero' 'auris' 'cc' 'niva' 's60'\n",
      " 'nubira' 'vivaro' 'g_klasse' 'lodgy' '850' 'range_rover' 'q3' 'glk'\n",
      " 'charade' 'croma' '911' 'outlander' 'kaefer' 'doblo' 'musa' 'move' '9000'\n",
      " 'v60' '145' 'aveo' 'b_max' '200' 'range_rover_sport' 'terios' 'm_reihe'\n",
      " '6er' 'rangerover' 'q5' 'materia' 'delta' 'gl' 'kalina' 'amarok'\n",
      " 'elefantino' 'i3' 'serie_2' 'kappa']\n",
      "\n",
      "\n",
      "\n"
     ]
    }
   ],
   "source": [
    "print(new_df['model'].unique())\n",
    "print()\n",
    "print()\n",
    "print()\n",
    "number_of_models = len(new_df['model'].unique())\n"
   ]
  },
  {
   "cell_type": "code",
   "execution_count": 17,
   "metadata": {},
   "outputs": [
    {
     "name": "stdout",
     "output_type": "stream",
     "text": [
      "\n",
      "There are a total of 248 in the model column, \n",
      "since there's too many different values, and this feature won't change\n",
      "the outcome of the manchine learning model, we are going to delete it.\n",
      "      \n"
     ]
    }
   ],
   "source": [
    "print(f\"\"\"\n",
    "There are a total of {number_of_models} in the model column, \n",
    "since there's too many different values, and this feature won't change\n",
    "the outcome of the manchine learning model, we are going to delete it.\n",
    "      \"\"\")"
   ]
  },
  {
   "cell_type": "code",
   "execution_count": 18,
   "metadata": {
    "scrolled": true
   },
   "outputs": [
    {
     "data": {
      "text/plain": [
       "array(['petrol', 'gasoline', nan, 'lpg', 'other', 'hybrid', 'cng',\n",
       "       'electric'], dtype=object)"
      ]
     },
     "execution_count": 18,
     "metadata": {},
     "output_type": "execute_result"
    }
   ],
   "source": [
    "new_df['fuel_type'].unique()"
   ]
  },
  {
   "cell_type": "code",
   "execution_count": 19,
   "metadata": {
    "scrolled": true
   },
   "outputs": [
    {
     "data": {
      "text/plain": [
       "array([nan, 'yes', 'no'], dtype=object)"
      ]
     },
     "execution_count": 19,
     "metadata": {},
     "output_type": "execute_result"
    }
   ],
   "source": [
    "new_df['not_repaired'].unique()"
   ]
  },
  {
   "cell_type": "markdown",
   "metadata": {},
   "source": [
    "After determining that there is no way to add a actual value to the \"NaN\" value, and the \"Other\" value, we are going to \n",
    "replace those values with the value: \"unkown\". The Column for Vehicle Model will be deleted from the dataframe."
   ]
  },
  {
   "cell_type": "markdown",
   "metadata": {},
   "source": [
    "### Filling Missing Values with \"Unkown\""
   ]
  },
  {
   "cell_type": "markdown",
   "metadata": {},
   "source": [
    "not repaired, fuel_type, vehicle type, gearbox"
   ]
  },
  {
   "cell_type": "code",
   "execution_count": 21,
   "metadata": {
    "scrolled": true
   },
   "outputs": [
    {
     "data": {
      "text/plain": [
       "date_crawled          0\n",
       "price                 0\n",
       "vehicle_type          0\n",
       "registration_year     0\n",
       "gearbox               0\n",
       "power                 0\n",
       "model                 0\n",
       "mileage               0\n",
       "registration_month    0\n",
       "fuel_type             0\n",
       "brand                 0\n",
       "not_repaired          0\n",
       "date_created          0\n",
       "number_of_pictures    0\n",
       "postal_code           0\n",
       "last_seen             0\n",
       "dtype: int64"
      ]
     },
     "execution_count": 21,
     "metadata": {},
     "output_type": "execute_result"
    }
   ],
   "source": [
    "new_df.loc[new_df['vehicle_type'].isna(), 'vehicle_type'] = 'unknown'\n",
    "new_df.loc[new_df['model'].isna(), 'model'] = 'unknown'\n",
    "new_df.loc[new_df['not_repaired'].isna(), 'not_repaired'] = 'unknown'\n",
    "new_df.loc[new_df['fuel_type'].isna(), 'fuel_type'] = 'unknown'\n",
    "new_df.loc[new_df['gearbox'].isna(), 'gearbox'] = 'unknown'\n",
    "new_df.isna().sum()"
   ]
  },
  {
   "cell_type": "code",
   "execution_count": 22,
   "metadata": {
    "scrolled": true
   },
   "outputs": [
    {
     "name": "stdout",
     "output_type": "stream",
     "text": [
      "['manual' 'auto' 'unknown']\n",
      "['unknown' 'coupe' 'suv' 'small' 'sedan' 'convertible' 'bus' 'wagon'\n",
      " 'other']\n",
      "['petrol' 'gasoline' 'unknown' 'lpg' 'other' 'hybrid' 'cng' 'electric']\n",
      "['unknown' 'yes' 'no']\n"
     ]
    }
   ],
   "source": [
    "print(new_df['gearbox'].unique())\n",
    "print(new_df['vehicle_type'].unique())\n",
    "print(new_df['fuel_type'].unique())\n",
    "print(new_df['not_repaired'].unique())"
   ]
  },
  {
   "cell_type": "markdown",
   "metadata": {},
   "source": [
    "Now that we filled the missing values with \"unknown\", you can still see there is another value: \"other\". This value we must also change to \"unknown\", since we dont know what the value is here."
   ]
  },
  {
   "cell_type": "markdown",
   "metadata": {},
   "source": [
    "### Filling 'Other\" Value with 'Unknown'"
   ]
  },
  {
   "cell_type": "code",
   "execution_count": 23,
   "metadata": {},
   "outputs": [
    {
     "data": {
      "text/plain": [
       "array(['unknown', 'coupe', 'suv', 'small', 'sedan', 'convertible', 'bus',\n",
       "       'wagon'], dtype=object)"
      ]
     },
     "execution_count": 23,
     "metadata": {},
     "output_type": "execute_result"
    }
   ],
   "source": [
    "new_df.loc[new_df['vehicle_type'] == 'other', 'vehicle_type'] = 'unknown'\n",
    "new_df['vehicle_type'].unique()"
   ]
  },
  {
   "cell_type": "code",
   "execution_count": 24,
   "metadata": {
    "scrolled": false
   },
   "outputs": [
    {
     "data": {
      "text/plain": [
       "array(['petrol', 'gasoline', 'unknown', 'lpg', 'hybrid', 'cng',\n",
       "       'electric'], dtype=object)"
      ]
     },
     "execution_count": 24,
     "metadata": {},
     "output_type": "execute_result"
    }
   ],
   "source": [
    "new_df.loc[new_df['fuel_type'] == 'other', 'fuel_type'] = 'unknown'\n",
    "new_df['fuel_type'].unique()"
   ]
  },
  {
   "cell_type": "markdown",
   "metadata": {},
   "source": [
    "### Removing Columns we don't need in the dataframe"
   ]
  },
  {
   "cell_type": "code",
   "execution_count": 25,
   "metadata": {},
   "outputs": [
    {
     "data": {
      "text/plain": [
       "Index(['date_crawled', 'price', 'vehicle_type', 'registration_year', 'gearbox',\n",
       "       'power', 'model', 'mileage', 'registration_month', 'fuel_type', 'brand',\n",
       "       'not_repaired', 'date_created', 'number_of_pictures', 'postal_code',\n",
       "       'last_seen'],\n",
       "      dtype='object')"
      ]
     },
     "execution_count": 25,
     "metadata": {},
     "output_type": "execute_result"
    }
   ],
   "source": [
    "new_df.columns"
   ]
  },
  {
   "cell_type": "code",
   "execution_count": 26,
   "metadata": {
    "scrolled": true
   },
   "outputs": [
    {
     "data": {
      "text/html": [
       "<div>\n",
       "<style scoped>\n",
       "    .dataframe tbody tr th:only-of-type {\n",
       "        vertical-align: middle;\n",
       "    }\n",
       "\n",
       "    .dataframe tbody tr th {\n",
       "        vertical-align: top;\n",
       "    }\n",
       "\n",
       "    .dataframe thead th {\n",
       "        text-align: right;\n",
       "    }\n",
       "</style>\n",
       "<table border=\"1\" class=\"dataframe\">\n",
       "  <thead>\n",
       "    <tr style=\"text-align: right;\">\n",
       "      <th></th>\n",
       "      <th>price</th>\n",
       "      <th>vehicle_type</th>\n",
       "      <th>registration_year</th>\n",
       "      <th>gearbox</th>\n",
       "      <th>power</th>\n",
       "      <th>mileage</th>\n",
       "      <th>fuel_type</th>\n",
       "      <th>brand</th>\n",
       "      <th>not_repaired</th>\n",
       "    </tr>\n",
       "  </thead>\n",
       "  <tbody>\n",
       "    <tr>\n",
       "      <th>0</th>\n",
       "      <td>480</td>\n",
       "      <td>unknown</td>\n",
       "      <td>1993</td>\n",
       "      <td>manual</td>\n",
       "      <td>0</td>\n",
       "      <td>150000</td>\n",
       "      <td>petrol</td>\n",
       "      <td>volkswagen</td>\n",
       "      <td>unknown</td>\n",
       "    </tr>\n",
       "    <tr>\n",
       "      <th>1</th>\n",
       "      <td>18300</td>\n",
       "      <td>coupe</td>\n",
       "      <td>2011</td>\n",
       "      <td>manual</td>\n",
       "      <td>190</td>\n",
       "      <td>125000</td>\n",
       "      <td>gasoline</td>\n",
       "      <td>audi</td>\n",
       "      <td>yes</td>\n",
       "    </tr>\n",
       "    <tr>\n",
       "      <th>2</th>\n",
       "      <td>9800</td>\n",
       "      <td>suv</td>\n",
       "      <td>2004</td>\n",
       "      <td>auto</td>\n",
       "      <td>163</td>\n",
       "      <td>125000</td>\n",
       "      <td>gasoline</td>\n",
       "      <td>jeep</td>\n",
       "      <td>unknown</td>\n",
       "    </tr>\n",
       "    <tr>\n",
       "      <th>3</th>\n",
       "      <td>1500</td>\n",
       "      <td>small</td>\n",
       "      <td>2001</td>\n",
       "      <td>manual</td>\n",
       "      <td>75</td>\n",
       "      <td>150000</td>\n",
       "      <td>petrol</td>\n",
       "      <td>volkswagen</td>\n",
       "      <td>no</td>\n",
       "    </tr>\n",
       "    <tr>\n",
       "      <th>4</th>\n",
       "      <td>3600</td>\n",
       "      <td>small</td>\n",
       "      <td>2008</td>\n",
       "      <td>manual</td>\n",
       "      <td>69</td>\n",
       "      <td>90000</td>\n",
       "      <td>gasoline</td>\n",
       "      <td>skoda</td>\n",
       "      <td>no</td>\n",
       "    </tr>\n",
       "    <tr>\n",
       "      <th>...</th>\n",
       "      <td>...</td>\n",
       "      <td>...</td>\n",
       "      <td>...</td>\n",
       "      <td>...</td>\n",
       "      <td>...</td>\n",
       "      <td>...</td>\n",
       "      <td>...</td>\n",
       "      <td>...</td>\n",
       "      <td>...</td>\n",
       "    </tr>\n",
       "    <tr>\n",
       "      <th>354364</th>\n",
       "      <td>0</td>\n",
       "      <td>unknown</td>\n",
       "      <td>2005</td>\n",
       "      <td>manual</td>\n",
       "      <td>0</td>\n",
       "      <td>150000</td>\n",
       "      <td>petrol</td>\n",
       "      <td>mitsubishi</td>\n",
       "      <td>yes</td>\n",
       "    </tr>\n",
       "    <tr>\n",
       "      <th>354365</th>\n",
       "      <td>2200</td>\n",
       "      <td>unknown</td>\n",
       "      <td>2005</td>\n",
       "      <td>unknown</td>\n",
       "      <td>0</td>\n",
       "      <td>20000</td>\n",
       "      <td>unknown</td>\n",
       "      <td>sonstige_autos</td>\n",
       "      <td>unknown</td>\n",
       "    </tr>\n",
       "    <tr>\n",
       "      <th>354366</th>\n",
       "      <td>1199</td>\n",
       "      <td>convertible</td>\n",
       "      <td>2000</td>\n",
       "      <td>auto</td>\n",
       "      <td>101</td>\n",
       "      <td>125000</td>\n",
       "      <td>petrol</td>\n",
       "      <td>smart</td>\n",
       "      <td>no</td>\n",
       "    </tr>\n",
       "    <tr>\n",
       "      <th>354367</th>\n",
       "      <td>9200</td>\n",
       "      <td>bus</td>\n",
       "      <td>1996</td>\n",
       "      <td>manual</td>\n",
       "      <td>102</td>\n",
       "      <td>150000</td>\n",
       "      <td>gasoline</td>\n",
       "      <td>volkswagen</td>\n",
       "      <td>no</td>\n",
       "    </tr>\n",
       "    <tr>\n",
       "      <th>354368</th>\n",
       "      <td>3400</td>\n",
       "      <td>wagon</td>\n",
       "      <td>2002</td>\n",
       "      <td>manual</td>\n",
       "      <td>100</td>\n",
       "      <td>150000</td>\n",
       "      <td>gasoline</td>\n",
       "      <td>volkswagen</td>\n",
       "      <td>unknown</td>\n",
       "    </tr>\n",
       "  </tbody>\n",
       "</table>\n",
       "<p>340616 rows × 9 columns</p>\n",
       "</div>"
      ],
      "text/plain": [
       "        price vehicle_type  registration_year  gearbox  power  mileage  \\\n",
       "0         480      unknown               1993   manual      0   150000   \n",
       "1       18300        coupe               2011   manual    190   125000   \n",
       "2        9800          suv               2004     auto    163   125000   \n",
       "3        1500        small               2001   manual     75   150000   \n",
       "4        3600        small               2008   manual     69    90000   \n",
       "...       ...          ...                ...      ...    ...      ...   \n",
       "354364      0      unknown               2005   manual      0   150000   \n",
       "354365   2200      unknown               2005  unknown      0    20000   \n",
       "354366   1199  convertible               2000     auto    101   125000   \n",
       "354367   9200          bus               1996   manual    102   150000   \n",
       "354368   3400        wagon               2002   manual    100   150000   \n",
       "\n",
       "       fuel_type           brand not_repaired  \n",
       "0         petrol      volkswagen      unknown  \n",
       "1       gasoline            audi          yes  \n",
       "2       gasoline            jeep      unknown  \n",
       "3         petrol      volkswagen           no  \n",
       "4       gasoline           skoda           no  \n",
       "...          ...             ...          ...  \n",
       "354364    petrol      mitsubishi          yes  \n",
       "354365   unknown  sonstige_autos      unknown  \n",
       "354366    petrol           smart           no  \n",
       "354367  gasoline      volkswagen           no  \n",
       "354368  gasoline      volkswagen      unknown  \n",
       "\n",
       "[340616 rows x 9 columns]"
      ]
     },
     "execution_count": 26,
     "metadata": {},
     "output_type": "execute_result"
    }
   ],
   "source": [
    "dataframe = new_df.drop(['date_crawled', 'registration_month', 'date_created', 'number_of_pictures', 'postal_code', 'last_seen', 'model'], axis=1)\n",
    "dataframe"
   ]
  },
  {
   "cell_type": "markdown",
   "metadata": {},
   "source": [
    "### Plots"
   ]
  },
  {
   "cell_type": "code",
   "execution_count": 27,
   "metadata": {
    "scrolled": true
   },
   "outputs": [
    {
     "data": {
      "image/png": "[encoded data removed]",
      "text/plain": [
       "<Figure size 640x480 with 1 Axes>"
      ]
     },
     "metadata": {},
     "output_type": "display_data"
    }
   ],
   "source": [
    "new_df['registration_year'].plot(\n",
    "kind='box')\n",
    "plt.title(\"Registration Year BoxPlot\")\n",
    "plt.show()"
   ]
  },
  {
   "cell_type": "markdown",
   "metadata": {},
   "source": [
    "Looking at the boxplo for the registration year column, you can see that all the years in the dataframe are spread out evenly. There are no outliers in the years."
   ]
  },
  {
   "cell_type": "code",
   "execution_count": 28,
   "metadata": {
    "scrolled": true
   },
   "outputs": [
    {
     "data": {
      "image/png": "[encoded data removed]",
      "text/plain": [
       "<Figure size 640x480 with 1 Axes>"
      ]
     },
     "metadata": {},
     "output_type": "display_data"
    }
   ],
   "source": [
    "new_df['price'].plot(\n",
    "kind='hist')\n",
    "plt.title(\"Price Histogram\")\n",
    "plt.ylabel(\"Amount of Vehicles\")\n",
    "plt.xlabel(\"Price of Vehicles\")\n",
    "plt.show()"
   ]
  },
  {
   "cell_type": "markdown",
   "metadata": {},
   "source": [
    "The histogram for the price column is skewed to the right, meaning, there are more vehicles with a lower price than vehicles with a higher price tag."
   ]
  },
  {
   "cell_type": "markdown",
   "metadata": {},
   "source": [
    "### Comparing Price vs Year of Registration"
   ]
  },
  {
   "cell_type": "markdown",
   "metadata": {},
   "source": [
    "Im going to compare the price and the registration year columns, but first, we're going to drop the duplicated years to get the first occurence of each year and see how the prices increase or decrease as time progresses."
   ]
  },
  {
   "cell_type": "code",
   "execution_count": 29,
   "metadata": {},
   "outputs": [
    {
     "name": "stdout",
     "output_type": "stream",
     "text": [
      "            date_crawled  price vehicle_type  registration_year  gearbox  \\\n",
      "243013  16/03/2016 16:56    999        sedan               1986   manual   \n",
      "328164  19/03/2016 12:38   7500        small               1987   manual   \n",
      "15440   01/04/2016 21:49   4900        sedan               1988   manual   \n",
      "298578  09/03/2016 20:54   9000  convertible               1989   manual   \n",
      "148051  04/04/2016 18:43    900        wagon               1990   manual   \n",
      "171762  10/03/2016 00:58    800        wagon               1991   manual   \n",
      "167608  09/03/2016 20:42   1000        small               1992   manual   \n",
      "78774   31/03/2016 04:03   3200        coupe               1993   manual   \n",
      "343326  28/03/2016 19:37   1550  convertible               1994   manual   \n",
      "209819  08/03/2016 16:56    450      unknown               1995  unknown   \n",
      "203661  28/03/2016 11:54   1700        sedan               1996     auto   \n",
      "284468  30/03/2016 21:52   1250        wagon               1997   manual   \n",
      "170964  14/03/2016 16:51      0        small               1998   manual   \n",
      "320162  19/03/2016 13:44    699        wagon               1999   manual   \n",
      "119049  19/03/2016 16:58   1390          bus               2000   manual   \n",
      "32151   10/03/2016 12:52   1550        small               2001   manual   \n",
      "241524  10/03/2016 02:02   5490        wagon               2002   manual   \n",
      "216696  08/03/2016 08:56   1300        small               2003   manual   \n",
      "343175  19/03/2016 14:49   1700        sedan               2004   manual   \n",
      "247734  05/04/2016 13:25   8900        wagon               2005   manual   \n",
      "163203  04/04/2016 21:51   4500        sedan               2006   manual   \n",
      "5450    30/03/2016 16:49   7000        wagon               2007   manual   \n",
      "300579  02/04/2016 22:45  13900  convertible               2008     auto   \n",
      "177512  19/03/2016 22:51   9299        sedan               2009     auto   \n",
      "304045  01/04/2016 19:54  12800        wagon               2010     auto   \n",
      "341826  05/03/2016 17:50   8450          bus               2011   manual   \n",
      "25334   21/03/2016 14:49  11400        wagon               2012   manual   \n",
      "131677  01/04/2016 19:39  19950        sedan               2013   manual   \n",
      "198755  31/03/2016 10:51   8999        small               2014   manual   \n",
      "201995  21/03/2016 18:39    950      unknown               2015  unknown   \n",
      "353408  21/03/2016 16:53    490      unknown               2016   manual   \n",
      "171803  16/03/2016 13:57   3400      unknown               2017   manual   \n",
      "160112  09/03/2016 08:52   1180      unknown               2018  unknown   \n",
      "30319   07/03/2016 07:36   5500      unknown               2019   manual   \n",
      "\n",
      "        power        model  mileage  registration_month fuel_type  \\\n",
      "243013     54        jetta   150000                   3  gasoline   \n",
      "328164     90         golf   150000                  11    petrol   \n",
      "15440     170          3er   150000                   4    petrol   \n",
      "298578    200     rx_reihe   125000                   6    petrol   \n",
      "148051    116      unknown    20000                   0    petrol   \n",
      "171762     79        other   150000                   4  gasoline   \n",
      "167608     45        other   150000                   4    petrol   \n",
      "78774     150        other   150000                   6    petrol   \n",
      "343326    150      unknown   150000                   5    petrol   \n",
      "209819      0  transporter     5000                   0   unknown   \n",
      "203661    136     e_klasse   150000                   6    petrol   \n",
      "284468    101       passat   150000                   0    petrol   \n",
      "170964      0        corsa   150000                   5    petrol   \n",
      "320162    100      impreza   150000                   4    petrol   \n",
      "119049     75       kangoo   150000                   1    petrol   \n",
      "32151      75        corsa   150000                   1    petrol   \n",
      "241524    231          5er   150000                   6   unknown   \n",
      "216696     58       twingo   150000                   1    petrol   \n",
      "343175      0       mondeo   150000                   8  gasoline   \n",
      "247734    179           a6   150000                  12  gasoline   \n",
      "163203    105         golf   150000                   9  gasoline   \n",
      "5450      163           a4   150000                   5    petrol   \n",
      "300579    163          slk   125000                   6    petrol   \n",
      "177512    110         golf   150000                   3  gasoline   \n",
      "304045    143           a4   150000                   5  gasoline   \n",
      "341826    102        caddy   150000                   9  gasoline   \n",
      "25334     105      octavia   150000                   4  gasoline   \n",
      "131677    140           cc    40000                  10  gasoline   \n",
      "198755     75         polo    60000                   3  gasoline   \n",
      "201995      0        other   150000                   0   unknown   \n",
      "353408      0      unknown     5000                   0    petrol   \n",
      "171803    120        punto   125000                   9   unknown   \n",
      "160112     50         polo   150000                   3   unknown   \n",
      "30319       0         ceed   125000                   0   unknown   \n",
      "\n",
      "                brand not_repaired      date_created  number_of_pictures  \\\n",
      "243013     volkswagen           no  16/03/2016 00:00                   0   \n",
      "328164     volkswagen           no  19/03/2016 00:00                   0   \n",
      "15440             bmw           no  01/04/2016 00:00                   0   \n",
      "298578          mazda           no  09/03/2016 00:00                   0   \n",
      "148051     volkswagen      unknown  04/04/2016 00:00                   0   \n",
      "171762          volvo           no  09/03/2016 00:00                   0   \n",
      "167608           fiat      unknown  09/03/2016 00:00                   0   \n",
      "78774   mercedes_benz           no  31/03/2016 00:00                   0   \n",
      "343326            bmw      unknown  28/03/2016 00:00                   0   \n",
      "209819     volkswagen      unknown  08/03/2016 00:00                   0   \n",
      "203661  mercedes_benz      unknown  28/03/2016 00:00                   0   \n",
      "284468     volkswagen           no  30/03/2016 00:00                   0   \n",
      "170964           opel           no  14/03/2016 00:00                   0   \n",
      "320162         subaru           no  19/03/2016 00:00                   0   \n",
      "119049        renault           no  19/03/2016 00:00                   0   \n",
      "32151            opel           no  10/03/2016 00:00                   0   \n",
      "241524            bmw           no  10/03/2016 00:00                   0   \n",
      "216696        renault           no  08/03/2016 00:00                   0   \n",
      "343175           ford      unknown  19/03/2016 00:00                   0   \n",
      "247734           audi           no  05/04/2016 00:00                   0   \n",
      "163203     volkswagen           no  04/04/2016 00:00                   0   \n",
      "5450             audi           no  30/03/2016 00:00                   0   \n",
      "300579  mercedes_benz           no  02/04/2016 00:00                   0   \n",
      "177512     volkswagen           no  19/03/2016 00:00                   0   \n",
      "304045           audi           no  01/04/2016 00:00                   0   \n",
      "341826     volkswagen          yes  05/03/2016 00:00                   0   \n",
      "25334           skoda           no  21/03/2016 00:00                   0   \n",
      "131677     volkswagen           no  01/04/2016 00:00                   0   \n",
      "198755     volkswagen           no  31/03/2016 00:00                   0   \n",
      "201995        citroen      unknown  21/03/2016 00:00                   0   \n",
      "353408        renault      unknown  21/03/2016 00:00                   0   \n",
      "171803           fiat      unknown  16/03/2016 00:00                   0   \n",
      "160112     volkswagen      unknown  09/03/2016 00:00                   0   \n",
      "30319             kia      unknown  07/03/2016 00:00                   0   \n",
      "\n",
      "        postal_code         last_seen  \n",
      "243013        29646  25/03/2016 17:51  \n",
      "328164        33803  06/04/2016 10:45  \n",
      "15440         12163  03/04/2016 19:17  \n",
      "298578         1917  05/04/2016 18:46  \n",
      "148051        12679  06/04/2016 20:44  \n",
      "171762        48249  15/03/2016 12:46  \n",
      "167608        89358  05/04/2016 16:47  \n",
      "78774         34123  06/04/2016 02:16  \n",
      "343326        89081  03/04/2016 00:21  \n",
      "209819        26131  05/04/2016 00:17  \n",
      "203661        12627  28/03/2016 11:54  \n",
      "284468        72172  05/04/2016 12:20  \n",
      "170964        71638  05/04/2016 21:18  \n",
      "320162        57489  04/04/2016 17:17  \n",
      "119049        37643  30/03/2016 12:19  \n",
      "32151         29221  20/03/2016 14:45  \n",
      "241524         1640  05/04/2016 19:18  \n",
      "216696        72474  06/04/2016 20:19  \n",
      "343175        44267  19/03/2016 14:49  \n",
      "247734        65795  05/04/2016 13:25  \n",
      "163203        84036  07/04/2016 00:45  \n",
      "5450          34212  07/04/2016 07:45  \n",
      "300579        42781  06/04/2016 23:45  \n",
      "177512        31848  05/04/2016 22:44  \n",
      "304045        36364  05/04/2016 16:45  \n",
      "341826        73117  17/03/2016 01:17  \n",
      "25334         95632  06/04/2016 12:15  \n",
      "131677        29392  05/04/2016 15:44  \n",
      "198755        44269  06/04/2016 03:46  \n",
      "201995        66453  06/04/2016 19:47  \n",
      "353408        50321  28/03/2016 13:44  \n",
      "171803        72622  17/03/2016 11:46  \n",
      "160112        56727  10/03/2016 13:16  \n",
      "30319         65239  11/03/2016 06:44  \n"
     ]
    }
   ],
   "source": [
    "# Sort the DataFrame by 'registration_year'\n",
    "sorted_df = new_df.sort_values(by='registration_year')\n",
    "\n",
    "# Drop duplicates, keeping only the first occurrence of each registration year\n",
    "single_sample_df = sorted_df.drop_duplicates(subset=['registration_year'], keep='first')\n",
    "\n",
    "# Verify the result\n",
    "print(single_sample_df)"
   ]
  },
  {
   "cell_type": "code",
   "execution_count": 30,
   "metadata": {},
   "outputs": [
    {
     "data": {
      "image/png": "[encoded data removed]",
      "text/plain": [
       "<Figure size 640x480 with 1 Axes>"
      ]
     },
     "metadata": {},
     "output_type": "display_data"
    }
   ],
   "source": [
    "comparison_df = single_sample_df[['price', 'registration_year']]\n",
    "x = comparison_df['registration_year']\n",
    "y = comparison_df['price']\n",
    "plt.plot(x, y)\n",
    "plt.title('Price vs Year Comparison')\n",
    "plt.ylabel(\"Price\")\n",
    "plt.xlabel(\"Year of Registration\")\n",
    "plt.show()"
   ]
  },
  {
   "cell_type": "markdown",
   "metadata": {},
   "source": [
    "After comparing the price of the vehicles versus the year of registration, you can see that in the beggining, the prices skyrocket, the come back down during 1990 and stays roughly the same up until the year 2000 where it starts going up until year 2014, when they come back down."
   ]
  },
  {
   "cell_type": "markdown",
   "metadata": {},
   "source": [
    "### GearBox Plot"
   ]
  },
  {
   "cell_type": "code",
   "execution_count": 31,
   "metadata": {},
   "outputs": [
    {
     "data": {
      "text/plain": [
       "manual     262452\n",
       "auto        59832\n",
       "unknown     18332\n",
       "Name: gearbox, dtype: int64"
      ]
     },
     "execution_count": 31,
     "metadata": {},
     "output_type": "execute_result"
    }
   ],
   "source": [
    "new_df['gearbox'].value_counts()"
   ]
  },
  {
   "cell_type": "code",
   "execution_count": 32,
   "metadata": {
    "scrolled": true
   },
   "outputs": [
    {
     "data": {
      "image/png": "[encoded data removed]",
      "text/plain": [
       "<Figure size 640x480 with 1 Axes>"
      ]
     },
     "metadata": {},
     "output_type": "display_data"
    }
   ],
   "source": [
    "count_plot = sns.countplot(new_df['gearbox'])\n",
    "count_plot.set_title('Balance of Transmission')\n",
    "count_plot.set_ylabel(\"Frequency of Each Transmission\")\n",
    "count_plot.set_xlabel(\"Transmission\")\n",
    "\n",
    "plt.show()"
   ]
  },
  {
   "cell_type": "markdown",
   "metadata": {},
   "source": [
    "Taking into consideration the types of transmissions in the vehicles in the dataframe, you can see that there is an imbalance of information, most of the vehicles being of manual transmission."
   ]
  },
  {
   "cell_type": "markdown",
   "metadata": {},
   "source": [
    "### Encoding our Dataframe"
   ]
  },
  {
   "cell_type": "code",
   "execution_count": 33,
   "metadata": {
    "scrolled": true
   },
   "outputs": [
    {
     "data": {
      "text/html": [
       "<div>\n",
       "<style scoped>\n",
       "    .dataframe tbody tr th:only-of-type {\n",
       "        vertical-align: middle;\n",
       "    }\n",
       "\n",
       "    .dataframe tbody tr th {\n",
       "        vertical-align: top;\n",
       "    }\n",
       "\n",
       "    .dataframe thead th {\n",
       "        text-align: right;\n",
       "    }\n",
       "</style>\n",
       "<table border=\"1\" class=\"dataframe\">\n",
       "  <thead>\n",
       "    <tr style=\"text-align: right;\">\n",
       "      <th></th>\n",
       "      <th>price</th>\n",
       "      <th>registration_year</th>\n",
       "      <th>power</th>\n",
       "      <th>mileage</th>\n",
       "      <th>vehicle_type_convertible</th>\n",
       "      <th>vehicle_type_coupe</th>\n",
       "      <th>vehicle_type_sedan</th>\n",
       "      <th>vehicle_type_small</th>\n",
       "      <th>vehicle_type_suv</th>\n",
       "      <th>vehicle_type_unknown</th>\n",
       "      <th>...</th>\n",
       "      <th>brand_smart</th>\n",
       "      <th>brand_sonstige_autos</th>\n",
       "      <th>brand_subaru</th>\n",
       "      <th>brand_suzuki</th>\n",
       "      <th>brand_toyota</th>\n",
       "      <th>brand_trabant</th>\n",
       "      <th>brand_volkswagen</th>\n",
       "      <th>brand_volvo</th>\n",
       "      <th>not_repaired_unknown</th>\n",
       "      <th>not_repaired_yes</th>\n",
       "    </tr>\n",
       "  </thead>\n",
       "  <tbody>\n",
       "    <tr>\n",
       "      <th>0</th>\n",
       "      <td>480</td>\n",
       "      <td>1993</td>\n",
       "      <td>0</td>\n",
       "      <td>150000</td>\n",
       "      <td>0</td>\n",
       "      <td>0</td>\n",
       "      <td>0</td>\n",
       "      <td>0</td>\n",
       "      <td>0</td>\n",
       "      <td>1</td>\n",
       "      <td>...</td>\n",
       "      <td>0</td>\n",
       "      <td>0</td>\n",
       "      <td>0</td>\n",
       "      <td>0</td>\n",
       "      <td>0</td>\n",
       "      <td>0</td>\n",
       "      <td>1</td>\n",
       "      <td>0</td>\n",
       "      <td>1</td>\n",
       "      <td>0</td>\n",
       "    </tr>\n",
       "    <tr>\n",
       "      <th>1</th>\n",
       "      <td>18300</td>\n",
       "      <td>2011</td>\n",
       "      <td>190</td>\n",
       "      <td>125000</td>\n",
       "      <td>0</td>\n",
       "      <td>1</td>\n",
       "      <td>0</td>\n",
       "      <td>0</td>\n",
       "      <td>0</td>\n",
       "      <td>0</td>\n",
       "      <td>...</td>\n",
       "      <td>0</td>\n",
       "      <td>0</td>\n",
       "      <td>0</td>\n",
       "      <td>0</td>\n",
       "      <td>0</td>\n",
       "      <td>0</td>\n",
       "      <td>0</td>\n",
       "      <td>0</td>\n",
       "      <td>0</td>\n",
       "      <td>1</td>\n",
       "    </tr>\n",
       "    <tr>\n",
       "      <th>2</th>\n",
       "      <td>9800</td>\n",
       "      <td>2004</td>\n",
       "      <td>163</td>\n",
       "      <td>125000</td>\n",
       "      <td>0</td>\n",
       "      <td>0</td>\n",
       "      <td>0</td>\n",
       "      <td>0</td>\n",
       "      <td>1</td>\n",
       "      <td>0</td>\n",
       "      <td>...</td>\n",
       "      <td>0</td>\n",
       "      <td>0</td>\n",
       "      <td>0</td>\n",
       "      <td>0</td>\n",
       "      <td>0</td>\n",
       "      <td>0</td>\n",
       "      <td>0</td>\n",
       "      <td>0</td>\n",
       "      <td>1</td>\n",
       "      <td>0</td>\n",
       "    </tr>\n",
       "    <tr>\n",
       "      <th>3</th>\n",
       "      <td>1500</td>\n",
       "      <td>2001</td>\n",
       "      <td>75</td>\n",
       "      <td>150000</td>\n",
       "      <td>0</td>\n",
       "      <td>0</td>\n",
       "      <td>0</td>\n",
       "      <td>1</td>\n",
       "      <td>0</td>\n",
       "      <td>0</td>\n",
       "      <td>...</td>\n",
       "      <td>0</td>\n",
       "      <td>0</td>\n",
       "      <td>0</td>\n",
       "      <td>0</td>\n",
       "      <td>0</td>\n",
       "      <td>0</td>\n",
       "      <td>1</td>\n",
       "      <td>0</td>\n",
       "      <td>0</td>\n",
       "      <td>0</td>\n",
       "    </tr>\n",
       "    <tr>\n",
       "      <th>4</th>\n",
       "      <td>3600</td>\n",
       "      <td>2008</td>\n",
       "      <td>69</td>\n",
       "      <td>90000</td>\n",
       "      <td>0</td>\n",
       "      <td>0</td>\n",
       "      <td>0</td>\n",
       "      <td>1</td>\n",
       "      <td>0</td>\n",
       "      <td>0</td>\n",
       "      <td>...</td>\n",
       "      <td>0</td>\n",
       "      <td>0</td>\n",
       "      <td>0</td>\n",
       "      <td>0</td>\n",
       "      <td>0</td>\n",
       "      <td>0</td>\n",
       "      <td>0</td>\n",
       "      <td>0</td>\n",
       "      <td>0</td>\n",
       "      <td>0</td>\n",
       "    </tr>\n",
       "    <tr>\n",
       "      <th>...</th>\n",
       "      <td>...</td>\n",
       "      <td>...</td>\n",
       "      <td>...</td>\n",
       "      <td>...</td>\n",
       "      <td>...</td>\n",
       "      <td>...</td>\n",
       "      <td>...</td>\n",
       "      <td>...</td>\n",
       "      <td>...</td>\n",
       "      <td>...</td>\n",
       "      <td>...</td>\n",
       "      <td>...</td>\n",
       "      <td>...</td>\n",
       "      <td>...</td>\n",
       "      <td>...</td>\n",
       "      <td>...</td>\n",
       "      <td>...</td>\n",
       "      <td>...</td>\n",
       "      <td>...</td>\n",
       "      <td>...</td>\n",
       "      <td>...</td>\n",
       "    </tr>\n",
       "    <tr>\n",
       "      <th>354364</th>\n",
       "      <td>0</td>\n",
       "      <td>2005</td>\n",
       "      <td>0</td>\n",
       "      <td>150000</td>\n",
       "      <td>0</td>\n",
       "      <td>0</td>\n",
       "      <td>0</td>\n",
       "      <td>0</td>\n",
       "      <td>0</td>\n",
       "      <td>1</td>\n",
       "      <td>...</td>\n",
       "      <td>0</td>\n",
       "      <td>0</td>\n",
       "      <td>0</td>\n",
       "      <td>0</td>\n",
       "      <td>0</td>\n",
       "      <td>0</td>\n",
       "      <td>0</td>\n",
       "      <td>0</td>\n",
       "      <td>0</td>\n",
       "      <td>1</td>\n",
       "    </tr>\n",
       "    <tr>\n",
       "      <th>354365</th>\n",
       "      <td>2200</td>\n",
       "      <td>2005</td>\n",
       "      <td>0</td>\n",
       "      <td>20000</td>\n",
       "      <td>0</td>\n",
       "      <td>0</td>\n",
       "      <td>0</td>\n",
       "      <td>0</td>\n",
       "      <td>0</td>\n",
       "      <td>1</td>\n",
       "      <td>...</td>\n",
       "      <td>0</td>\n",
       "      <td>1</td>\n",
       "      <td>0</td>\n",
       "      <td>0</td>\n",
       "      <td>0</td>\n",
       "      <td>0</td>\n",
       "      <td>0</td>\n",
       "      <td>0</td>\n",
       "      <td>1</td>\n",
       "      <td>0</td>\n",
       "    </tr>\n",
       "    <tr>\n",
       "      <th>354366</th>\n",
       "      <td>1199</td>\n",
       "      <td>2000</td>\n",
       "      <td>101</td>\n",
       "      <td>125000</td>\n",
       "      <td>1</td>\n",
       "      <td>0</td>\n",
       "      <td>0</td>\n",
       "      <td>0</td>\n",
       "      <td>0</td>\n",
       "      <td>0</td>\n",
       "      <td>...</td>\n",
       "      <td>1</td>\n",
       "      <td>0</td>\n",
       "      <td>0</td>\n",
       "      <td>0</td>\n",
       "      <td>0</td>\n",
       "      <td>0</td>\n",
       "      <td>0</td>\n",
       "      <td>0</td>\n",
       "      <td>0</td>\n",
       "      <td>0</td>\n",
       "    </tr>\n",
       "    <tr>\n",
       "      <th>354367</th>\n",
       "      <td>9200</td>\n",
       "      <td>1996</td>\n",
       "      <td>102</td>\n",
       "      <td>150000</td>\n",
       "      <td>0</td>\n",
       "      <td>0</td>\n",
       "      <td>0</td>\n",
       "      <td>0</td>\n",
       "      <td>0</td>\n",
       "      <td>0</td>\n",
       "      <td>...</td>\n",
       "      <td>0</td>\n",
       "      <td>0</td>\n",
       "      <td>0</td>\n",
       "      <td>0</td>\n",
       "      <td>0</td>\n",
       "      <td>0</td>\n",
       "      <td>1</td>\n",
       "      <td>0</td>\n",
       "      <td>0</td>\n",
       "      <td>0</td>\n",
       "    </tr>\n",
       "    <tr>\n",
       "      <th>354368</th>\n",
       "      <td>3400</td>\n",
       "      <td>2002</td>\n",
       "      <td>100</td>\n",
       "      <td>150000</td>\n",
       "      <td>0</td>\n",
       "      <td>0</td>\n",
       "      <td>0</td>\n",
       "      <td>0</td>\n",
       "      <td>0</td>\n",
       "      <td>0</td>\n",
       "      <td>...</td>\n",
       "      <td>0</td>\n",
       "      <td>0</td>\n",
       "      <td>0</td>\n",
       "      <td>0</td>\n",
       "      <td>0</td>\n",
       "      <td>0</td>\n",
       "      <td>1</td>\n",
       "      <td>0</td>\n",
       "      <td>1</td>\n",
       "      <td>0</td>\n",
       "    </tr>\n",
       "  </tbody>\n",
       "</table>\n",
       "<p>340616 rows × 60 columns</p>\n",
       "</div>"
      ],
      "text/plain": [
       "        price  registration_year  power  mileage  vehicle_type_convertible  \\\n",
       "0         480               1993      0   150000                         0   \n",
       "1       18300               2011    190   125000                         0   \n",
       "2        9800               2004    163   125000                         0   \n",
       "3        1500               2001     75   150000                         0   \n",
       "4        3600               2008     69    90000                         0   \n",
       "...       ...                ...    ...      ...                       ...   \n",
       "354364      0               2005      0   150000                         0   \n",
       "354365   2200               2005      0    20000                         0   \n",
       "354366   1199               2000    101   125000                         1   \n",
       "354367   9200               1996    102   150000                         0   \n",
       "354368   3400               2002    100   150000                         0   \n",
       "\n",
       "        vehicle_type_coupe  vehicle_type_sedan  vehicle_type_small  \\\n",
       "0                        0                   0                   0   \n",
       "1                        1                   0                   0   \n",
       "2                        0                   0                   0   \n",
       "3                        0                   0                   1   \n",
       "4                        0                   0                   1   \n",
       "...                    ...                 ...                 ...   \n",
       "354364                   0                   0                   0   \n",
       "354365                   0                   0                   0   \n",
       "354366                   0                   0                   0   \n",
       "354367                   0                   0                   0   \n",
       "354368                   0                   0                   0   \n",
       "\n",
       "        vehicle_type_suv  vehicle_type_unknown  ...  brand_smart  \\\n",
       "0                      0                     1  ...            0   \n",
       "1                      0                     0  ...            0   \n",
       "2                      1                     0  ...            0   \n",
       "3                      0                     0  ...            0   \n",
       "4                      0                     0  ...            0   \n",
       "...                  ...                   ...  ...          ...   \n",
       "354364                 0                     1  ...            0   \n",
       "354365                 0                     1  ...            0   \n",
       "354366                 0                     0  ...            1   \n",
       "354367                 0                     0  ...            0   \n",
       "354368                 0                     0  ...            0   \n",
       "\n",
       "        brand_sonstige_autos  brand_subaru  brand_suzuki  brand_toyota  \\\n",
       "0                          0             0             0             0   \n",
       "1                          0             0             0             0   \n",
       "2                          0             0             0             0   \n",
       "3                          0             0             0             0   \n",
       "4                          0             0             0             0   \n",
       "...                      ...           ...           ...           ...   \n",
       "354364                     0             0             0             0   \n",
       "354365                     1             0             0             0   \n",
       "354366                     0             0             0             0   \n",
       "354367                     0             0             0             0   \n",
       "354368                     0             0             0             0   \n",
       "\n",
       "        brand_trabant  brand_volkswagen  brand_volvo  not_repaired_unknown  \\\n",
       "0                   0                 1            0                     1   \n",
       "1                   0                 0            0                     0   \n",
       "2                   0                 0            0                     1   \n",
       "3                   0                 1            0                     0   \n",
       "4                   0                 0            0                     0   \n",
       "...               ...               ...          ...                   ...   \n",
       "354364              0                 0            0                     0   \n",
       "354365              0                 0            0                     1   \n",
       "354366              0                 0            0                     0   \n",
       "354367              0                 1            0                     0   \n",
       "354368              0                 1            0                     1   \n",
       "\n",
       "        not_repaired_yes  \n",
       "0                      0  \n",
       "1                      1  \n",
       "2                      0  \n",
       "3                      0  \n",
       "4                      0  \n",
       "...                  ...  \n",
       "354364                 1  \n",
       "354365                 0  \n",
       "354366                 0  \n",
       "354367                 0  \n",
       "354368                 0  \n",
       "\n",
       "[340616 rows x 60 columns]"
      ]
     },
     "execution_count": 33,
     "metadata": {},
     "output_type": "execute_result"
    }
   ],
   "source": [
    "df_encoded = pd.get_dummies(dataframe, drop_first=True)\n",
    "df_encoded"
   ]
  },
  {
   "cell_type": "markdown",
   "metadata": {},
   "source": [
    "## Model training"
   ]
  },
  {
   "cell_type": "markdown",
   "metadata": {},
   "source": [
    "### Linear Regression"
   ]
  },
  {
   "cell_type": "code",
   "execution_count": 34,
   "metadata": {
    "scrolled": false
   },
   "outputs": [
    {
     "name": "stdout",
     "output_type": "stream",
     "text": [
      "CPU times: user 1.7 s, sys: 338 ms, total: 2.03 s\n",
      "Wall time: 1.99 s\n",
      "\n",
      "CPU times: user 13.3 ms, sys: 25.9 ms, total: 39.1 ms\n",
      "Wall time: 84.6 ms\n",
      "\n",
      "RSME: 2639.58\n",
      "\n",
      "CPU times: user 2.17 s, sys: 495 ms, total: 2.66 s\n",
      "Wall time: 2.65 s\n"
     ]
    }
   ],
   "source": [
    "%%time\n",
    "\n",
    "features = df_encoded.drop(['price'], axis=1)\n",
    "target = df_encoded['price']\n",
    "\n",
    "X_train, X_valid, y_train, y_valid = train_test_split(features, target, test_size=.3, random_state=13)\n",
    "\n",
    "scaler = StandardScaler()\n",
    "X_train_scaled = scaler.fit_transform(X_train)\n",
    "X_valid_scaled = scaler.transform(X_valid)\n",
    "\n",
    "model = LinearRegression()\n",
    "%time model.fit(X_train_scaled, y_train)\n",
    "print()\n",
    "%time y_prediction = model.predict(X_valid_scaled)\n",
    "print()\n",
    "mse = mean_squared_error(y_valid, y_prediction)\n",
    "rsme = np.sqrt(mse)\n",
    "print(f\"RSME: {rsme:.2f}\")\n",
    "print()"
   ]
  },
  {
   "cell_type": "markdown",
   "metadata": {},
   "source": [
    "Linear Regresion:  \n",
    "Train Time: 2.04 seconds   \n",
    "Prediction Time: 90 milliseconds"
   ]
  },
  {
   "cell_type": "markdown",
   "metadata": {},
   "source": [
    "### Dummy Regressor"
   ]
  },
  {
   "cell_type": "code",
   "execution_count": 35,
   "metadata": {
    "scrolled": true
   },
   "outputs": [
    {
     "name": "stdout",
     "output_type": "stream",
     "text": [
      "Baseline RMSE: 4371.69\n",
      "\n"
     ]
    }
   ],
   "source": [
    "baseline_model = DummyRegressor(strategy=\"mean\")\n",
    "baseline_model.fit(X_train, y_train)\n",
    "baseline_predictions = baseline_model.predict(X_valid)\n",
    "baseline_mse = mean_squared_error(y_valid, baseline_predictions)\n",
    "baseline_rmse = np.sqrt(baseline_mse)\n",
    "print(f\"Baseline RMSE: {baseline_rmse:.2f}\")\n",
    "print()"
   ]
  },
  {
   "cell_type": "markdown",
   "metadata": {},
   "source": [
    "### Cross Validation"
   ]
  },
  {
   "cell_type": "code",
   "execution_count": 36,
   "metadata": {
    "scrolled": false
   },
   "outputs": [
    {
     "name": "stdout",
     "output_type": "stream",
     "text": [
      "Cross-Validation RMSE scores: [2637.8357772  2645.57163331 2634.10157642 2634.70809885 2616.59578301]\n",
      "Mean CV RMSE: 2633.7625737573194\n"
     ]
    }
   ],
   "source": [
    "cv_scores = cross_val_score(model, features, target, cv=5, scoring='neg_mean_squared_error')\n",
    "cv_rmse_scores = np.sqrt(-cv_scores)\n",
    "print(\"Cross-Validation RMSE scores:\", cv_rmse_scores)\n",
    "print(\"Mean CV RMSE:\", np.mean(cv_rmse_scores))"
   ]
  },
  {
   "cell_type": "markdown",
   "metadata": {},
   "source": [
    "### Random Forest Regressor"
   ]
  },
  {
   "cell_type": "code",
   "execution_count": 37,
   "metadata": {
    "scrolled": true
   },
   "outputs": [
    {
     "name": "stdout",
     "output_type": "stream",
     "text": [
      "CPU times: user 20.7 s, sys: 36.6 ms, total: 20.8 s\n",
      "Wall time: 20.8 s\n",
      "\n",
      "CPU times: user 408 ms, sys: 0 ns, total: 408 ms\n",
      "Wall time: 411 ms\n",
      "\n",
      "Random Forest RMSE: 1715.53\n",
      "\n",
      "CPU times: user 21.1 s, sys: 36.9 ms, total: 21.2 s\n",
      "Wall time: 21.2 s\n"
     ]
    }
   ],
   "source": [
    "%%time\n",
    "\n",
    "model_rf = RandomForestRegressor(n_estimators = 15, random_state=13, max_depth=17)\n",
    "%time model_rf.fit(X_train, y_train)\n",
    "print()\n",
    "%time y_pred_rf = model_rf.predict(X_valid)\n",
    "print()\n",
    "mse_rf = mean_squared_error(y_valid, y_pred_rf)\n",
    "rmse_rf = np.sqrt(mse_rf)\n",
    "print(f\"Random Forest RMSE: {rmse_rf:.2f}\")\n",
    "print()"
   ]
  },
  {
   "cell_type": "markdown",
   "metadata": {},
   "source": [
    "Random Forest Regresion:  \n",
    "Train Time: 11.6 Seconds  \n",
    "Prediction Time: 437 milliseconds"
   ]
  },
  {
   "cell_type": "markdown",
   "metadata": {},
   "source": [
    "### Gradient Boosting Regressor"
   ]
  },
  {
   "cell_type": "code",
   "execution_count": 38,
   "metadata": {
    "scrolled": false
   },
   "outputs": [
    {
     "name": "stdout",
     "output_type": "stream",
     "text": [
      "CPU times: user 27.4 s, sys: 1.9 ms, total: 27.4 s\n",
      "Wall time: 27.5 s\n",
      "\n",
      "CPU times: user 432 ms, sys: 15.9 ms, total: 448 ms\n",
      "Wall time: 450 ms\n",
      "\n",
      "Gradient Boosting RMSE: 1945.64\n",
      "\n",
      "CPU times: user 27.8 s, sys: 18 ms, total: 27.8 s\n",
      "Wall time: 28 s\n"
     ]
    }
   ],
   "source": [
    "%%time\n",
    "\n",
    "model_gradient = GradientBoostingRegressor(learning_rate=.4, n_estimators=10, max_depth=30, random_state=13)\n",
    "%time model_gradient.fit(X_train, y_train)\n",
    "print()\n",
    "%time y_prediction_gradient = model_gradient.predict(X_valid)\n",
    "print()\n",
    "mse_gradient = mean_squared_error(y_prediction_gradient, y_valid)\n",
    "rmse_gradient = np.sqrt(mse_gradient)\n",
    "print(f\"Gradient Boosting RMSE: {rmse_gradient:.2f}\")\n",
    "print()"
   ]
  },
  {
   "cell_type": "code",
   "execution_count": 39,
   "metadata": {
    "scrolled": true
   },
   "outputs": [
    {
     "name": "stdout",
     "output_type": "stream",
     "text": [
      "CPU times: user 11.3 s, sys: 5.93 ms, total: 11.3 s\n",
      "Wall time: 11.3 s\n",
      "\n",
      "CPU times: user 71.6 ms, sys: 20.2 ms, total: 91.8 ms\n",
      "Wall time: 91.6 ms\n",
      "\n",
      "Gradient Boosting RMSE: 1924.66\n",
      "\n"
     ]
    }
   ],
   "source": [
    "model_gradient = GradientBoostingRegressor(learning_rate=.7, n_estimators=20, max_depth=4, random_state=13)\n",
    "%time model_gradient.fit(X_train, y_train)\n",
    "print()\n",
    "%time y_prediction_gradient = model_gradient.predict(X_valid)\n",
    "print()\n",
    "mse_gradient = mean_squared_error(y_prediction_gradient, y_valid)\n",
    "rmse_gradient = np.sqrt(mse_gradient)\n",
    "print(f\"Gradient Boosting RMSE: {rmse_gradient:.2f}\")\n",
    "print()"
   ]
  },
  {
   "cell_type": "code",
   "execution_count": 40,
   "metadata": {},
   "outputs": [
    {
     "name": "stdout",
     "output_type": "stream",
     "text": [
      "CPU times: user 6.4 s, sys: 17.8 ms, total: 6.42 s\n",
      "Wall time: 6.44 s\n",
      "\n",
      "CPU times: user 270 ms, sys: 7.57 ms, total: 277 ms\n",
      "Wall time: 276 ms\n",
      "\n",
      "Gradient Boosting RMSE: 2126.48\n",
      "\n"
     ]
    }
   ],
   "source": [
    "model_gradient = GradientBoostingRegressor(max_features=7, min_samples_leaf=8, min_samples_split=4, random_state=13)\n",
    "%time model_gradient.fit(X_train, y_train)\n",
    "print()\n",
    "%time y_prediction_gradient = model_gradient.predict(X_valid)\n",
    "print()\n",
    "mse_gradient = mean_squared_error(y_prediction_gradient, y_valid)\n",
    "rmse_gradient = np.sqrt(mse_gradient)\n",
    "print(f\"Gradient Boosting RMSE: {rmse_gradient:.2f}\")\n",
    "print()"
   ]
  },
  {
   "cell_type": "markdown",
   "metadata": {},
   "source": [
    "### Light GBM"
   ]
  },
  {
   "cell_type": "code",
   "execution_count": 41,
   "metadata": {},
   "outputs": [
    {
     "name": "stdout",
     "output_type": "stream",
     "text": [
      "CPU times: user 6.68 s, sys: 115 ms, total: 6.8 s\n",
      "Wall time: 6.84 s\n",
      "\n",
      "CPU times: user 1.57 s, sys: 6.65 ms, total: 1.58 s\n",
      "Wall time: 1.59 s\n",
      "\n",
      "LGBM Regressor RMSE: 1652.23\n",
      "\n",
      "CPU times: user 8.26 s, sys: 122 ms, total: 8.39 s\n",
      "Wall time: 8.44 s\n"
     ]
    }
   ],
   "source": [
    "%%time\n",
    "\n",
    "model_lgb = LGBMRegressor(learning_rate=.5, num_leaves=300, max_depth=10, metric='rmse', random_seed=13)\n",
    "%time model_lgb.fit(X_train, y_train)\n",
    "print()\n",
    "%time lgb_prediction = model_lgb.predict(X_valid)\n",
    "print()\n",
    "mse_lgb = mean_squared_error(lgb_prediction, y_valid)\n",
    "rmse_lgb = np.sqrt(mse_lgb)\n",
    "print(f\"LGBM Regressor RMSE: {rmse_lgb:.2f}\")\n",
    "print()"
   ]
  },
  {
   "cell_type": "code",
   "execution_count": 42,
   "metadata": {},
   "outputs": [
    {
     "name": "stdout",
     "output_type": "stream",
     "text": [
      "CPU times: user 2.83 s, sys: 41.6 ms, total: 2.87 s\n",
      "Wall time: 2.89 s\n",
      "\n",
      "CPU times: user 839 ms, sys: 7.75 ms, total: 847 ms\n",
      "Wall time: 890 ms\n",
      "\n",
      "LGBM Regressor RMSE: 1717.94\n",
      "\n",
      "CPU times: user 3.68 s, sys: 49.5 ms, total: 3.73 s\n",
      "Wall time: 3.78 s\n"
     ]
    }
   ],
   "source": [
    "\n",
    "%%time\n",
    "model_lgb = LGBMRegressor(learning_rate=.7, num_leaves=100, max_depth=5, metric='rmse', random_seed=13)\n",
    "%time model_lgb.fit(X_train, y_train)\n",
    "print()\n",
    "%time lgb_prediction = model_lgb.predict(X_valid)\n",
    "print()\n",
    "mse_lgb = mean_squared_error(lgb_prediction, y_valid)\n",
    "rmse_lgb = np.sqrt(mse_lgb)\n",
    "print(f\"LGBM Regressor RMSE: {rmse_lgb:.2f}\")\n",
    "print()"
   ]
  },
  {
   "cell_type": "code",
   "execution_count": 45,
   "metadata": {},
   "outputs": [
    {
     "name": "stdout",
     "output_type": "stream",
     "text": [
      "CPU times: user 1.04 s, sys: 43.1 ms, total: 1.09 s\n",
      "Wall time: 1.09 s\n",
      "\n",
      "CPU times: user 128 ms, sys: 11.7 ms, total: 140 ms\n",
      "Wall time: 109 ms\n",
      "\n",
      "LGBM Regressor RMSE: 2602.13\n",
      "\n"
     ]
    }
   ],
   "source": [
    "model_lgb = LGBMRegressor(n_estimators=10, max_depth=5, num_leaves=40, random_seed=13)\n",
    "%time model_lgb.fit(X_train, y_train)\n",
    "print()\n",
    "%time lgb_prediction = model_lgb.predict(X_valid)\n",
    "print()\n",
    "mse_lgb = mean_squared_error(lgb_prediction, y_valid)\n",
    "rmse_lgb = np.sqrt(mse_lgb)\n",
    "print(f\"LGBM Regressor RMSE: {rmse_lgb:.2f}\")\n",
    "print()"
   ]
  },
  {
   "cell_type": "markdown",
   "metadata": {},
   "source": [
    "### CatBoost"
   ]
  },
  {
   "cell_type": "code",
   "execution_count": 50,
   "metadata": {
    "scrolled": true
   },
   "outputs": [
    {
     "name": "stdout",
     "output_type": "stream",
     "text": [
      "CPU times: user 2.67 s, sys: 3.21 ms, total: 2.67 s\n",
      "Wall time: 2.75 s\n",
      "\n",
      "CPU times: user 27.5 ms, sys: 0 ns, total: 27.5 ms\n",
      "Wall time: 27.3 ms\n",
      "\n",
      "\n",
      "CatBoost RMSE: 1760.33\n",
      "\n",
      "CPU times: user 2.7 s, sys: 3.26 ms, total: 2.7 s\n",
      "Wall time: 2.78 s\n"
     ]
    }
   ],
   "source": [
    "%%time\n",
    "\n",
    "model_cat = CatBoostRegressor(iterations=20, learning_rate=.7, depth=10, random_seed=13, loss_function='RMSE', verbose=False)\n",
    "%time model_cat.fit(X_train, y_train)\n",
    "print()\n",
    "%time cat_prediction = model_cat.predict(X_valid)\n",
    "print()\n",
    "mse_cat = mean_squared_error(cat_prediction, y_valid)\n",
    "rmse_cat = np.sqrt(mse_cat)\n",
    "print()\n",
    "print(f\"CatBoost RMSE: {rmse_cat:.2f}\")\n",
    "print()"
   ]
  },
  {
   "cell_type": "code",
   "execution_count": 51,
   "metadata": {
    "scrolled": true
   },
   "outputs": [
    {
     "name": "stdout",
     "output_type": "stream",
     "text": [
      "CPU times: user 4.59 s, sys: 808 ms, total: 5.4 s\n",
      "Wall time: 5.48 s\n",
      "\n",
      "CPU times: user 23.8 ms, sys: 0 ns, total: 23.8 ms\n",
      "Wall time: 23.6 ms\n",
      "\n",
      "\n",
      "CatBoost RMSE: 1776.91\n",
      "\n",
      "CPU times: user 4.62 s, sys: 808 ms, total: 5.43 s\n",
      "Wall time: 5.51 s\n"
     ]
    }
   ],
   "source": [
    "%%time\n",
    "\n",
    "model_cat = CatBoostRegressor(iterations=10, learning_rate=.5, depth=15, random_seed=13, loss_function='RMSE', silent=True)\n",
    "%time model_cat.fit(X_train, y_train)\n",
    "print()\n",
    "%time cat_prediction = model_cat.predict(X_valid)\n",
    "print()\n",
    "mse_cat = mean_squared_error(cat_prediction, y_valid)\n",
    "rmse_cat = np.sqrt(mse_cat)\n",
    "print()\n",
    "print(f\"CatBoost RMSE: {rmse_cat:.2f}\")\n",
    "print()"
   ]
  },
  {
   "cell_type": "code",
   "execution_count": null,
   "metadata": {},
   "outputs": [],
   "source": [
    "# Define the parameter grid\n",
    "param_grid = {\n",
    "    'iterations': [50, 100],\n",
    "    'learning_rate': [0.1, 0.3],\n",
    "    'depth': [6, 10]\n",
    "}\n",
    "\n",
    "# Initialize the CatBoostRegressor model\n",
    "model_cat = CatBoostRegressor(random_seed=13, loss_function='RMSE', silent=True)\n",
    "\n",
    "# Set up GridSearchCV\n",
    "grid_search = GridSearchCV(estimator=model_cat, param_grid=param_grid, cv=3, scoring='neg_mean_squared_error', n_jobs=-1)\n",
    "\n",
    "# Fit the model and search for the best hyperparameters\n",
    "%time grid_search.fit(X_train, y_train)\n",
    "\n",
    "# Get the best model\n",
    "best_model_cat = grid_search.best_estimator_\n",
    "\n",
    "# Make predictions\n",
    "%time cat_prediction = best_model_cat.predict(X_valid)\n",
    "\n",
    "# Calculate RMSE\n",
    "mse_cat = mean_squared_error(cat_prediction, y_valid)\n",
    "rmse_cat = np.sqrt(mse_cat)\n",
    "print(f\"Best CatBoost RMSE: {rmse_cat:.2f}\")\n",
    "\n",
    "# Print the best hyperparameters\n",
    "print(\"Best hyperparameters:\", grid_search.best_params_)"
   ]
  },
  {
   "cell_type": "markdown",
   "metadata": {},
   "source": [
    "## Model analysis"
   ]
  },
  {
   "cell_type": "markdown",
   "metadata": {},
   "source": [
    "### Conclusion"
   ]
  },
  {
   "cell_type": "markdown",
   "metadata": {},
   "source": [
    "#### Training and Prediction Times by Model:"
   ]
  },
  {
   "cell_type": "markdown",
   "metadata": {},
   "source": [
    "                                    Linear Regresion:  \n",
    "                                    Train Time: 344 milliseconds  \n",
    "                                    Prediction Time: 96.2 milliseconds\n",
    "\n",
    "                                    Random Forest Regresion:  \n",
    "                                    Train Time: 11.6 Seconds  \n",
    "                                    Prediction Time: 437 milliseconds\n",
    "\n",
    "                                    Gradient Boosting Regresion:  \n",
    "                                    Train Time:29 seconds  \n",
    "                                    Prediction Time: 196 milliseconds\n",
    "\n",
    "                                    Light GMB:  \n",
    "                                    Train Time:2.92 seconds  \n",
    "                                    Prediction Time: 893 milliseconds  \n",
    "\n",
    "                                    CatBoost:  \n",
    "                                    Train Time:1.18 seconds  \n",
    "                                    Prediction Time: 16.6 milliseconds  "
   ]
  },
  {
   "cell_type": "markdown",
   "metadata": {},
   "source": [
    "            After analyzing all the models created, The Linear Regressor Model is the fastest out of them all with a wall time of 504 milliseconds, but quality wise, its not the most accurate, with a RMSE of 2771.18. The model with the best quality is the LightGMB, with the RMSE of 1651.83, with a wall time of 2.92 seconds. After using the Gradient Boosting Regressor, this model was able to achieve a RMSE of 2031.65, with a wall time of 29 seconds, being the slowest of all the models created. But, a combination of quality and speed would be the Catboost Model and the Light GBM model. \n",
    "            In conclusion, the best model for the data analysis would be the Light GMB Model, best performance and speed out of all the models created. "
   ]
  }
 ],
 "metadata": {
  "ExecuteTimeLog": [
   {
    "duration": 468,
    "start_time": "2024-07-22T23:49:02.800Z"
   },
   {
    "duration": 767,
    "start_time": "2024-07-22T23:49:14.429Z"
   },
   {
    "duration": 43,
    "start_time": "2024-07-22T23:49:17.761Z"
   },
   {
    "duration": 142,
    "start_time": "2024-07-22T23:49:25.460Z"
   },
   {
    "duration": 134,
    "start_time": "2024-07-22T23:49:44.501Z"
   },
   {
    "duration": 388,
    "start_time": "2024-07-22T23:50:11.298Z"
   },
   {
    "duration": 490,
    "start_time": "2024-07-23T23:00:04.444Z"
   },
   {
    "duration": 841,
    "start_time": "2024-07-23T23:00:04.938Z"
   },
   {
    "duration": 162,
    "start_time": "2024-07-23T23:00:05.983Z"
   },
   {
    "duration": 43,
    "start_time": "2024-07-23T23:00:17.100Z"
   },
   {
    "duration": 761,
    "start_time": "2024-07-23T23:00:35.357Z"
   },
   {
    "duration": 37,
    "start_time": "2024-07-23T23:00:41.624Z"
   },
   {
    "duration": 140,
    "start_time": "2024-07-23T23:02:26.961Z"
   },
   {
    "duration": 435,
    "start_time": "2024-07-23T23:02:31.913Z"
   },
   {
    "duration": 881,
    "start_time": "2024-07-23T23:02:54.527Z"
   },
   {
    "duration": 1336,
    "start_time": "2024-07-23T23:03:03.392Z"
   },
   {
    "duration": 417,
    "start_time": "2024-07-23T23:03:14.694Z"
   },
   {
    "duration": 222,
    "start_time": "2024-07-23T23:03:38.995Z"
   },
   {
    "duration": 33,
    "start_time": "2024-07-23T23:03:52.103Z"
   },
   {
    "duration": 7,
    "start_time": "2024-07-23T23:04:15.356Z"
   },
   {
    "duration": 252,
    "start_time": "2024-07-23T23:04:52.259Z"
   },
   {
    "duration": 4,
    "start_time": "2024-07-23T23:07:26.073Z"
   },
   {
    "duration": 1991,
    "start_time": "2024-07-23T23:07:47.669Z"
   },
   {
    "duration": 4,
    "start_time": "2024-07-23T23:08:12.710Z"
   },
   {
    "duration": 7,
    "start_time": "2024-07-23T23:08:20.899Z"
   },
   {
    "duration": 40,
    "start_time": "2024-07-23T23:08:29.994Z"
   },
   {
    "duration": 7,
    "start_time": "2024-07-23T23:08:35.594Z"
   },
   {
    "duration": 6,
    "start_time": "2024-07-23T23:09:04.959Z"
   },
   {
    "duration": 479,
    "start_time": "2024-07-23T23:09:13.261Z"
   },
   {
    "duration": 768,
    "start_time": "2024-07-23T23:09:13.744Z"
   },
   {
    "duration": 1366,
    "start_time": "2024-07-23T23:09:14.516Z"
   },
   {
    "duration": 8,
    "start_time": "2024-07-23T23:09:15.887Z"
   },
   {
    "duration": 9,
    "start_time": "2024-07-23T23:09:15.901Z"
   },
   {
    "duration": 171,
    "start_time": "2024-07-23T23:10:29.742Z"
   },
   {
    "duration": 9,
    "start_time": "2024-07-23T23:11:12.650Z"
   },
   {
    "duration": 9,
    "start_time": "2024-07-23T23:11:25.450Z"
   },
   {
    "duration": 30,
    "start_time": "2024-07-23T23:11:36.944Z"
   },
   {
    "duration": 1492,
    "start_time": "2024-07-23T23:12:05.232Z"
   },
   {
    "duration": 12,
    "start_time": "2024-07-23T23:14:22.575Z"
   },
   {
    "duration": 147,
    "start_time": "2024-07-23T23:14:25.359Z"
   },
   {
    "duration": 8,
    "start_time": "2024-07-23T23:14:44.234Z"
   },
   {
    "duration": 71,
    "start_time": "2024-07-23T23:14:57.448Z"
   },
   {
    "duration": 9,
    "start_time": "2024-07-23T23:15:18.144Z"
   },
   {
    "duration": 6,
    "start_time": "2024-07-23T23:15:26.826Z"
   },
   {
    "duration": 8,
    "start_time": "2024-07-23T23:15:33.649Z"
   },
   {
    "duration": 23,
    "start_time": "2024-07-23T23:15:40.634Z"
   },
   {
    "duration": 5,
    "start_time": "2024-07-23T23:16:06.803Z"
   },
   {
    "duration": 30,
    "start_time": "2024-07-23T23:16:11.968Z"
   },
   {
    "duration": 8,
    "start_time": "2024-07-23T23:16:43.317Z"
   },
   {
    "duration": 23,
    "start_time": "2024-07-23T23:17:07.622Z"
   },
   {
    "duration": 26,
    "start_time": "2024-07-23T23:17:30.200Z"
   },
   {
    "duration": 499,
    "start_time": "2024-07-23T23:19:02.068Z"
   },
   {
    "duration": 767,
    "start_time": "2024-07-23T23:19:02.571Z"
   },
   {
    "duration": 1387,
    "start_time": "2024-07-23T23:19:03.347Z"
   },
   {
    "duration": 10,
    "start_time": "2024-07-23T23:19:06.403Z"
   },
   {
    "duration": 7,
    "start_time": "2024-07-23T23:19:06.860Z"
   },
   {
    "duration": 145,
    "start_time": "2024-07-23T23:19:07.660Z"
   },
   {
    "duration": 9,
    "start_time": "2024-07-23T23:19:08.023Z"
   },
   {
    "duration": 439,
    "start_time": "2024-07-23T23:19:28.771Z"
   },
   {
    "duration": 765,
    "start_time": "2024-07-23T23:19:29.214Z"
   },
   {
    "duration": 1367,
    "start_time": "2024-07-23T23:19:29.983Z"
   },
   {
    "duration": 6,
    "start_time": "2024-07-23T23:19:31.355Z"
   },
   {
    "duration": 12,
    "start_time": "2024-07-23T23:19:32.147Z"
   },
   {
    "duration": 146,
    "start_time": "2024-07-23T23:19:33.064Z"
   },
   {
    "duration": 9,
    "start_time": "2024-07-23T23:19:33.704Z"
   },
   {
    "duration": 149,
    "start_time": "2024-07-23T23:19:34.414Z"
   },
   {
    "duration": 10,
    "start_time": "2024-07-23T23:19:53.645Z"
   },
   {
    "duration": 476,
    "start_time": "2024-07-23T23:20:31.876Z"
   },
   {
    "duration": 793,
    "start_time": "2024-07-23T23:20:32.356Z"
   },
   {
    "duration": 1410,
    "start_time": "2024-07-23T23:20:33.152Z"
   },
   {
    "duration": 7,
    "start_time": "2024-07-23T23:20:35.214Z"
   },
   {
    "duration": 8,
    "start_time": "2024-07-23T23:20:35.659Z"
   },
   {
    "duration": 153,
    "start_time": "2024-07-23T23:20:36.521Z"
   },
   {
    "duration": 40562,
    "start_time": "2024-07-23T23:22:26.604Z"
   },
   {
    "duration": 19,
    "start_time": "2024-07-23T23:23:23.715Z"
   },
   {
    "duration": 153,
    "start_time": "2024-07-23T23:23:34.247Z"
   },
   {
    "duration": 36,
    "start_time": "2024-07-23T23:24:02.786Z"
   },
   {
    "duration": 156,
    "start_time": "2024-07-23T23:24:05.935Z"
   },
   {
    "duration": 36,
    "start_time": "2024-07-23T23:24:37.742Z"
   },
   {
    "duration": 428,
    "start_time": "2024-07-23T23:25:05.950Z"
   },
   {
    "duration": 849,
    "start_time": "2024-07-23T23:25:20.676Z"
   },
   {
    "duration": 72,
    "start_time": "2024-07-23T23:25:33.272Z"
   },
   {
    "duration": 20,
    "start_time": "2024-07-23T23:25:54.978Z"
   },
   {
    "duration": 10,
    "start_time": "2024-07-23T23:26:03.623Z"
   },
   {
    "duration": 115,
    "start_time": "2024-07-23T23:26:17.837Z"
   },
   {
    "duration": 25,
    "start_time": "2024-07-23T23:26:23.802Z"
   },
   {
    "duration": 179,
    "start_time": "2024-07-23T23:27:47.222Z"
   },
   {
    "duration": 473,
    "start_time": "2024-07-23T23:27:55.074Z"
   },
   {
    "duration": 831,
    "start_time": "2024-07-23T23:27:55.551Z"
   },
   {
    "duration": 1426,
    "start_time": "2024-07-23T23:27:56.385Z"
   },
   {
    "duration": 19,
    "start_time": "2024-07-23T23:27:57.816Z"
   },
   {
    "duration": 10,
    "start_time": "2024-07-23T23:27:57.840Z"
   },
   {
    "duration": 210,
    "start_time": "2024-07-23T23:27:57.854Z"
   },
   {
    "duration": 231,
    "start_time": "2024-07-23T23:28:01.714Z"
   },
   {
    "duration": 7,
    "start_time": "2024-07-23T23:29:25.128Z"
   },
   {
    "duration": 9,
    "start_time": "2024-07-23T23:29:49.867Z"
   },
   {
    "duration": 8,
    "start_time": "2024-07-23T23:29:56.022Z"
   },
   {
    "duration": 73,
    "start_time": "2024-07-23T23:30:01.914Z"
   },
   {
    "duration": 60,
    "start_time": "2024-07-23T23:30:12.055Z"
   },
   {
    "duration": 154,
    "start_time": "2024-07-23T23:30:43.250Z"
   },
   {
    "duration": 41044,
    "start_time": "2024-07-23T23:31:00.862Z"
   },
   {
    "duration": 130,
    "start_time": "2024-07-23T23:31:41.909Z"
   },
   {
    "duration": 148,
    "start_time": "2024-07-23T23:31:42.172Z"
   },
   {
    "duration": 8,
    "start_time": "2024-07-23T23:32:00.990Z"
   },
   {
    "duration": 9,
    "start_time": "2024-07-23T23:32:13.273Z"
   },
   {
    "duration": 177,
    "start_time": "2024-07-23T23:32:33.609Z"
   },
   {
    "duration": 17,
    "start_time": "2024-07-23T23:33:22.787Z"
   },
   {
    "duration": 123,
    "start_time": "2024-07-23T23:50:02.949Z"
   },
   {
    "duration": 79,
    "start_time": "2024-07-23T23:51:51.144Z"
   },
   {
    "duration": 429,
    "start_time": "2024-07-23T23:52:14.776Z"
   },
   {
    "duration": 737,
    "start_time": "2024-07-23T23:52:15.209Z"
   },
   {
    "duration": 1368,
    "start_time": "2024-07-23T23:52:15.951Z"
   },
   {
    "duration": 12,
    "start_time": "2024-07-23T23:52:17.325Z"
   },
   {
    "duration": 11,
    "start_time": "2024-07-23T23:52:19.593Z"
   },
   {
    "duration": 144,
    "start_time": "2024-07-23T23:52:20.990Z"
   },
   {
    "duration": 493,
    "start_time": "2024-07-23T23:52:23.979Z"
   },
   {
    "duration": 70,
    "start_time": "2024-07-23T23:53:06.930Z"
   },
   {
    "duration": 755,
    "start_time": "2024-07-23T23:53:53.032Z"
   },
   {
    "duration": 74,
    "start_time": "2024-07-23T23:55:34.360Z"
   },
   {
    "duration": 109,
    "start_time": "2024-07-23T23:59:34.443Z"
   },
   {
    "duration": 93,
    "start_time": "2024-07-23T23:59:37.885Z"
   },
   {
    "duration": 7,
    "start_time": "2024-07-24T00:00:20.926Z"
   },
   {
    "duration": 45,
    "start_time": "2024-07-24T00:00:25.906Z"
   },
   {
    "duration": 8,
    "start_time": "2024-07-24T00:00:40.664Z"
   },
   {
    "duration": 1086,
    "start_time": "2024-07-24T00:00:43.208Z"
   },
   {
    "duration": 8,
    "start_time": "2024-07-24T00:00:47.125Z"
   },
   {
    "duration": 26,
    "start_time": "2024-07-24T00:00:50.398Z"
   },
   {
    "duration": 524,
    "start_time": "2024-07-24T00:01:17.578Z"
   },
   {
    "duration": 77,
    "start_time": "2024-07-24T00:01:24.567Z"
   },
   {
    "duration": 8,
    "start_time": "2024-07-24T00:01:37.478Z"
   },
   {
    "duration": 8,
    "start_time": "2024-07-24T00:01:42.052Z"
   },
   {
    "duration": 23,
    "start_time": "2024-07-24T00:01:46.355Z"
   },
   {
    "duration": 22,
    "start_time": "2024-07-24T00:01:48.512Z"
   },
   {
    "duration": 42,
    "start_time": "2024-07-24T00:01:53.628Z"
   },
   {
    "duration": 166,
    "start_time": "2024-07-24T00:02:08.651Z"
   },
   {
    "duration": 27,
    "start_time": "2024-07-24T00:02:17.471Z"
   },
   {
    "duration": 25,
    "start_time": "2024-07-24T00:02:31.176Z"
   },
   {
    "duration": 39,
    "start_time": "2024-07-24T00:02:41.370Z"
   },
   {
    "duration": 20,
    "start_time": "2024-07-24T00:02:46.983Z"
   },
   {
    "duration": 8,
    "start_time": "2024-07-24T00:02:54.151Z"
   },
   {
    "duration": 36,
    "start_time": "2024-07-24T00:03:02.069Z"
   },
   {
    "duration": 6,
    "start_time": "2024-07-24T00:03:48.248Z"
   },
   {
    "duration": 6,
    "start_time": "2024-07-24T00:03:51.861Z"
   },
   {
    "duration": 109,
    "start_time": "2024-07-24T00:03:54.541Z"
   },
   {
    "duration": 90,
    "start_time": "2024-07-24T00:04:05.255Z"
   },
   {
    "duration": 430,
    "start_time": "2024-07-24T00:07:03.974Z"
   },
   {
    "duration": 733,
    "start_time": "2024-07-24T00:07:04.408Z"
   },
   {
    "duration": 1306,
    "start_time": "2024-07-24T00:07:05.144Z"
   },
   {
    "duration": 11,
    "start_time": "2024-07-24T00:07:06.453Z"
   },
   {
    "duration": 8,
    "start_time": "2024-07-24T00:07:06.468Z"
   },
   {
    "duration": 36,
    "start_time": "2024-07-24T00:07:10.079Z"
   },
   {
    "duration": 134,
    "start_time": "2024-07-24T00:07:15.159Z"
   },
   {
    "duration": 136,
    "start_time": "2024-07-24T00:07:20.322Z"
   },
   {
    "duration": 79544,
    "start_time": "2024-07-24T00:07:54.574Z"
   },
   {
    "duration": 116,
    "start_time": "2024-07-24T00:09:14.121Z"
   },
   {
    "duration": 33,
    "start_time": "2024-07-24T00:09:27.429Z"
   },
   {
    "duration": 94,
    "start_time": "2024-07-24T00:09:32.530Z"
   },
   {
    "duration": 94,
    "start_time": "2024-07-24T00:09:42.205Z"
   },
   {
    "duration": 8,
    "start_time": "2024-07-24T00:10:40.609Z"
   },
   {
    "duration": 33,
    "start_time": "2024-07-24T00:10:43.804Z"
   },
   {
    "duration": 7,
    "start_time": "2024-07-24T00:11:23.346Z"
   },
   {
    "duration": 27,
    "start_time": "2024-07-24T00:11:26.887Z"
   },
   {
    "duration": 7,
    "start_time": "2024-07-24T00:11:34.642Z"
   },
   {
    "duration": 25,
    "start_time": "2024-07-24T00:11:37.995Z"
   },
   {
    "duration": 27,
    "start_time": "2024-07-24T00:12:08.940Z"
   },
   {
    "duration": 7,
    "start_time": "2024-07-24T00:12:23.322Z"
   },
   {
    "duration": 31,
    "start_time": "2024-07-24T00:12:26.321Z"
   },
   {
    "duration": 5087,
    "start_time": "2024-07-24T00:13:19.321Z"
   },
   {
    "duration": 105,
    "start_time": "2024-07-24T00:13:29.384Z"
   },
   {
    "duration": 10,
    "start_time": "2024-07-24T00:13:39.582Z"
   },
   {
    "duration": 27,
    "start_time": "2024-07-24T00:13:46.144Z"
   },
   {
    "duration": 26,
    "start_time": "2024-07-24T00:13:48.632Z"
   },
   {
    "duration": 34,
    "start_time": "2024-07-24T00:14:00.068Z"
   },
   {
    "duration": 307,
    "start_time": "2024-07-24T00:19:11.434Z"
   },
   {
    "duration": 430,
    "start_time": "2024-07-24T00:19:16.571Z"
   },
   {
    "duration": 730,
    "start_time": "2024-07-24T00:19:17.005Z"
   },
   {
    "duration": 1265,
    "start_time": "2024-07-24T00:19:17.738Z"
   },
   {
    "duration": 6,
    "start_time": "2024-07-24T00:19:19.007Z"
   },
   {
    "duration": 8,
    "start_time": "2024-07-24T00:19:19.034Z"
   },
   {
    "duration": 156,
    "start_time": "2024-07-24T00:19:19.046Z"
   },
   {
    "duration": 56,
    "start_time": "2024-07-24T00:20:37.241Z"
   },
   {
    "duration": 123,
    "start_time": "2024-07-24T00:20:37.301Z"
   },
   {
    "duration": 35,
    "start_time": "2024-07-24T00:20:45.260Z"
   },
   {
    "duration": 7,
    "start_time": "2024-07-24T00:20:54.204Z"
   },
   {
    "duration": 54,
    "start_time": "2024-07-24T00:21:09.968Z"
   },
   {
    "duration": 33,
    "start_time": "2024-07-24T00:21:18.258Z"
   },
   {
    "duration": 53,
    "start_time": "2024-07-24T00:21:30.831Z"
   },
   {
    "duration": 34,
    "start_time": "2024-07-24T00:21:31.611Z"
   },
   {
    "duration": 7,
    "start_time": "2024-07-24T00:21:43.007Z"
   },
   {
    "duration": 19,
    "start_time": "2024-07-24T00:21:47.303Z"
   },
   {
    "duration": 51,
    "start_time": "2024-07-24T00:21:49.750Z"
   },
   {
    "duration": 20,
    "start_time": "2024-07-24T00:21:51.307Z"
   },
   {
    "duration": 62,
    "start_time": "2024-07-24T00:21:55.909Z"
   },
   {
    "duration": 14,
    "start_time": "2024-07-24T00:21:56.862Z"
   },
   {
    "duration": 83,
    "start_time": "2024-07-24T00:21:59.362Z"
   },
   {
    "duration": 77,
    "start_time": "2024-07-24T00:22:04.381Z"
   },
   {
    "duration": 6,
    "start_time": "2024-07-24T00:22:05.216Z"
   },
   {
    "duration": 16,
    "start_time": "2024-07-24T00:22:35.561Z"
   },
   {
    "duration": 36,
    "start_time": "2024-07-24T00:22:40.472Z"
   },
   {
    "duration": 86,
    "start_time": "2024-07-24T00:22:49.705Z"
   },
   {
    "duration": 92,
    "start_time": "2024-07-24T00:22:58.675Z"
   },
   {
    "duration": 454,
    "start_time": "2024-07-24T01:54:50.462Z"
   },
   {
    "duration": 848,
    "start_time": "2024-07-24T01:54:50.920Z"
   },
   {
    "duration": 1278,
    "start_time": "2024-07-24T01:54:51.771Z"
   },
   {
    "duration": 8,
    "start_time": "2024-07-24T01:54:54.423Z"
   },
   {
    "duration": 7,
    "start_time": "2024-07-24T01:54:54.910Z"
   },
   {
    "duration": 142,
    "start_time": "2024-07-24T01:54:56.133Z"
   },
   {
    "duration": 433,
    "start_time": "2024-07-24T01:56:23.438Z"
   },
   {
    "duration": 741,
    "start_time": "2024-07-24T01:56:23.874Z"
   },
   {
    "duration": 41,
    "start_time": "2024-07-24T01:56:24.619Z"
   },
   {
    "duration": 1264,
    "start_time": "2024-07-24T01:56:27.763Z"
   },
   {
    "duration": 8,
    "start_time": "2024-07-24T01:56:30.911Z"
   },
   {
    "duration": 8,
    "start_time": "2024-07-24T01:56:31.190Z"
   },
   {
    "duration": 145,
    "start_time": "2024-07-24T01:56:34.408Z"
   },
   {
    "duration": 8,
    "start_time": "2024-07-24T01:56:47.425Z"
   },
   {
    "duration": 34,
    "start_time": "2024-07-24T01:56:52.066Z"
   },
   {
    "duration": 27,
    "start_time": "2024-07-24T01:56:56.980Z"
   },
   {
    "duration": 141,
    "start_time": "2024-07-24T01:57:16.188Z"
   },
   {
    "duration": 58,
    "start_time": "2024-07-24T01:57:28.769Z"
   },
   {
    "duration": 51,
    "start_time": "2024-07-24T01:57:42.252Z"
   },
   {
    "duration": 9,
    "start_time": "2024-07-24T01:57:57.491Z"
   },
   {
    "duration": 25,
    "start_time": "2024-07-24T01:58:00.967Z"
   },
   {
    "duration": 26,
    "start_time": "2024-07-24T01:58:04.556Z"
   },
   {
    "duration": 24,
    "start_time": "2024-07-24T01:58:10.793Z"
   },
   {
    "duration": 24,
    "start_time": "2024-07-24T01:58:23.126Z"
   },
   {
    "duration": 22,
    "start_time": "2024-07-24T01:58:37.640Z"
   },
   {
    "duration": 7,
    "start_time": "2024-07-24T01:58:46.101Z"
   },
   {
    "duration": 26,
    "start_time": "2024-07-24T01:58:52.723Z"
   },
   {
    "duration": 7,
    "start_time": "2024-07-24T01:59:23.407Z"
   },
   {
    "duration": 9,
    "start_time": "2024-07-24T01:59:29.884Z"
   },
   {
    "duration": 471,
    "start_time": "2024-07-24T23:12:04.268Z"
   },
   {
    "duration": 810,
    "start_time": "2024-07-24T23:12:04.742Z"
   },
   {
    "duration": 1347,
    "start_time": "2024-07-24T23:12:05.731Z"
   },
   {
    "duration": 6,
    "start_time": "2024-07-24T23:12:09.607Z"
   },
   {
    "duration": 7,
    "start_time": "2024-07-24T23:12:10.290Z"
   },
   {
    "duration": 149,
    "start_time": "2024-07-24T23:12:11.758Z"
   },
   {
    "duration": 79193,
    "start_time": "2024-07-24T23:12:18.786Z"
   },
   {
    "duration": 8,
    "start_time": "2024-07-24T23:17:10.856Z"
   },
   {
    "duration": 26,
    "start_time": "2024-07-24T23:17:14.644Z"
   },
   {
    "duration": 25,
    "start_time": "2024-07-24T23:17:18.549Z"
   },
   {
    "duration": 25,
    "start_time": "2024-07-24T23:17:38.556Z"
   },
   {
    "duration": 23,
    "start_time": "2024-07-24T23:17:55.529Z"
   },
   {
    "duration": 26,
    "start_time": "2024-07-24T23:18:00.692Z"
   },
   {
    "duration": 29,
    "start_time": "2024-07-24T23:18:03.750Z"
   },
   {
    "duration": 8,
    "start_time": "2024-07-24T23:18:56.973Z"
   },
   {
    "duration": 25,
    "start_time": "2024-07-24T23:19:14.923Z"
   },
   {
    "duration": 24,
    "start_time": "2024-07-24T23:19:24.929Z"
   },
   {
    "duration": 24,
    "start_time": "2024-07-24T23:19:59.072Z"
   },
   {
    "duration": 110,
    "start_time": "2024-07-24T23:20:47.510Z"
   },
   {
    "duration": 8,
    "start_time": "2024-07-24T23:21:38.006Z"
   },
   {
    "duration": 5,
    "start_time": "2024-07-24T23:22:03.314Z"
   },
   {
    "duration": 105,
    "start_time": "2024-07-24T23:22:12.311Z"
   },
   {
    "duration": 5,
    "start_time": "2024-07-24T23:22:12.596Z"
   },
   {
    "duration": 6,
    "start_time": "2024-07-24T23:22:25.432Z"
   },
   {
    "duration": 7,
    "start_time": "2024-07-24T23:23:04.685Z"
   },
   {
    "duration": 20,
    "start_time": "2024-07-24T23:23:08.739Z"
   },
   {
    "duration": 37,
    "start_time": "2024-07-24T23:23:47.025Z"
   },
   {
    "duration": 22,
    "start_time": "2024-07-24T23:24:01.612Z"
   },
   {
    "duration": 40,
    "start_time": "2024-07-24T23:25:05.768Z"
   },
   {
    "duration": 12,
    "start_time": "2024-07-24T23:25:14.625Z"
   },
   {
    "duration": 42,
    "start_time": "2024-07-24T23:25:38.183Z"
   },
   {
    "duration": 52,
    "start_time": "2024-07-24T23:26:06.804Z"
   },
   {
    "duration": 9,
    "start_time": "2024-07-24T23:26:18.112Z"
   },
   {
    "duration": 42,
    "start_time": "2024-07-24T23:26:47.080Z"
   },
   {
    "duration": 93,
    "start_time": "2024-07-24T23:26:55.896Z"
   },
   {
    "duration": 36,
    "start_time": "2024-07-24T23:44:43.554Z"
   },
   {
    "duration": 333,
    "start_time": "2024-07-24T23:45:12.317Z"
   },
   {
    "duration": 780,
    "start_time": "2024-07-24T23:45:22.531Z"
   },
   {
    "duration": 672,
    "start_time": "2024-07-24T23:45:44.250Z"
   },
   {
    "duration": 769,
    "start_time": "2024-07-24T23:45:47.731Z"
   },
   {
    "duration": 695,
    "start_time": "2024-07-24T23:45:50.835Z"
   },
   {
    "duration": 37,
    "start_time": "2024-07-24T23:46:25.736Z"
   },
   {
    "duration": 7,
    "start_time": "2024-07-24T23:46:33.003Z"
   },
   {
    "duration": 34,
    "start_time": "2024-07-24T23:58:26.658Z"
   },
   {
    "duration": 6,
    "start_time": "2024-07-24T23:59:31.973Z"
   },
   {
    "duration": 3,
    "start_time": "2024-07-24T23:59:47.241Z"
   },
   {
    "duration": 80,
    "start_time": "2024-07-25T00:00:13.584Z"
   },
   {
    "duration": 85,
    "start_time": "2024-07-25T00:10:46.598Z"
   },
   {
    "duration": 6,
    "start_time": "2024-07-25T00:10:57.247Z"
   },
   {
    "duration": 1551,
    "start_time": "2024-07-25T00:12:18.184Z"
   },
   {
    "duration": 7,
    "start_time": "2024-07-25T00:12:41.165Z"
   },
   {
    "duration": 194,
    "start_time": "2024-07-25T00:12:48.788Z"
   },
   {
    "duration": 102,
    "start_time": "2024-07-25T00:13:00.109Z"
   },
   {
    "duration": 104,
    "start_time": "2024-07-25T00:13:17.372Z"
   },
   {
    "duration": 97,
    "start_time": "2024-07-25T00:13:30.911Z"
   },
   {
    "duration": 3,
    "start_time": "2024-07-25T00:14:08.239Z"
   },
   {
    "duration": 1088,
    "start_time": "2024-07-25T00:14:25.969Z"
   },
   {
    "duration": 1238,
    "start_time": "2024-07-25T00:14:47.511Z"
   },
   {
    "duration": 786,
    "start_time": "2024-07-25T00:14:48.753Z"
   },
   {
    "duration": 1252,
    "start_time": "2024-07-25T00:14:49.542Z"
   },
   {
    "duration": 11,
    "start_time": "2024-07-25T00:14:50.797Z"
   },
   {
    "duration": 8,
    "start_time": "2024-07-25T00:14:50.813Z"
   },
   {
    "duration": 172,
    "start_time": "2024-07-25T00:14:50.824Z"
   },
   {
    "duration": 78212,
    "start_time": "2024-07-25T00:14:50.999Z"
   },
   {
    "duration": 104,
    "start_time": "2024-07-25T00:16:09.214Z"
   },
   {
    "duration": 115,
    "start_time": "2024-07-25T00:16:09.321Z"
   },
   {
    "duration": 5,
    "start_time": "2024-07-25T00:16:09.438Z"
   },
   {
    "duration": 61,
    "start_time": "2024-07-25T00:16:09.446Z"
   },
   {
    "duration": 41,
    "start_time": "2024-07-25T00:16:09.510Z"
   },
   {
    "duration": 68,
    "start_time": "2024-07-25T00:16:09.553Z"
   },
   {
    "duration": 39,
    "start_time": "2024-07-25T00:16:09.627Z"
   },
   {
    "duration": 58,
    "start_time": "2024-07-25T00:16:09.669Z"
   },
   {
    "duration": 103,
    "start_time": "2024-07-25T00:16:09.730Z"
   },
   {
    "duration": 415,
    "start_time": "2024-07-25T00:16:09.835Z"
   },
   {
    "duration": 696,
    "start_time": "2024-07-25T00:48:53.660Z"
   },
   {
    "duration": 0,
    "start_time": "2024-07-25T00:49:17.718Z"
   },
   {
    "duration": 716,
    "start_time": "2024-07-25T00:49:18.136Z"
   },
   {
    "duration": 23148,
    "start_time": "2024-07-25T00:49:26.384Z"
   },
   {
    "duration": 22987,
    "start_time": "2024-07-25T00:50:29.619Z"
   },
   {
    "duration": 4,
    "start_time": "2024-07-25T00:50:52.610Z"
   },
   {
    "duration": 1144,
    "start_time": "2024-07-25T00:51:21.856Z"
   },
   {
    "duration": 759,
    "start_time": "2024-07-25T00:51:23.003Z"
   },
   {
    "duration": 1316,
    "start_time": "2024-07-25T00:51:23.764Z"
   },
   {
    "duration": 7,
    "start_time": "2024-07-25T00:51:25.085Z"
   },
   {
    "duration": 16,
    "start_time": "2024-07-25T00:51:25.095Z"
   },
   {
    "duration": 161,
    "start_time": "2024-07-25T00:51:25.114Z"
   },
   {
    "duration": 78974,
    "start_time": "2024-07-25T00:51:25.278Z"
   },
   {
    "duration": 116,
    "start_time": "2024-07-25T00:52:44.255Z"
   },
   {
    "duration": 124,
    "start_time": "2024-07-25T00:52:44.374Z"
   },
   {
    "duration": 4,
    "start_time": "2024-07-25T00:52:44.509Z"
   },
   {
    "duration": 41,
    "start_time": "2024-07-25T00:52:44.516Z"
   },
   {
    "duration": 66,
    "start_time": "2024-07-25T00:52:44.560Z"
   },
   {
    "duration": 43,
    "start_time": "2024-07-25T00:52:44.630Z"
   },
   {
    "duration": 61,
    "start_time": "2024-07-25T00:52:44.676Z"
   },
   {
    "duration": 42,
    "start_time": "2024-07-25T00:52:44.740Z"
   },
   {
    "duration": 103,
    "start_time": "2024-07-25T00:52:44.806Z"
   },
   {
    "duration": 703,
    "start_time": "2024-07-25T00:52:44.912Z"
   },
   {
    "duration": 23289,
    "start_time": "2024-07-25T00:52:45.618Z"
   },
   {
    "duration": 1170,
    "start_time": "2024-07-25T22:12:09.493Z"
   },
   {
    "duration": 794,
    "start_time": "2024-07-25T22:12:10.667Z"
   },
   {
    "duration": 1270,
    "start_time": "2024-07-25T22:12:12.911Z"
   },
   {
    "duration": 6,
    "start_time": "2024-07-25T22:12:16.785Z"
   },
   {
    "duration": 7,
    "start_time": "2024-07-25T22:12:17.464Z"
   },
   {
    "duration": 140,
    "start_time": "2024-07-25T22:12:19.956Z"
   },
   {
    "duration": 78781,
    "start_time": "2024-07-25T22:12:23.475Z"
   },
   {
    "duration": 100,
    "start_time": "2024-07-25T22:13:58.626Z"
   },
   {
    "duration": 105,
    "start_time": "2024-07-25T22:14:07.244Z"
   },
   {
    "duration": 4,
    "start_time": "2024-07-25T22:14:08.219Z"
   },
   {
    "duration": 42,
    "start_time": "2024-07-25T22:14:11.427Z"
   },
   {
    "duration": 40,
    "start_time": "2024-07-25T22:14:12.091Z"
   },
   {
    "duration": 38,
    "start_time": "2024-07-25T22:14:12.681Z"
   },
   {
    "duration": 43,
    "start_time": "2024-07-25T22:14:15.053Z"
   },
   {
    "duration": 91,
    "start_time": "2024-07-25T22:14:16.159Z"
   },
   {
    "duration": 40,
    "start_time": "2024-07-25T22:14:20.157Z"
   },
   {
    "duration": 39,
    "start_time": "2024-07-25T22:14:20.767Z"
   },
   {
    "duration": 105,
    "start_time": "2024-07-25T22:14:21.268Z"
   },
   {
    "duration": 387,
    "start_time": "2024-07-25T22:15:06.352Z"
   },
   {
    "duration": 36,
    "start_time": "2024-07-25T22:15:09.959Z"
   },
   {
    "duration": 3905,
    "start_time": "2024-07-25T22:16:18.067Z"
   },
   {
    "duration": 38,
    "start_time": "2024-07-25T22:16:35.055Z"
   },
   {
    "duration": 22,
    "start_time": "2024-07-25T22:16:44.852Z"
   },
   {
    "duration": 1126,
    "start_time": "2024-07-25T22:16:53.550Z"
   },
   {
    "duration": 260,
    "start_time": "2024-07-25T22:17:04.642Z"
   },
   {
    "duration": 1127,
    "start_time": "2024-07-25T22:17:12.533Z"
   },
   {
    "duration": 8,
    "start_time": "2024-07-25T22:17:50.681Z"
   },
   {
    "duration": 31,
    "start_time": "2024-07-25T22:17:54.279Z"
   },
   {
    "duration": 51,
    "start_time": "2024-07-25T22:17:59.460Z"
   },
   {
    "duration": 190,
    "start_time": "2024-07-25T22:18:12.578Z"
   },
   {
    "duration": 9,
    "start_time": "2024-07-25T22:18:16.695Z"
   },
   {
    "duration": 39,
    "start_time": "2024-07-25T22:18:19.989Z"
   },
   {
    "duration": 51,
    "start_time": "2024-07-25T22:18:24.042Z"
   },
   {
    "duration": 45,
    "start_time": "2024-07-25T22:18:28.719Z"
   },
   {
    "duration": 13,
    "start_time": "2024-07-25T22:18:36.002Z"
   },
   {
    "duration": 228,
    "start_time": "2024-07-25T22:20:09.447Z"
   },
   {
    "duration": 47,
    "start_time": "2024-07-25T22:20:41.060Z"
   },
   {
    "duration": 6,
    "start_time": "2024-07-25T22:20:50.347Z"
   },
   {
    "duration": 105,
    "start_time": "2024-07-25T22:21:03.927Z"
   },
   {
    "duration": 22,
    "start_time": "2024-07-25T22:21:14.231Z"
   },
   {
    "duration": 734,
    "start_time": "2024-07-25T22:21:21.563Z"
   },
   {
    "duration": 689,
    "start_time": "2024-07-25T22:21:28.565Z"
   },
   {
    "duration": 80,
    "start_time": "2024-07-25T22:21:48.786Z"
   },
   {
    "duration": 8,
    "start_time": "2024-07-25T22:21:52.393Z"
   },
   {
    "duration": 156,
    "start_time": "2024-07-25T22:22:44.418Z"
   },
   {
    "duration": 102,
    "start_time": "2024-07-25T22:22:52.795Z"
   },
   {
    "duration": 42,
    "start_time": "2024-07-25T22:22:57.409Z"
   },
   {
    "duration": 998,
    "start_time": "2024-07-25T22:23:34.698Z"
   },
   {
    "duration": 311,
    "start_time": "2024-07-25T22:23:59.291Z"
   },
   {
    "duration": 1482,
    "start_time": "2024-07-25T22:24:04.440Z"
   },
   {
    "duration": 772,
    "start_time": "2024-07-25T22:24:05.926Z"
   },
   {
    "duration": 1281,
    "start_time": "2024-07-25T22:24:06.701Z"
   },
   {
    "duration": 6,
    "start_time": "2024-07-25T22:24:07.985Z"
   },
   {
    "duration": 7,
    "start_time": "2024-07-25T22:24:07.997Z"
   },
   {
    "duration": 146,
    "start_time": "2024-07-25T22:24:08.032Z"
   },
   {
    "duration": 77858,
    "start_time": "2024-07-25T22:24:08.182Z"
   },
   {
    "duration": 113,
    "start_time": "2024-07-25T22:25:26.043Z"
   },
   {
    "duration": 106,
    "start_time": "2024-07-25T22:25:26.159Z"
   },
   {
    "duration": 5,
    "start_time": "2024-07-25T22:25:26.268Z"
   },
   {
    "duration": 65,
    "start_time": "2024-07-25T22:25:26.276Z"
   },
   {
    "duration": 39,
    "start_time": "2024-07-25T22:25:26.345Z"
   },
   {
    "duration": 63,
    "start_time": "2024-07-25T22:25:26.388Z"
   },
   {
    "duration": 40,
    "start_time": "2024-07-25T22:25:26.456Z"
   },
   {
    "duration": 58,
    "start_time": "2024-07-25T22:25:26.499Z"
   },
   {
    "duration": 104,
    "start_time": "2024-07-25T22:25:26.560Z"
   },
   {
    "duration": 734,
    "start_time": "2024-07-25T22:25:26.668Z"
   },
   {
    "duration": 162,
    "start_time": "2024-07-25T22:25:27.405Z"
   },
   {
    "duration": 20773,
    "start_time": "2024-07-25T22:25:27.570Z"
   },
   {
    "duration": 22318,
    "start_time": "2024-07-25T22:27:56.536Z"
   },
   {
    "duration": 20833,
    "start_time": "2024-07-25T22:28:47.725Z"
   },
   {
    "duration": 3,
    "start_time": "2024-07-25T22:31:31.924Z"
   },
   {
    "duration": 6,
    "start_time": "2024-07-25T22:32:13.967Z"
   },
   {
    "duration": 6,
    "start_time": "2024-07-25T22:32:26.984Z"
   },
   {
    "duration": 35,
    "start_time": "2024-07-25T22:34:52.776Z"
   },
   {
    "duration": 63,
    "start_time": "2024-07-25T22:35:02.952Z"
   },
   {
    "duration": 42,
    "start_time": "2024-07-25T22:35:18.991Z"
   },
   {
    "duration": 97,
    "start_time": "2024-07-25T22:36:19.523Z"
   },
   {
    "duration": 38,
    "start_time": "2024-07-25T22:36:22.032Z"
   },
   {
    "duration": 7,
    "start_time": "2024-07-25T22:36:34.757Z"
   },
   {
    "duration": 1402,
    "start_time": "2024-07-25T22:36:56.672Z"
   },
   {
    "duration": 776,
    "start_time": "2024-07-25T22:36:58.078Z"
   },
   {
    "duration": 1283,
    "start_time": "2024-07-25T22:36:58.856Z"
   },
   {
    "duration": 8,
    "start_time": "2024-07-25T22:37:00.142Z"
   },
   {
    "duration": 8,
    "start_time": "2024-07-25T22:37:00.155Z"
   },
   {
    "duration": 174,
    "start_time": "2024-07-25T22:37:00.165Z"
   },
   {
    "duration": 79178,
    "start_time": "2024-07-25T22:37:00.342Z"
   },
   {
    "duration": 115,
    "start_time": "2024-07-25T22:38:19.522Z"
   },
   {
    "duration": 121,
    "start_time": "2024-07-25T22:38:19.640Z"
   },
   {
    "duration": 5,
    "start_time": "2024-07-25T22:38:19.764Z"
   },
   {
    "duration": 60,
    "start_time": "2024-07-25T22:38:19.772Z"
   },
   {
    "duration": 40,
    "start_time": "2024-07-25T22:38:19.835Z"
   },
   {
    "duration": 63,
    "start_time": "2024-07-25T22:38:19.878Z"
   },
   {
    "duration": 40,
    "start_time": "2024-07-25T22:38:19.946Z"
   },
   {
    "duration": 58,
    "start_time": "2024-07-25T22:38:19.989Z"
   },
   {
    "duration": 102,
    "start_time": "2024-07-25T22:38:20.050Z"
   },
   {
    "duration": 739,
    "start_time": "2024-07-25T22:38:20.155Z"
   },
   {
    "duration": 164,
    "start_time": "2024-07-25T22:38:20.897Z"
   },
   {
    "duration": 21074,
    "start_time": "2024-07-25T22:38:21.064Z"
   },
   {
    "duration": 1502,
    "start_time": "2024-07-25T22:55:56.814Z"
   },
   {
    "duration": 20539,
    "start_time": "2024-07-25T22:58:08.300Z"
   },
   {
    "duration": 3,
    "start_time": "2024-07-25T22:58:53.604Z"
   },
   {
    "duration": 20561,
    "start_time": "2024-07-25T22:59:06.273Z"
   },
   {
    "duration": 4,
    "start_time": "2024-07-25T22:59:59.056Z"
   },
   {
    "duration": 1449,
    "start_time": "2024-07-25T23:00:30.282Z"
   },
   {
    "duration": 830,
    "start_time": "2024-07-25T23:00:31.735Z"
   },
   {
    "duration": 1234,
    "start_time": "2024-07-25T23:00:32.568Z"
   },
   {
    "duration": 6,
    "start_time": "2024-07-25T23:00:33.805Z"
   },
   {
    "duration": 7,
    "start_time": "2024-07-25T23:00:33.834Z"
   },
   {
    "duration": 159,
    "start_time": "2024-07-25T23:00:33.845Z"
   },
   {
    "duration": 78733,
    "start_time": "2024-07-25T23:00:34.007Z"
   },
   {
    "duration": 111,
    "start_time": "2024-07-25T23:01:52.743Z"
   },
   {
    "duration": 111,
    "start_time": "2024-07-25T23:01:52.858Z"
   },
   {
    "duration": 5,
    "start_time": "2024-07-25T23:01:52.972Z"
   },
   {
    "duration": 66,
    "start_time": "2024-07-25T23:01:52.980Z"
   },
   {
    "duration": 41,
    "start_time": "2024-07-25T23:01:53.049Z"
   },
   {
    "duration": 59,
    "start_time": "2024-07-25T23:01:53.092Z"
   },
   {
    "duration": 40,
    "start_time": "2024-07-25T23:01:53.159Z"
   },
   {
    "duration": 62,
    "start_time": "2024-07-25T23:01:53.202Z"
   },
   {
    "duration": 114,
    "start_time": "2024-07-25T23:01:53.267Z"
   },
   {
    "duration": 720,
    "start_time": "2024-07-25T23:01:53.384Z"
   },
   {
    "duration": 163,
    "start_time": "2024-07-25T23:01:54.108Z"
   },
   {
    "duration": 20782,
    "start_time": "2024-07-25T23:01:54.274Z"
   },
   {
    "duration": 74,
    "start_time": "2024-07-25T23:02:15.059Z"
   },
   {
    "duration": 5,
    "start_time": "2024-07-25T23:02:15.439Z"
   },
   {
    "duration": 1421,
    "start_time": "2024-07-25T23:04:49.948Z"
   },
   {
    "duration": 760,
    "start_time": "2024-07-25T23:04:51.373Z"
   },
   {
    "duration": 1236,
    "start_time": "2024-07-25T23:04:52.138Z"
   },
   {
    "duration": 17,
    "start_time": "2024-07-25T23:04:53.377Z"
   },
   {
    "duration": 12,
    "start_time": "2024-07-25T23:04:53.399Z"
   },
   {
    "duration": 167,
    "start_time": "2024-07-25T23:04:53.415Z"
   },
   {
    "duration": 1355,
    "start_time": "2024-07-25T23:05:27.692Z"
   },
   {
    "duration": 727,
    "start_time": "2024-07-25T23:05:29.050Z"
   },
   {
    "duration": 1234,
    "start_time": "2024-07-25T23:05:29.780Z"
   },
   {
    "duration": 16,
    "start_time": "2024-07-25T23:05:31.017Z"
   },
   {
    "duration": 8,
    "start_time": "2024-07-25T23:05:31.036Z"
   },
   {
    "duration": 143,
    "start_time": "2024-07-25T23:05:33.326Z"
   },
   {
    "duration": 467,
    "start_time": "2024-07-25T23:05:59.368Z"
   },
   {
    "duration": 135,
    "start_time": "2024-07-25T23:06:05.053Z"
   },
   {
    "duration": 186,
    "start_time": "2024-07-25T23:06:20.011Z"
   },
   {
    "duration": 247,
    "start_time": "2024-07-25T23:06:23.740Z"
   },
   {
    "duration": 1384,
    "start_time": "2024-07-25T23:07:11.972Z"
   },
   {
    "duration": 782,
    "start_time": "2024-07-25T23:07:13.359Z"
   },
   {
    "duration": 1224,
    "start_time": "2024-07-25T23:07:14.144Z"
   },
   {
    "duration": 6,
    "start_time": "2024-07-25T23:07:15.372Z"
   },
   {
    "duration": 12,
    "start_time": "2024-07-25T23:07:15.381Z"
   },
   {
    "duration": 314,
    "start_time": "2024-07-25T23:07:15.396Z"
   },
   {
    "duration": 1426,
    "start_time": "2024-07-25T23:08:34.925Z"
   },
   {
    "duration": 783,
    "start_time": "2024-07-25T23:08:36.355Z"
   },
   {
    "duration": 1279,
    "start_time": "2024-07-25T23:08:37.142Z"
   },
   {
    "duration": 6,
    "start_time": "2024-07-25T23:08:40.441Z"
   },
   {
    "duration": 9,
    "start_time": "2024-07-25T23:08:41.850Z"
   },
   {
    "duration": 298,
    "start_time": "2024-07-25T23:08:43.261Z"
   },
   {
    "duration": 1425,
    "start_time": "2024-07-25T23:09:05.018Z"
   },
   {
    "duration": 725,
    "start_time": "2024-07-25T23:09:06.447Z"
   },
   {
    "duration": 1287,
    "start_time": "2024-07-25T23:09:07.175Z"
   },
   {
    "duration": 6,
    "start_time": "2024-07-25T23:09:08.465Z"
   },
   {
    "duration": 8,
    "start_time": "2024-07-25T23:09:08.476Z"
   },
   {
    "duration": 34,
    "start_time": "2024-07-25T23:09:13.256Z"
   },
   {
    "duration": 141,
    "start_time": "2024-07-25T23:09:16.020Z"
   },
   {
    "duration": 134,
    "start_time": "2024-07-25T23:11:38.969Z"
   },
   {
    "duration": 7,
    "start_time": "2024-07-25T23:12:32.545Z"
   },
   {
    "duration": 140,
    "start_time": "2024-07-25T23:12:38.673Z"
   },
   {
    "duration": 216,
    "start_time": "2024-07-25T23:13:11.839Z"
   },
   {
    "duration": 35,
    "start_time": "2024-07-25T23:13:20.213Z"
   },
   {
    "duration": 1550,
    "start_time": "2024-07-25T23:13:23.786Z"
   },
   {
    "duration": 70,
    "start_time": "2024-07-25T23:13:32.568Z"
   },
   {
    "duration": 24,
    "start_time": "2024-07-25T23:13:42.059Z"
   },
   {
    "duration": 8,
    "start_time": "2024-07-25T23:13:48.498Z"
   },
   {
    "duration": 68,
    "start_time": "2024-07-25T23:13:50.993Z"
   },
   {
    "duration": 219,
    "start_time": "2024-07-25T23:13:58.814Z"
   },
   {
    "duration": 1363,
    "start_time": "2024-07-25T23:14:12.376Z"
   },
   {
    "duration": 734,
    "start_time": "2024-07-25T23:14:13.742Z"
   },
   {
    "duration": 1232,
    "start_time": "2024-07-25T23:14:14.478Z"
   },
   {
    "duration": 6,
    "start_time": "2024-07-25T23:14:15.715Z"
   },
   {
    "duration": 8,
    "start_time": "2024-07-25T23:14:15.735Z"
   },
   {
    "duration": 8,
    "start_time": "2024-07-25T23:14:23.202Z"
   },
   {
    "duration": 7,
    "start_time": "2024-07-25T23:14:26.936Z"
   },
   {
    "duration": 32,
    "start_time": "2024-07-25T23:14:47.752Z"
   },
   {
    "duration": 168,
    "start_time": "2024-07-25T23:14:57.097Z"
   },
   {
    "duration": 146,
    "start_time": "2024-07-25T23:15:19.252Z"
   },
   {
    "duration": 107,
    "start_time": "2024-07-25T23:16:10.673Z"
   },
   {
    "duration": 106,
    "start_time": "2024-07-25T23:16:22.152Z"
   },
   {
    "duration": 90,
    "start_time": "2024-07-25T23:16:30.833Z"
   },
   {
    "duration": 144,
    "start_time": "2024-07-25T23:17:32.695Z"
   },
   {
    "duration": 84,
    "start_time": "2024-07-25T23:18:01.714Z"
   },
   {
    "duration": 5,
    "start_time": "2024-07-25T23:18:08.975Z"
   },
   {
    "duration": 39,
    "start_time": "2024-07-25T23:18:18.488Z"
   },
   {
    "duration": 39,
    "start_time": "2024-07-25T23:18:19.133Z"
   },
   {
    "duration": 39,
    "start_time": "2024-07-25T23:18:19.594Z"
   },
   {
    "duration": 41,
    "start_time": "2024-07-25T23:18:20.078Z"
   },
   {
    "duration": 39,
    "start_time": "2024-07-25T23:18:49.450Z"
   },
   {
    "duration": 41,
    "start_time": "2024-07-25T23:18:50.914Z"
   },
   {
    "duration": 52,
    "start_time": "2024-07-25T23:19:11.501Z"
   },
   {
    "duration": 45,
    "start_time": "2024-07-25T23:19:12.030Z"
   },
   {
    "duration": 60,
    "start_time": "2024-07-25T23:19:15.996Z"
   },
   {
    "duration": 21,
    "start_time": "2024-07-25T23:19:28.765Z"
   },
   {
    "duration": 159,
    "start_time": "2024-07-25T23:19:48.433Z"
   },
   {
    "duration": 192,
    "start_time": "2024-07-25T23:19:52.124Z"
   },
   {
    "duration": 158,
    "start_time": "2024-07-25T23:20:41.993Z"
   },
   {
    "duration": 192,
    "start_time": "2024-07-25T23:20:45.595Z"
   },
   {
    "duration": 159,
    "start_time": "2024-07-25T23:20:58.411Z"
   },
   {
    "duration": 159,
    "start_time": "2024-07-25T23:21:02.428Z"
   },
   {
    "duration": 159,
    "start_time": "2024-07-25T23:21:08.883Z"
   },
   {
    "duration": 153,
    "start_time": "2024-07-25T23:21:17.322Z"
   },
   {
    "duration": 104,
    "start_time": "2024-07-25T23:21:45.583Z"
   },
   {
    "duration": 97,
    "start_time": "2024-07-25T23:21:52.048Z"
   },
   {
    "duration": 458,
    "start_time": "2024-07-25T23:22:03.276Z"
   },
   {
    "duration": 438,
    "start_time": "2024-07-25T23:22:14.713Z"
   },
   {
    "duration": 482,
    "start_time": "2024-07-25T23:22:19.865Z"
   },
   {
    "duration": 977,
    "start_time": "2024-07-25T23:22:27.744Z"
   },
   {
    "duration": 457,
    "start_time": "2024-07-25T23:22:43.493Z"
   },
   {
    "duration": 1376,
    "start_time": "2024-07-25T23:26:39.901Z"
   },
   {
    "duration": 742,
    "start_time": "2024-07-25T23:26:41.281Z"
   },
   {
    "duration": 1293,
    "start_time": "2024-07-25T23:26:42.025Z"
   },
   {
    "duration": 6,
    "start_time": "2024-07-25T23:26:45.087Z"
   },
   {
    "duration": 8,
    "start_time": "2024-07-25T23:26:45.874Z"
   },
   {
    "duration": 7,
    "start_time": "2024-07-25T23:27:00.022Z"
   },
   {
    "duration": 8,
    "start_time": "2024-07-25T23:27:03.506Z"
   },
   {
    "duration": 23,
    "start_time": "2024-07-25T23:27:09.583Z"
   },
   {
    "duration": 360,
    "start_time": "2024-07-25T23:27:25.319Z"
   },
   {
    "duration": 267,
    "start_time": "2024-07-25T23:27:33.334Z"
   },
   {
    "duration": 142,
    "start_time": "2024-07-25T23:27:59.539Z"
   },
   {
    "duration": 638,
    "start_time": "2024-07-25T23:28:58.249Z"
   },
   {
    "duration": 41,
    "start_time": "2024-07-25T23:29:35.750Z"
   },
   {
    "duration": 28,
    "start_time": "2024-07-25T23:31:02.934Z"
   },
   {
    "duration": 29,
    "start_time": "2024-07-25T23:31:05.904Z"
   },
   {
    "duration": 7,
    "start_time": "2024-07-25T23:31:44.238Z"
   },
   {
    "duration": 25,
    "start_time": "2024-07-25T23:31:53.033Z"
   },
   {
    "duration": 109,
    "start_time": "2024-07-25T23:32:16.068Z"
   },
   {
    "duration": 159,
    "start_time": "2024-07-25T23:32:31.353Z"
   },
   {
    "duration": 27,
    "start_time": "2024-07-25T23:33:27.833Z"
   },
   {
    "duration": 22,
    "start_time": "2024-07-25T23:33:41.795Z"
   },
   {
    "duration": 17,
    "start_time": "2024-07-25T23:34:03.066Z"
   },
   {
    "duration": 18,
    "start_time": "2024-07-25T23:34:07.752Z"
   },
   {
    "duration": 18,
    "start_time": "2024-07-25T23:34:13.157Z"
   },
   {
    "duration": 20,
    "start_time": "2024-07-25T23:36:16.846Z"
   },
   {
    "duration": 12,
    "start_time": "2024-07-25T23:36:21.676Z"
   },
   {
    "duration": 29,
    "start_time": "2024-07-25T23:36:31.720Z"
   },
   {
    "duration": 418,
    "start_time": "2024-07-25T23:36:39.857Z"
   },
   {
    "duration": 28,
    "start_time": "2024-07-25T23:36:43.507Z"
   },
   {
    "duration": 1487,
    "start_time": "2024-07-25T23:37:50.213Z"
   },
   {
    "duration": 5,
    "start_time": "2024-07-25T23:38:09.297Z"
   },
   {
    "duration": 29,
    "start_time": "2024-07-25T23:38:11.773Z"
   },
   {
    "duration": 93,
    "start_time": "2024-07-25T23:38:35.821Z"
   },
   {
    "duration": 7,
    "start_time": "2024-07-25T23:38:43.025Z"
   },
   {
    "duration": 166,
    "start_time": "2024-07-25T23:38:45.700Z"
   },
   {
    "duration": 81,
    "start_time": "2024-07-25T23:38:55.690Z"
   },
   {
    "duration": 9,
    "start_time": "2024-07-25T23:38:59.012Z"
   },
   {
    "duration": 1418,
    "start_time": "2024-07-25T23:39:22.029Z"
   },
   {
    "duration": 714,
    "start_time": "2024-07-25T23:39:23.450Z"
   },
   {
    "duration": 1303,
    "start_time": "2024-07-25T23:39:24.167Z"
   },
   {
    "duration": 7,
    "start_time": "2024-07-25T23:39:25.472Z"
   },
   {
    "duration": 8,
    "start_time": "2024-07-25T23:39:25.484Z"
   },
   {
    "duration": 145,
    "start_time": "2024-07-25T23:39:25.495Z"
   },
   {
    "duration": 25,
    "start_time": "2024-07-25T23:39:25.643Z"
   },
   {
    "duration": 18,
    "start_time": "2024-07-25T23:39:29.799Z"
   },
   {
    "duration": 78,
    "start_time": "2024-07-25T23:41:03.390Z"
   },
   {
    "duration": 1689,
    "start_time": "2024-07-25T23:41:36.578Z"
   },
   {
    "duration": 66,
    "start_time": "2024-07-25T23:41:50.192Z"
   },
   {
    "duration": 31,
    "start_time": "2024-07-25T23:41:54.129Z"
   },
   {
    "duration": 7,
    "start_time": "2024-07-25T23:42:05.761Z"
   },
   {
    "duration": 58,
    "start_time": "2024-07-25T23:42:10.888Z"
   },
   {
    "duration": 31,
    "start_time": "2024-07-25T23:42:14.185Z"
   },
   {
    "duration": 144,
    "start_time": "2024-07-25T23:42:40.759Z"
   },
   {
    "duration": 1070,
    "start_time": "2024-07-25T23:44:44.765Z"
   },
   {
    "duration": 20,
    "start_time": "2024-07-25T23:44:55.393Z"
   },
   {
    "duration": 107,
    "start_time": "2024-07-25T23:45:03.192Z"
   },
   {
    "duration": 427,
    "start_time": "2024-07-25T23:45:53.471Z"
   },
   {
    "duration": 454,
    "start_time": "2024-07-25T23:45:59.349Z"
   },
   {
    "duration": 56,
    "start_time": "2024-07-25T23:46:16.497Z"
   },
   {
    "duration": 56,
    "start_time": "2024-07-25T23:46:48.968Z"
   },
   {
    "duration": 84,
    "start_time": "2024-07-25T23:47:04.614Z"
   },
   {
    "duration": 179,
    "start_time": "2024-07-25T23:47:09.154Z"
   },
   {
    "duration": 12,
    "start_time": "2024-07-25T23:48:08.309Z"
   },
   {
    "duration": 8,
    "start_time": "2024-07-25T23:48:18.987Z"
   },
   {
    "duration": 42,
    "start_time": "2024-07-25T23:48:22.129Z"
   },
   {
    "duration": 12,
    "start_time": "2024-07-25T23:48:26.083Z"
   },
   {
    "duration": 8,
    "start_time": "2024-07-25T23:48:30.169Z"
   },
   {
    "duration": 99,
    "start_time": "2024-07-25T23:48:56.307Z"
   },
   {
    "duration": 131,
    "start_time": "2024-07-25T23:49:00.500Z"
   },
   {
    "duration": 100,
    "start_time": "2024-07-25T23:49:09.955Z"
   },
   {
    "duration": 389,
    "start_time": "2024-07-25T23:49:24.966Z"
   },
   {
    "duration": 510,
    "start_time": "2024-07-25T23:49:40.227Z"
   },
   {
    "duration": 578,
    "start_time": "2024-07-25T23:49:48.758Z"
   },
   {
    "duration": 453,
    "start_time": "2024-07-25T23:50:06.997Z"
   },
   {
    "duration": 498,
    "start_time": "2024-07-25T23:58:07.437Z"
   },
   {
    "duration": 472,
    "start_time": "2024-07-25T23:58:15.871Z"
   },
   {
    "duration": 303,
    "start_time": "2024-07-26T00:00:08.390Z"
   },
   {
    "duration": 1444,
    "start_time": "2024-07-26T00:00:11.401Z"
   },
   {
    "duration": 724,
    "start_time": "2024-07-26T00:00:12.849Z"
   },
   {
    "duration": 1275,
    "start_time": "2024-07-26T00:00:13.575Z"
   },
   {
    "duration": 6,
    "start_time": "2024-07-26T00:00:14.853Z"
   },
   {
    "duration": 7,
    "start_time": "2024-07-26T00:00:15.041Z"
   },
   {
    "duration": 113,
    "start_time": "2024-07-26T00:00:17.453Z"
   },
   {
    "duration": 142,
    "start_time": "2024-07-26T00:01:09.279Z"
   },
   {
    "duration": 8,
    "start_time": "2024-07-26T00:01:57.438Z"
   },
   {
    "duration": 4,
    "start_time": "2024-07-26T00:02:00.107Z"
   },
   {
    "duration": 26,
    "start_time": "2024-07-26T00:02:23.485Z"
   },
   {
    "duration": 4,
    "start_time": "2024-07-26T00:02:37.836Z"
   },
   {
    "duration": 17,
    "start_time": "2024-07-26T00:02:45.992Z"
   },
   {
    "duration": 19,
    "start_time": "2024-07-26T00:02:54.793Z"
   },
   {
    "duration": 17,
    "start_time": "2024-07-26T00:03:00.170Z"
   },
   {
    "duration": 137,
    "start_time": "2024-07-26T00:03:36.508Z"
   },
   {
    "duration": 26,
    "start_time": "2024-07-26T00:03:39.694Z"
   },
   {
    "duration": 18,
    "start_time": "2024-07-26T00:03:44.741Z"
   },
   {
    "duration": 19,
    "start_time": "2024-07-26T00:03:50.960Z"
   },
   {
    "duration": 30,
    "start_time": "2024-07-26T00:04:08.752Z"
   },
   {
    "duration": 49,
    "start_time": "2024-07-26T00:04:14.294Z"
   },
   {
    "duration": 49,
    "start_time": "2024-07-26T00:04:26.689Z"
   },
   {
    "duration": 8,
    "start_time": "2024-07-26T00:05:05.761Z"
   },
   {
    "duration": 12,
    "start_time": "2024-07-26T00:05:10.719Z"
   },
   {
    "duration": 15,
    "start_time": "2024-07-26T00:05:40.748Z"
   },
   {
    "duration": 55,
    "start_time": "2024-07-26T00:05:45.586Z"
   },
   {
    "duration": 48,
    "start_time": "2024-07-26T00:06:13.047Z"
   },
   {
    "duration": 712,
    "start_time": "2024-07-26T00:06:17.780Z"
   },
   {
    "duration": 47,
    "start_time": "2024-07-26T00:06:23.194Z"
   },
   {
    "duration": 420,
    "start_time": "2024-07-26T00:06:47.039Z"
   },
   {
    "duration": 495,
    "start_time": "2024-07-26T00:06:52.785Z"
   },
   {
    "duration": 1754,
    "start_time": "2024-07-26T00:07:17.962Z"
   },
   {
    "duration": 478,
    "start_time": "2024-07-26T00:07:33.656Z"
   },
   {
    "duration": 488,
    "start_time": "2024-07-26T00:07:45.806Z"
   },
   {
    "duration": 934,
    "start_time": "2024-07-26T00:08:16.992Z"
   },
   {
    "duration": 977,
    "start_time": "2024-07-26T00:08:30.518Z"
   },
   {
    "duration": 953,
    "start_time": "2024-07-26T00:08:44.459Z"
   },
   {
    "duration": 7,
    "start_time": "2024-07-26T00:10:16.703Z"
   },
   {
    "duration": 14,
    "start_time": "2024-07-26T00:10:22.094Z"
   },
   {
    "duration": 6,
    "start_time": "2024-07-26T00:10:54.414Z"
   },
   {
    "duration": 7,
    "start_time": "2024-07-26T00:11:26.803Z"
   },
   {
    "duration": 18,
    "start_time": "2024-07-26T00:12:17.476Z"
   },
   {
    "duration": 39,
    "start_time": "2024-07-26T00:14:00.616Z"
   },
   {
    "duration": 48,
    "start_time": "2024-07-26T00:14:08.571Z"
   },
   {
    "duration": 676,
    "start_time": "2024-07-26T00:14:16.764Z"
   },
   {
    "duration": 60,
    "start_time": "2024-07-26T00:14:26.333Z"
   },
   {
    "duration": 84,
    "start_time": "2024-07-26T00:14:32.595Z"
   },
   {
    "duration": 87,
    "start_time": "2024-07-26T00:17:05.781Z"
   },
   {
    "duration": 134,
    "start_time": "2024-07-26T00:17:47.879Z"
   },
   {
    "duration": 23,
    "start_time": "2024-07-26T00:17:59.902Z"
   },
   {
    "duration": 31,
    "start_time": "2024-07-26T00:18:05.174Z"
   },
   {
    "duration": 137,
    "start_time": "2024-07-26T00:18:15.608Z"
   },
   {
    "duration": 651,
    "start_time": "2024-07-26T00:19:27.896Z"
   },
   {
    "duration": 16,
    "start_time": "2024-07-26T00:19:36.938Z"
   },
   {
    "duration": 69,
    "start_time": "2024-07-26T00:19:44.419Z"
   },
   {
    "duration": 69,
    "start_time": "2024-07-26T00:19:54.043Z"
   },
   {
    "duration": 67,
    "start_time": "2024-07-26T00:20:02.009Z"
   },
   {
    "duration": 68,
    "start_time": "2024-07-26T00:20:18.713Z"
   },
   {
    "duration": 80,
    "start_time": "2024-07-26T00:20:27.126Z"
   },
   {
    "duration": 22,
    "start_time": "2024-07-26T00:20:42.536Z"
   },
   {
    "duration": 62,
    "start_time": "2024-07-26T00:20:56.238Z"
   },
   {
    "duration": 107,
    "start_time": "2024-07-26T00:21:41.146Z"
   },
   {
    "duration": 225,
    "start_time": "2024-07-26T00:22:12.957Z"
   },
   {
    "duration": 470,
    "start_time": "2024-07-26T00:22:48.248Z"
   },
   {
    "duration": 572,
    "start_time": "2024-07-26T00:22:54.136Z"
   },
   {
    "duration": 18,
    "start_time": "2024-07-26T00:23:17.678Z"
   },
   {
    "duration": 24,
    "start_time": "2024-07-26T00:23:25.088Z"
   },
   {
    "duration": 103,
    "start_time": "2024-07-26T00:23:55.067Z"
   },
   {
    "duration": 424,
    "start_time": "2024-07-26T00:24:13.220Z"
   },
   {
    "duration": 618,
    "start_time": "2024-07-26T00:24:24.338Z"
   },
   {
    "duration": 528,
    "start_time": "2024-07-26T00:25:05.517Z"
   },
   {
    "duration": 538,
    "start_time": "2024-07-26T00:25:15.525Z"
   },
   {
    "duration": 572,
    "start_time": "2024-07-26T00:25:25.264Z"
   },
   {
    "duration": 1386,
    "start_time": "2024-07-26T00:54:43.296Z"
   },
   {
    "duration": 724,
    "start_time": "2024-07-26T00:54:44.686Z"
   },
   {
    "duration": 1251,
    "start_time": "2024-07-26T00:54:45.414Z"
   },
   {
    "duration": 7,
    "start_time": "2024-07-26T00:54:46.668Z"
   },
   {
    "duration": 7,
    "start_time": "2024-07-26T00:54:46.680Z"
   },
   {
    "duration": 169,
    "start_time": "2024-07-26T00:54:46.690Z"
   },
   {
    "duration": 130,
    "start_time": "2024-07-26T00:54:46.862Z"
   },
   {
    "duration": 101,
    "start_time": "2024-07-26T00:54:46.995Z"
   },
   {
    "duration": 107,
    "start_time": "2024-07-26T00:54:47.099Z"
   },
   {
    "duration": 152,
    "start_time": "2024-07-26T00:54:47.209Z"
   },
   {
    "duration": 21,
    "start_time": "2024-07-26T00:54:47.364Z"
   },
   {
    "duration": 88,
    "start_time": "2024-07-26T00:54:47.388Z"
   },
   {
    "duration": 592,
    "start_time": "2024-07-26T00:54:47.479Z"
   },
   {
    "duration": 573,
    "start_time": "2024-07-26T00:54:48.078Z"
   },
   {
    "duration": 559,
    "start_time": "2024-07-26T00:55:30.681Z"
   },
   {
    "duration": 1098,
    "start_time": "2024-07-26T00:56:13.237Z"
   },
   {
    "duration": 558,
    "start_time": "2024-07-26T00:56:23.681Z"
   },
   {
    "duration": 579,
    "start_time": "2024-07-26T00:56:32.059Z"
   },
   {
    "duration": 553,
    "start_time": "2024-07-26T00:56:47.019Z"
   },
   {
    "duration": 574,
    "start_time": "2024-07-26T00:56:55.362Z"
   },
   {
    "duration": 600,
    "start_time": "2024-07-26T00:56:59.832Z"
   },
   {
    "duration": 566,
    "start_time": "2024-07-26T00:57:10.575Z"
   },
   {
    "duration": 611,
    "start_time": "2024-07-26T01:01:21.730Z"
   },
   {
    "duration": 11553,
    "start_time": "2024-07-26T01:04:05.735Z"
   },
   {
    "duration": 1148,
    "start_time": "2024-07-26T01:04:22.740Z"
   },
   {
    "duration": 1131,
    "start_time": "2024-07-26T01:04:36.018Z"
   },
   {
    "duration": 5240,
    "start_time": "2024-07-26T19:11:19.463Z"
   },
   {
    "duration": 814,
    "start_time": "2024-07-26T19:11:24.708Z"
   },
   {
    "duration": 1387,
    "start_time": "2024-07-26T19:11:25.526Z"
   },
   {
    "duration": 7,
    "start_time": "2024-07-26T19:11:26.917Z"
   },
   {
    "duration": 9,
    "start_time": "2024-07-26T19:11:26.930Z"
   },
   {
    "duration": 192,
    "start_time": "2024-07-26T19:11:26.942Z"
   },
   {
    "duration": 149,
    "start_time": "2024-07-26T19:11:27.137Z"
   },
   {
    "duration": 116,
    "start_time": "2024-07-26T19:11:27.290Z"
   },
   {
    "duration": 114,
    "start_time": "2024-07-26T19:11:27.409Z"
   },
   {
    "duration": 145,
    "start_time": "2024-07-26T19:11:27.526Z"
   },
   {
    "duration": 35,
    "start_time": "2024-07-26T19:11:27.674Z"
   },
   {
    "duration": 88,
    "start_time": "2024-07-26T19:11:27.713Z"
   },
   {
    "duration": 640,
    "start_time": "2024-07-26T19:11:27.804Z"
   },
   {
    "duration": 1124,
    "start_time": "2024-07-26T19:11:28.450Z"
   },
   {
    "duration": 669,
    "start_time": "2024-07-26T19:11:29.577Z"
   },
   {
    "duration": 22,
    "start_time": "2024-07-26T19:11:47.204Z"
   },
   {
    "duration": 7,
    "start_time": "2024-07-26T19:11:55.781Z"
   },
   {
    "duration": 1046,
    "start_time": "2024-07-26T19:12:24.184Z"
   },
   {
    "duration": 63,
    "start_time": "2024-07-26T19:12:31.230Z"
   },
   {
    "duration": 1482,
    "start_time": "2024-07-26T19:13:18.096Z"
   },
   {
    "duration": 771,
    "start_time": "2024-07-26T19:13:19.581Z"
   },
   {
    "duration": 1327,
    "start_time": "2024-07-26T19:13:20.358Z"
   },
   {
    "duration": 16,
    "start_time": "2024-07-26T19:13:21.689Z"
   },
   {
    "duration": 11,
    "start_time": "2024-07-26T19:13:21.712Z"
   },
   {
    "duration": 188,
    "start_time": "2024-07-26T19:13:21.728Z"
   },
   {
    "duration": 128,
    "start_time": "2024-07-26T19:13:21.920Z"
   },
   {
    "duration": 114,
    "start_time": "2024-07-26T19:13:22.051Z"
   },
   {
    "duration": 119,
    "start_time": "2024-07-26T19:13:22.168Z"
   },
   {
    "duration": 156,
    "start_time": "2024-07-26T19:13:22.290Z"
   },
   {
    "duration": 25,
    "start_time": "2024-07-26T19:13:22.450Z"
   },
   {
    "duration": 66,
    "start_time": "2024-07-26T19:13:22.503Z"
   },
   {
    "duration": 743,
    "start_time": "2024-07-26T19:13:22.572Z"
   },
   {
    "duration": 19,
    "start_time": "2024-07-26T19:13:23.320Z"
   },
   {
    "duration": 696,
    "start_time": "2024-07-26T19:13:23.346Z"
   },
   {
    "duration": 505,
    "start_time": "2024-07-26T19:13:51.530Z"
   },
   {
    "duration": 43,
    "start_time": "2024-07-26T19:14:00.067Z"
   },
   {
    "duration": 54,
    "start_time": "2024-07-26T19:14:15.779Z"
   },
   {
    "duration": 24,
    "start_time": "2024-07-26T19:14:30.346Z"
   },
   {
    "duration": 35,
    "start_time": "2024-07-26T19:14:46.453Z"
   },
   {
    "duration": 22,
    "start_time": "2024-07-26T19:15:12.591Z"
   },
   {
    "duration": 428,
    "start_time": "2024-07-26T19:15:24.338Z"
   },
   {
    "duration": 7,
    "start_time": "2024-07-26T19:16:30.042Z"
   },
   {
    "duration": 11,
    "start_time": "2024-07-26T19:18:38.818Z"
   },
   {
    "duration": 5,
    "start_time": "2024-07-26T19:19:07.935Z"
   },
   {
    "duration": 192,
    "start_time": "2024-07-26T19:19:19.649Z"
   },
   {
    "duration": 184,
    "start_time": "2024-07-26T19:19:39.852Z"
   },
   {
    "duration": 185,
    "start_time": "2024-07-26T19:20:00.655Z"
   },
   {
    "duration": 710,
    "start_time": "2024-07-26T19:20:46.198Z"
   },
   {
    "duration": 0,
    "start_time": "2024-07-26T19:20:46.911Z"
   },
   {
    "duration": 451,
    "start_time": "2024-07-26T19:21:01.062Z"
   },
   {
    "duration": 12,
    "start_time": "2024-07-26T19:21:12.393Z"
   },
   {
    "duration": 81,
    "start_time": "2024-07-26T19:21:27.489Z"
   },
   {
    "duration": 61,
    "start_time": "2024-07-26T19:21:32.957Z"
   },
   {
    "duration": 8,
    "start_time": "2024-07-26T19:21:44.933Z"
   },
   {
    "duration": 7,
    "start_time": "2024-07-26T19:21:49.568Z"
   },
   {
    "duration": 7,
    "start_time": "2024-07-26T19:21:52.774Z"
   },
   {
    "duration": 13,
    "start_time": "2024-07-26T19:22:07.220Z"
   },
   {
    "duration": 7,
    "start_time": "2024-07-26T19:22:12.777Z"
   },
   {
    "duration": 2849,
    "start_time": "2024-07-26T19:22:14.975Z"
   },
   {
    "duration": 1270,
    "start_time": "2024-07-26T19:22:18.497Z"
   },
   {
    "duration": 7,
    "start_time": "2024-07-26T19:22:36.477Z"
   },
   {
    "duration": 191,
    "start_time": "2024-07-26T19:22:37.253Z"
   },
   {
    "duration": 7,
    "start_time": "2024-07-26T19:22:45.001Z"
   },
   {
    "duration": 203,
    "start_time": "2024-07-26T19:22:46.486Z"
   },
   {
    "duration": 7,
    "start_time": "2024-07-26T19:23:06.208Z"
   },
   {
    "duration": 16,
    "start_time": "2024-07-26T19:23:09.330Z"
   },
   {
    "duration": 44,
    "start_time": "2024-07-26T19:23:29.904Z"
   },
   {
    "duration": 50,
    "start_time": "2024-07-26T19:23:34.112Z"
   },
   {
    "duration": 45,
    "start_time": "2024-07-26T19:23:39.726Z"
   },
   {
    "duration": 183,
    "start_time": "2024-07-26T19:23:47.178Z"
   },
   {
    "duration": 64,
    "start_time": "2024-07-26T19:24:03.647Z"
   },
   {
    "duration": 11,
    "start_time": "2024-07-26T19:24:14.087Z"
   },
   {
    "duration": 12,
    "start_time": "2024-07-26T19:24:28.557Z"
   },
   {
    "duration": 15,
    "start_time": "2024-07-26T19:24:37.207Z"
   },
   {
    "duration": 192,
    "start_time": "2024-07-26T19:24:43.354Z"
   },
   {
    "duration": 13,
    "start_time": "2024-07-26T19:24:52.090Z"
   },
   {
    "duration": 176,
    "start_time": "2024-07-26T19:24:52.582Z"
   },
   {
    "duration": 186,
    "start_time": "2024-07-26T19:25:14.609Z"
   },
   {
    "duration": 205,
    "start_time": "2024-07-26T19:25:28.161Z"
   },
   {
    "duration": 201,
    "start_time": "2024-07-26T19:25:58.977Z"
   },
   {
    "duration": 226,
    "start_time": "2024-07-26T19:26:10.035Z"
   },
   {
    "duration": 207,
    "start_time": "2024-07-26T19:26:25.618Z"
   },
   {
    "duration": 8,
    "start_time": "2024-07-26T19:26:32.169Z"
   },
   {
    "duration": 235,
    "start_time": "2024-07-26T19:28:11.774Z"
   },
   {
    "duration": 224,
    "start_time": "2024-07-26T19:28:41.579Z"
   },
   {
    "duration": 13,
    "start_time": "2024-07-26T19:29:43.755Z"
   },
   {
    "duration": 9,
    "start_time": "2024-07-26T19:29:49.158Z"
   },
   {
    "duration": 7,
    "start_time": "2024-07-26T19:29:53.583Z"
   },
   {
    "duration": 8,
    "start_time": "2024-07-26T19:30:01.227Z"
   },
   {
    "duration": 29,
    "start_time": "2024-07-26T19:30:10.468Z"
   },
   {
    "duration": 8,
    "start_time": "2024-07-26T19:30:21.198Z"
   },
   {
    "duration": 9,
    "start_time": "2024-07-26T19:30:26.329Z"
   },
   {
    "duration": 31,
    "start_time": "2024-07-26T19:30:40.357Z"
   },
   {
    "duration": 12,
    "start_time": "2024-07-26T19:30:45.752Z"
   },
   {
    "duration": 12,
    "start_time": "2024-07-26T19:31:03.219Z"
   },
   {
    "duration": 12,
    "start_time": "2024-07-26T19:31:09.122Z"
   },
   {
    "duration": 16,
    "start_time": "2024-07-26T19:31:29.939Z"
   },
   {
    "duration": 7,
    "start_time": "2024-07-26T19:31:39.253Z"
   },
   {
    "duration": 27,
    "start_time": "2024-07-26T19:31:45.245Z"
   },
   {
    "duration": 47,
    "start_time": "2024-07-26T19:32:08.903Z"
   },
   {
    "duration": 103,
    "start_time": "2024-07-26T19:32:29.310Z"
   },
   {
    "duration": 90,
    "start_time": "2024-07-26T19:32:51.585Z"
   },
   {
    "duration": 25,
    "start_time": "2024-07-26T19:33:18.423Z"
   },
   {
    "duration": 9,
    "start_time": "2024-07-26T19:33:24.742Z"
   },
   {
    "duration": 37,
    "start_time": "2024-07-26T19:33:30.961Z"
   },
   {
    "duration": 8,
    "start_time": "2024-07-26T19:33:36.636Z"
   },
   {
    "duration": 90,
    "start_time": "2024-07-26T19:49:36.954Z"
   },
   {
    "duration": 23,
    "start_time": "2024-07-26T19:49:51.136Z"
   },
   {
    "duration": 1580,
    "start_time": "2024-07-26T19:50:50.410Z"
   },
   {
    "duration": 808,
    "start_time": "2024-07-26T19:50:51.994Z"
   },
   {
    "duration": 1425,
    "start_time": "2024-07-26T19:50:52.806Z"
   },
   {
    "duration": 8,
    "start_time": "2024-07-26T19:50:54.235Z"
   },
   {
    "duration": 10,
    "start_time": "2024-07-26T19:50:54.249Z"
   },
   {
    "duration": 199,
    "start_time": "2024-07-26T19:50:54.263Z"
   },
   {
    "duration": 149,
    "start_time": "2024-07-26T19:50:54.466Z"
   },
   {
    "duration": 565,
    "start_time": "2024-07-26T19:51:03.740Z"
   },
   {
    "duration": 28,
    "start_time": "2024-07-26T19:51:04.526Z"
   },
   {
    "duration": 114,
    "start_time": "2024-07-26T19:51:07.110Z"
   },
   {
    "duration": 120,
    "start_time": "2024-07-26T19:51:14.902Z"
   },
   {
    "duration": 165,
    "start_time": "2024-07-26T19:51:23.553Z"
   },
   {
    "duration": 32,
    "start_time": "2024-07-26T19:51:49.495Z"
   },
   {
    "duration": 23,
    "start_time": "2024-07-26T19:52:16.350Z"
   },
   {
    "duration": 24,
    "start_time": "2024-07-26T19:52:20.947Z"
   },
   {
    "duration": 175,
    "start_time": "2024-07-26T19:52:40.697Z"
   },
   {
    "duration": 26,
    "start_time": "2024-07-26T19:52:46.995Z"
   },
   {
    "duration": 1597,
    "start_time": "2024-07-26T19:53:06.866Z"
   },
   {
    "duration": 791,
    "start_time": "2024-07-26T19:53:08.466Z"
   },
   {
    "duration": 1408,
    "start_time": "2024-07-26T19:53:09.261Z"
   },
   {
    "duration": 8,
    "start_time": "2024-07-26T19:53:10.673Z"
   },
   {
    "duration": 10,
    "start_time": "2024-07-26T19:53:10.705Z"
   },
   {
    "duration": 232,
    "start_time": "2024-07-26T19:53:10.719Z"
   },
   {
    "duration": 162,
    "start_time": "2024-07-26T19:53:10.956Z"
   },
   {
    "duration": 120,
    "start_time": "2024-07-26T19:53:11.122Z"
   },
   {
    "duration": 119,
    "start_time": "2024-07-26T19:53:11.245Z"
   },
   {
    "duration": 158,
    "start_time": "2024-07-26T19:53:11.368Z"
   },
   {
    "duration": 30,
    "start_time": "2024-07-26T19:53:11.532Z"
   },
   {
    "duration": 5,
    "start_time": "2024-07-26T19:53:15.584Z"
   },
   {
    "duration": 28,
    "start_time": "2024-07-26T19:53:20.152Z"
   },
   {
    "duration": 14,
    "start_time": "2024-07-26T19:53:36.595Z"
   },
   {
    "duration": 43,
    "start_time": "2024-07-26T19:53:41.238Z"
   },
   {
    "duration": 40,
    "start_time": "2024-07-26T19:53:50.700Z"
   },
   {
    "duration": 27,
    "start_time": "2024-07-26T19:53:55.283Z"
   },
   {
    "duration": 32,
    "start_time": "2024-07-26T19:53:58.147Z"
   },
   {
    "duration": 1340,
    "start_time": "2024-07-26T19:54:17.950Z"
   },
   {
    "duration": 10,
    "start_time": "2024-07-26T19:54:45.918Z"
   },
   {
    "duration": 39,
    "start_time": "2024-07-26T19:54:50.964Z"
   },
   {
    "duration": 61,
    "start_time": "2024-07-26T19:54:54.388Z"
   },
   {
    "duration": 56,
    "start_time": "2024-07-26T19:54:58.507Z"
   },
   {
    "duration": 25,
    "start_time": "2024-07-26T19:55:18.334Z"
   },
   {
    "duration": 26,
    "start_time": "2024-07-26T19:55:21.199Z"
   },
   {
    "duration": 46,
    "start_time": "2024-07-26T19:55:34.697Z"
   },
   {
    "duration": 219,
    "start_time": "2024-07-26T19:57:21.226Z"
   },
   {
    "duration": 25,
    "start_time": "2024-07-26T19:57:33.075Z"
   },
   {
    "duration": 27,
    "start_time": "2024-07-26T19:58:00.088Z"
   },
   {
    "duration": 163,
    "start_time": "2024-07-26T19:58:08.573Z"
   },
   {
    "duration": 208,
    "start_time": "2024-07-26T19:58:13.149Z"
   },
   {
    "duration": 171,
    "start_time": "2024-07-26T19:58:23.594Z"
   },
   {
    "duration": 601,
    "start_time": "2024-07-26T19:59:03.424Z"
   },
   {
    "duration": 548,
    "start_time": "2024-07-26T20:00:17.558Z"
   },
   {
    "duration": 356,
    "start_time": "2024-07-26T20:00:37.802Z"
   },
   {
    "duration": 27,
    "start_time": "2024-07-26T20:00:42.206Z"
   },
   {
    "duration": 1586,
    "start_time": "2024-07-26T20:00:47.746Z"
   },
   {
    "duration": 785,
    "start_time": "2024-07-26T20:00:49.336Z"
   },
   {
    "duration": 1453,
    "start_time": "2024-07-26T20:00:50.124Z"
   },
   {
    "duration": 7,
    "start_time": "2024-07-26T20:00:51.580Z"
   },
   {
    "duration": 9,
    "start_time": "2024-07-26T20:00:51.604Z"
   },
   {
    "duration": 188,
    "start_time": "2024-07-26T20:00:51.617Z"
   },
   {
    "duration": 146,
    "start_time": "2024-07-26T20:00:51.809Z"
   },
   {
    "duration": 123,
    "start_time": "2024-07-26T20:00:51.960Z"
   },
   {
    "duration": 120,
    "start_time": "2024-07-26T20:00:52.094Z"
   },
   {
    "duration": 154,
    "start_time": "2024-07-26T20:00:52.219Z"
   },
   {
    "duration": 43,
    "start_time": "2024-07-26T20:00:52.378Z"
   },
   {
    "duration": 1618,
    "start_time": "2024-07-26T20:02:26.392Z"
   },
   {
    "duration": 23,
    "start_time": "2024-07-26T20:02:41.444Z"
   },
   {
    "duration": 1613,
    "start_time": "2024-07-26T20:03:05.129Z"
   },
   {
    "duration": 982,
    "start_time": "2024-07-26T20:03:06.746Z"
   },
   {
    "duration": 1629,
    "start_time": "2024-07-26T20:03:07.737Z"
   },
   {
    "duration": 7,
    "start_time": "2024-07-26T20:03:09.369Z"
   },
   {
    "duration": 27,
    "start_time": "2024-07-26T20:03:09.383Z"
   },
   {
    "duration": 216,
    "start_time": "2024-07-26T20:03:09.414Z"
   },
   {
    "duration": 146,
    "start_time": "2024-07-26T20:03:09.634Z"
   },
   {
    "duration": 133,
    "start_time": "2024-07-26T20:03:09.784Z"
   },
   {
    "duration": 129,
    "start_time": "2024-07-26T20:03:09.921Z"
   },
   {
    "duration": 183,
    "start_time": "2024-07-26T20:03:10.054Z"
   },
   {
    "duration": 17,
    "start_time": "2024-07-26T20:03:10.241Z"
   },
   {
    "duration": 34,
    "start_time": "2024-07-26T20:03:17.632Z"
   },
   {
    "duration": 1541,
    "start_time": "2024-07-26T20:03:22.852Z"
   },
   {
    "duration": 138,
    "start_time": "2024-07-26T20:03:39.226Z"
   },
   {
    "duration": 106,
    "start_time": "2024-07-26T20:03:46.366Z"
   },
   {
    "duration": 112,
    "start_time": "2024-07-26T20:03:51.109Z"
   },
   {
    "duration": 8,
    "start_time": "2024-07-26T20:04:02.798Z"
   },
   {
    "duration": 239,
    "start_time": "2024-07-26T20:04:04.479Z"
   },
   {
    "duration": 10,
    "start_time": "2024-07-26T20:04:22.082Z"
   },
   {
    "duration": 233,
    "start_time": "2024-07-26T20:04:26.714Z"
   },
   {
    "duration": 35,
    "start_time": "2024-07-26T20:04:34.981Z"
   },
   {
    "duration": 37,
    "start_time": "2024-07-26T20:04:40.430Z"
   },
   {
    "duration": 20,
    "start_time": "2024-07-26T20:04:44.091Z"
   },
   {
    "duration": 225,
    "start_time": "2024-07-26T20:04:54.908Z"
   },
   {
    "duration": 25,
    "start_time": "2024-07-26T20:05:17.843Z"
   },
   {
    "duration": 15,
    "start_time": "2024-07-26T20:05:23.530Z"
   },
   {
    "duration": 197,
    "start_time": "2024-07-26T20:05:32.704Z"
   },
   {
    "duration": 128,
    "start_time": "2024-07-26T20:05:37.498Z"
   },
   {
    "duration": 169,
    "start_time": "2024-07-26T20:05:43.159Z"
   },
   {
    "duration": 172,
    "start_time": "2024-07-26T20:05:58.430Z"
   },
   {
    "duration": 819,
    "start_time": "2024-07-26T20:06:17.356Z"
   },
   {
    "duration": 1648,
    "start_time": "2024-07-26T20:06:35.165Z"
   },
   {
    "duration": 834,
    "start_time": "2024-07-26T20:06:36.818Z"
   },
   {
    "duration": 1535,
    "start_time": "2024-07-26T20:06:37.655Z"
   },
   {
    "duration": 12,
    "start_time": "2024-07-26T20:06:39.194Z"
   },
   {
    "duration": 11,
    "start_time": "2024-07-26T20:06:39.212Z"
   },
   {
    "duration": 210,
    "start_time": "2024-07-26T20:06:39.227Z"
   },
   {
    "duration": 154,
    "start_time": "2024-07-26T20:06:39.441Z"
   },
   {
    "duration": 117,
    "start_time": "2024-07-26T20:06:39.603Z"
   },
   {
    "duration": 122,
    "start_time": "2024-07-26T20:06:39.724Z"
   },
   {
    "duration": 171,
    "start_time": "2024-07-26T20:06:39.850Z"
   },
   {
    "duration": 15,
    "start_time": "2024-07-26T20:06:40.025Z"
   },
   {
    "duration": 67,
    "start_time": "2024-07-26T20:06:40.044Z"
   },
   {
    "duration": 1456,
    "start_time": "2024-07-26T20:06:40.114Z"
   },
   {
    "duration": 0,
    "start_time": "2024-07-26T20:06:41.574Z"
   },
   {
    "duration": 0,
    "start_time": "2024-07-26T20:06:41.577Z"
   },
   {
    "duration": 0,
    "start_time": "2024-07-26T20:06:41.579Z"
   },
   {
    "duration": 0,
    "start_time": "2024-07-26T20:06:41.582Z"
   },
   {
    "duration": 85,
    "start_time": "2024-07-26T20:07:05.394Z"
   },
   {
    "duration": 14,
    "start_time": "2024-07-26T20:07:10.902Z"
   },
   {
    "duration": 252,
    "start_time": "2024-07-26T20:07:11.725Z"
   },
   {
    "duration": 123,
    "start_time": "2024-07-26T20:07:14.114Z"
   },
   {
    "duration": 24,
    "start_time": "2024-07-26T20:07:23.850Z"
   },
   {
    "duration": 17,
    "start_time": "2024-07-26T20:07:28.739Z"
   },
   {
    "duration": 130,
    "start_time": "2024-07-26T20:07:41.698Z"
   },
   {
    "duration": 18,
    "start_time": "2024-07-26T20:09:25.525Z"
   },
   {
    "duration": 9,
    "start_time": "2024-07-26T20:09:29.478Z"
   },
   {
    "duration": 8,
    "start_time": "2024-07-26T20:09:32.301Z"
   },
   {
    "duration": 1442,
    "start_time": "2024-07-26T21:17:53.578Z"
   },
   {
    "duration": 756,
    "start_time": "2024-07-26T21:17:55.023Z"
   },
   {
    "duration": 1344,
    "start_time": "2024-07-26T21:17:55.781Z"
   },
   {
    "duration": 6,
    "start_time": "2024-07-26T21:17:57.130Z"
   },
   {
    "duration": 9,
    "start_time": "2024-07-26T21:17:57.140Z"
   },
   {
    "duration": 149,
    "start_time": "2024-07-26T21:18:00.068Z"
   },
   {
    "duration": 115,
    "start_time": "2024-07-26T21:18:02.585Z"
   },
   {
    "duration": 97,
    "start_time": "2024-07-26T21:18:13.355Z"
   },
   {
    "duration": 98,
    "start_time": "2024-07-26T21:18:19.570Z"
   },
   {
    "duration": 138,
    "start_time": "2024-07-26T21:18:22.841Z"
   },
   {
    "duration": 11,
    "start_time": "2024-07-26T21:18:23.247Z"
   },
   {
    "duration": 1513,
    "start_time": "2024-07-26T21:18:45.582Z"
   },
   {
    "duration": 763,
    "start_time": "2024-07-26T21:18:47.099Z"
   },
   {
    "duration": 1284,
    "start_time": "2024-07-26T21:18:47.865Z"
   },
   {
    "duration": 7,
    "start_time": "2024-07-26T21:18:49.153Z"
   },
   {
    "duration": 37,
    "start_time": "2024-07-26T21:18:49.166Z"
   },
   {
    "duration": 160,
    "start_time": "2024-07-26T21:18:49.206Z"
   },
   {
    "duration": 153,
    "start_time": "2024-07-26T21:18:49.369Z"
   },
   {
    "duration": 115,
    "start_time": "2024-07-26T21:18:49.526Z"
   },
   {
    "duration": 125,
    "start_time": "2024-07-26T21:18:49.645Z"
   },
   {
    "duration": 146,
    "start_time": "2024-07-26T21:18:49.773Z"
   },
   {
    "duration": 131,
    "start_time": "2024-07-26T21:19:43.011Z"
   },
   {
    "duration": 7,
    "start_time": "2024-07-26T21:20:20.624Z"
   },
   {
    "duration": 26,
    "start_time": "2024-07-26T21:20:32.613Z"
   },
   {
    "duration": 25,
    "start_time": "2024-07-26T21:21:09.492Z"
   },
   {
    "duration": 27,
    "start_time": "2024-07-26T21:21:21.051Z"
   },
   {
    "duration": 10,
    "start_time": "2024-07-26T21:21:57.193Z"
   },
   {
    "duration": 26,
    "start_time": "2024-07-26T21:22:01.219Z"
   },
   {
    "duration": 7,
    "start_time": "2024-07-26T21:22:16.845Z"
   },
   {
    "duration": 27,
    "start_time": "2024-07-26T21:22:22.316Z"
   },
   {
    "duration": 45,
    "start_time": "2024-07-26T21:23:17.501Z"
   },
   {
    "duration": 46,
    "start_time": "2024-07-26T21:23:24.009Z"
   },
   {
    "duration": 45,
    "start_time": "2024-07-26T21:23:30.376Z"
   },
   {
    "duration": 47,
    "start_time": "2024-07-26T21:25:28.606Z"
   },
   {
    "duration": 46,
    "start_time": "2024-07-26T21:25:42.974Z"
   },
   {
    "duration": 5,
    "start_time": "2024-07-26T21:25:50.076Z"
   },
   {
    "duration": 32,
    "start_time": "2024-07-26T21:27:41.190Z"
   },
   {
    "duration": 1314,
    "start_time": "2024-07-26T21:29:04.237Z"
   },
   {
    "duration": 3816,
    "start_time": "2024-07-26T21:29:18.216Z"
   },
   {
    "duration": 33,
    "start_time": "2024-07-26T21:29:29.920Z"
   },
   {
    "duration": 8,
    "start_time": "2024-07-26T21:29:36.746Z"
   },
   {
    "duration": 18,
    "start_time": "2024-07-26T21:29:45.549Z"
   },
   {
    "duration": 23,
    "start_time": "2024-07-26T21:29:51.153Z"
   },
   {
    "duration": 17,
    "start_time": "2024-07-26T21:30:14.802Z"
   },
   {
    "duration": 26,
    "start_time": "2024-07-26T21:30:20.539Z"
   },
   {
    "duration": 42,
    "start_time": "2024-07-26T21:30:35.942Z"
   },
   {
    "duration": 45,
    "start_time": "2024-07-26T21:30:40.467Z"
   },
   {
    "duration": 42,
    "start_time": "2024-07-26T21:30:50.087Z"
   },
   {
    "duration": 36,
    "start_time": "2024-07-26T21:30:57.529Z"
   },
   {
    "duration": 35,
    "start_time": "2024-07-26T21:31:01.538Z"
   },
   {
    "duration": 28,
    "start_time": "2024-07-26T21:31:11.702Z"
   },
   {
    "duration": 49,
    "start_time": "2024-07-26T21:31:34.099Z"
   },
   {
    "duration": 46,
    "start_time": "2024-07-26T21:32:28.363Z"
   },
   {
    "duration": 59,
    "start_time": "2024-07-26T21:32:38.877Z"
   },
   {
    "duration": 62,
    "start_time": "2024-07-26T21:32:44.166Z"
   },
   {
    "duration": 46,
    "start_time": "2024-07-26T21:32:47.856Z"
   },
   {
    "duration": 21,
    "start_time": "2024-07-26T21:34:16.331Z"
   },
   {
    "duration": 9,
    "start_time": "2024-07-26T21:34:21.623Z"
   },
   {
    "duration": 359,
    "start_time": "2024-07-26T21:34:24.386Z"
   },
   {
    "duration": 22,
    "start_time": "2024-07-26T21:34:34.417Z"
   },
   {
    "duration": 21,
    "start_time": "2024-07-26T21:34:46.908Z"
   },
   {
    "duration": 33,
    "start_time": "2024-07-26T21:34:50.587Z"
   },
   {
    "duration": 43,
    "start_time": "2024-07-26T21:35:02.230Z"
   },
   {
    "duration": 48,
    "start_time": "2024-07-26T21:35:51.156Z"
   },
   {
    "duration": 42,
    "start_time": "2024-07-26T21:35:55.658Z"
   },
   {
    "duration": 42,
    "start_time": "2024-07-26T21:36:10.031Z"
   },
   {
    "duration": 35,
    "start_time": "2024-07-26T21:36:19.815Z"
   },
   {
    "duration": 38,
    "start_time": "2024-07-26T21:36:24.454Z"
   },
   {
    "duration": 1523,
    "start_time": "2024-07-26T21:36:33.715Z"
   },
   {
    "duration": 39,
    "start_time": "2024-07-26T21:36:42.156Z"
   },
   {
    "duration": 39,
    "start_time": "2024-07-26T21:36:50.043Z"
   },
   {
    "duration": 59,
    "start_time": "2024-07-26T21:36:56.850Z"
   },
   {
    "duration": 60,
    "start_time": "2024-07-26T21:37:00.992Z"
   },
   {
    "duration": 37,
    "start_time": "2024-07-26T21:37:22.573Z"
   },
   {
    "duration": 8,
    "start_time": "2024-07-26T21:37:51.655Z"
   },
   {
    "duration": 14,
    "start_time": "2024-07-26T21:37:56.480Z"
   },
   {
    "duration": 37,
    "start_time": "2024-07-26T21:40:27.326Z"
   },
   {
    "duration": 36,
    "start_time": "2024-07-26T21:40:33.768Z"
   },
   {
    "duration": 40,
    "start_time": "2024-07-26T21:40:36.832Z"
   },
   {
    "duration": 33,
    "start_time": "2024-07-26T21:56:19.238Z"
   },
   {
    "duration": 215,
    "start_time": "2024-07-26T21:59:00.752Z"
   },
   {
    "duration": 98,
    "start_time": "2024-07-26T21:59:15.978Z"
   },
   {
    "duration": 12,
    "start_time": "2024-07-26T21:59:36.800Z"
   },
   {
    "duration": 1458,
    "start_time": "2024-07-26T21:59:54.878Z"
   },
   {
    "duration": 769,
    "start_time": "2024-07-26T21:59:56.341Z"
   },
   {
    "duration": 1483,
    "start_time": "2024-07-26T21:59:57.113Z"
   },
   {
    "duration": 6,
    "start_time": "2024-07-26T21:59:58.603Z"
   },
   {
    "duration": 8,
    "start_time": "2024-07-26T21:59:58.615Z"
   },
   {
    "duration": 188,
    "start_time": "2024-07-26T21:59:58.627Z"
   },
   {
    "duration": 132,
    "start_time": "2024-07-26T21:59:58.818Z"
   },
   {
    "duration": 116,
    "start_time": "2024-07-26T21:59:58.953Z"
   },
   {
    "duration": 117,
    "start_time": "2024-07-26T21:59:59.072Z"
   },
   {
    "duration": 172,
    "start_time": "2024-07-26T21:59:59.192Z"
   },
   {
    "duration": 148,
    "start_time": "2024-07-26T21:59:59.367Z"
   },
   {
    "duration": 35,
    "start_time": "2024-07-26T21:59:59.518Z"
   },
   {
    "duration": 65,
    "start_time": "2024-07-26T21:59:59.556Z"
   },
   {
    "duration": 13,
    "start_time": "2024-07-26T21:59:59.627Z"
   },
   {
    "duration": 68,
    "start_time": "2024-07-26T21:59:59.643Z"
   },
   {
    "duration": 87,
    "start_time": "2024-07-26T21:59:59.715Z"
   },
   {
    "duration": 5,
    "start_time": "2024-07-26T21:59:59.806Z"
   },
   {
    "duration": 35,
    "start_time": "2024-07-26T21:59:59.815Z"
   },
   {
    "duration": 76,
    "start_time": "2024-07-26T21:59:59.853Z"
   },
   {
    "duration": 7,
    "start_time": "2024-07-26T22:00:02.483Z"
   },
   {
    "duration": 26,
    "start_time": "2024-07-26T22:00:16.540Z"
   },
   {
    "duration": 26,
    "start_time": "2024-07-26T22:01:13.313Z"
   },
   {
    "duration": 1454,
    "start_time": "2024-07-26T22:01:27.066Z"
   },
   {
    "duration": 773,
    "start_time": "2024-07-26T22:01:28.524Z"
   },
   {
    "duration": 1282,
    "start_time": "2024-07-26T22:01:29.300Z"
   },
   {
    "duration": 17,
    "start_time": "2024-07-26T22:01:30.585Z"
   },
   {
    "duration": 7,
    "start_time": "2024-07-26T22:01:30.608Z"
   },
   {
    "duration": 170,
    "start_time": "2024-07-26T22:01:30.619Z"
   },
   {
    "duration": 138,
    "start_time": "2024-07-26T22:01:30.792Z"
   },
   {
    "duration": 120,
    "start_time": "2024-07-26T22:01:30.933Z"
   },
   {
    "duration": 121,
    "start_time": "2024-07-26T22:01:31.056Z"
   },
   {
    "duration": 145,
    "start_time": "2024-07-26T22:01:31.181Z"
   },
   {
    "duration": 148,
    "start_time": "2024-07-26T22:01:31.329Z"
   },
   {
    "duration": 40,
    "start_time": "2024-07-26T22:01:31.480Z"
   },
   {
    "duration": 37,
    "start_time": "2024-07-26T22:01:31.523Z"
   },
   {
    "duration": 46,
    "start_time": "2024-07-26T22:01:31.566Z"
   },
   {
    "duration": 26,
    "start_time": "2024-07-26T22:01:31.615Z"
   },
   {
    "duration": 87,
    "start_time": "2024-07-26T22:01:31.645Z"
   },
   {
    "duration": 6,
    "start_time": "2024-07-26T22:01:31.735Z"
   },
   {
    "duration": 59,
    "start_time": "2024-07-26T22:01:31.744Z"
   },
   {
    "duration": 27,
    "start_time": "2024-07-26T22:01:31.807Z"
   },
   {
    "duration": 25,
    "start_time": "2024-07-26T22:01:31.838Z"
   },
   {
    "duration": 20,
    "start_time": "2024-07-26T22:01:59.491Z"
   },
   {
    "duration": 1451,
    "start_time": "2024-07-26T22:02:10.034Z"
   },
   {
    "duration": 744,
    "start_time": "2024-07-26T22:02:11.490Z"
   },
   {
    "duration": 1330,
    "start_time": "2024-07-26T22:02:12.238Z"
   },
   {
    "duration": 6,
    "start_time": "2024-07-26T22:02:13.571Z"
   },
   {
    "duration": 24,
    "start_time": "2024-07-26T22:02:13.582Z"
   },
   {
    "duration": 165,
    "start_time": "2024-07-26T22:02:13.609Z"
   },
   {
    "duration": 137,
    "start_time": "2024-07-26T22:02:13.777Z"
   },
   {
    "duration": 111,
    "start_time": "2024-07-26T22:02:13.917Z"
   },
   {
    "duration": 118,
    "start_time": "2024-07-26T22:02:14.032Z"
   },
   {
    "duration": 153,
    "start_time": "2024-07-26T22:02:14.153Z"
   },
   {
    "duration": 137,
    "start_time": "2024-07-26T22:02:14.309Z"
   },
   {
    "duration": 26,
    "start_time": "2024-07-26T22:02:14.449Z"
   },
   {
    "duration": 36,
    "start_time": "2024-07-26T22:02:14.501Z"
   },
   {
    "duration": 13,
    "start_time": "2024-07-26T22:02:14.542Z"
   },
   {
    "duration": 57,
    "start_time": "2024-07-26T22:02:14.558Z"
   },
   {
    "duration": 47,
    "start_time": "2024-07-26T22:02:14.618Z"
   },
   {
    "duration": 36,
    "start_time": "2024-07-26T22:02:14.667Z"
   },
   {
    "duration": 27,
    "start_time": "2024-07-26T22:02:14.705Z"
   },
   {
    "duration": 27,
    "start_time": "2024-07-26T22:02:14.735Z"
   },
   {
    "duration": 54,
    "start_time": "2024-07-26T22:02:14.765Z"
   },
   {
    "duration": 23,
    "start_time": "2024-07-26T22:03:22.584Z"
   },
   {
    "duration": 25,
    "start_time": "2024-07-26T22:03:35.003Z"
   },
   {
    "duration": 19,
    "start_time": "2024-07-26T22:03:42.861Z"
   },
   {
    "duration": 36,
    "start_time": "2024-07-26T22:03:49.677Z"
   },
   {
    "duration": 318,
    "start_time": "2024-07-26T22:04:38.521Z"
   },
   {
    "duration": 1503,
    "start_time": "2024-07-26T22:04:47.750Z"
   },
   {
    "duration": 751,
    "start_time": "2024-07-26T22:04:49.256Z"
   },
   {
    "duration": 1365,
    "start_time": "2024-07-26T22:04:50.010Z"
   },
   {
    "duration": 7,
    "start_time": "2024-07-26T22:04:51.377Z"
   },
   {
    "duration": 20,
    "start_time": "2024-07-26T22:04:51.388Z"
   },
   {
    "duration": 173,
    "start_time": "2024-07-26T22:04:51.412Z"
   },
   {
    "duration": 137,
    "start_time": "2024-07-26T22:04:51.602Z"
   },
   {
    "duration": 126,
    "start_time": "2024-07-26T22:04:51.742Z"
   },
   {
    "duration": 125,
    "start_time": "2024-07-26T22:04:51.873Z"
   },
   {
    "duration": 149,
    "start_time": "2024-07-26T22:04:52.001Z"
   },
   {
    "duration": 155,
    "start_time": "2024-07-26T22:04:52.153Z"
   },
   {
    "duration": 27,
    "start_time": "2024-07-26T22:04:52.311Z"
   },
   {
    "duration": 73,
    "start_time": "2024-07-26T22:04:52.342Z"
   },
   {
    "duration": 14,
    "start_time": "2024-07-26T22:04:52.422Z"
   },
   {
    "duration": 63,
    "start_time": "2024-07-26T22:04:52.439Z"
   },
   {
    "duration": 48,
    "start_time": "2024-07-26T22:04:52.504Z"
   },
   {
    "duration": 6,
    "start_time": "2024-07-26T22:04:52.556Z"
   },
   {
    "duration": 57,
    "start_time": "2024-07-26T22:04:52.566Z"
   },
   {
    "duration": 28,
    "start_time": "2024-07-26T22:04:52.627Z"
   },
   {
    "duration": 117,
    "start_time": "2024-07-26T22:04:52.658Z"
   },
   {
    "duration": 54,
    "start_time": "2024-07-26T22:04:52.778Z"
   },
   {
    "duration": 987,
    "start_time": "2024-07-26T22:05:14.735Z"
   },
   {
    "duration": 24,
    "start_time": "2024-07-26T22:05:21.747Z"
   },
   {
    "duration": 1500,
    "start_time": "2024-07-26T22:05:34.619Z"
   },
   {
    "duration": 773,
    "start_time": "2024-07-26T22:05:36.124Z"
   },
   {
    "duration": 1338,
    "start_time": "2024-07-26T22:05:36.899Z"
   },
   {
    "duration": 7,
    "start_time": "2024-07-26T22:05:38.240Z"
   },
   {
    "duration": 10,
    "start_time": "2024-07-26T22:05:38.251Z"
   },
   {
    "duration": 187,
    "start_time": "2024-07-26T22:05:38.265Z"
   },
   {
    "duration": 129,
    "start_time": "2024-07-26T22:05:38.455Z"
   },
   {
    "duration": 127,
    "start_time": "2024-07-26T22:05:38.587Z"
   },
   {
    "duration": 118,
    "start_time": "2024-07-26T22:05:38.717Z"
   },
   {
    "duration": 145,
    "start_time": "2024-07-26T22:05:38.839Z"
   },
   {
    "duration": 136,
    "start_time": "2024-07-26T22:05:39.002Z"
   },
   {
    "duration": 26,
    "start_time": "2024-07-26T22:05:39.141Z"
   },
   {
    "duration": 60,
    "start_time": "2024-07-26T22:05:39.171Z"
   },
   {
    "duration": 14,
    "start_time": "2024-07-26T22:05:39.236Z"
   },
   {
    "duration": 62,
    "start_time": "2024-07-26T22:05:39.253Z"
   },
   {
    "duration": 46,
    "start_time": "2024-07-26T22:05:39.318Z"
   },
   {
    "duration": 36,
    "start_time": "2024-07-26T22:05:39.367Z"
   },
   {
    "duration": 26,
    "start_time": "2024-07-26T22:05:39.407Z"
   },
   {
    "duration": 27,
    "start_time": "2024-07-26T22:05:39.436Z"
   },
   {
    "duration": 25,
    "start_time": "2024-07-26T22:05:39.502Z"
   },
   {
    "duration": 33,
    "start_time": "2024-07-26T22:05:39.531Z"
   },
   {
    "duration": 21,
    "start_time": "2024-07-26T22:05:43.964Z"
   },
   {
    "duration": 8,
    "start_time": "2024-07-26T22:05:55.994Z"
   },
   {
    "duration": 71,
    "start_time": "2024-07-26T22:06:38.938Z"
   },
   {
    "duration": 197,
    "start_time": "2024-07-26T22:06:47.926Z"
   },
   {
    "duration": 152,
    "start_time": "2024-07-26T22:14:53.902Z"
   },
   {
    "duration": 34,
    "start_time": "2024-07-26T22:15:59.327Z"
   },
   {
    "duration": 1505,
    "start_time": "2024-07-26T22:16:27.284Z"
   },
   {
    "duration": 736,
    "start_time": "2024-07-26T22:16:28.801Z"
   },
   {
    "duration": 1312,
    "start_time": "2024-07-26T22:16:29.540Z"
   },
   {
    "duration": 7,
    "start_time": "2024-07-26T22:16:30.856Z"
   },
   {
    "duration": 34,
    "start_time": "2024-07-26T22:16:30.869Z"
   },
   {
    "duration": 155,
    "start_time": "2024-07-26T22:16:30.907Z"
   },
   {
    "duration": 138,
    "start_time": "2024-07-26T22:16:31.065Z"
   },
   {
    "duration": 125,
    "start_time": "2024-07-26T22:16:31.207Z"
   },
   {
    "duration": 119,
    "start_time": "2024-07-26T22:16:31.335Z"
   },
   {
    "duration": 161,
    "start_time": "2024-07-26T22:16:31.457Z"
   },
   {
    "duration": 141,
    "start_time": "2024-07-26T22:16:31.621Z"
   },
   {
    "duration": 50,
    "start_time": "2024-07-26T22:16:31.766Z"
   },
   {
    "duration": 36,
    "start_time": "2024-07-26T22:16:31.820Z"
   },
   {
    "duration": 43,
    "start_time": "2024-07-26T22:16:31.862Z"
   },
   {
    "duration": 26,
    "start_time": "2024-07-26T22:16:31.909Z"
   },
   {
    "duration": 75,
    "start_time": "2024-07-26T22:16:31.939Z"
   },
   {
    "duration": 7,
    "start_time": "2024-07-26T22:16:32.017Z"
   },
   {
    "duration": 29,
    "start_time": "2024-07-26T22:16:32.028Z"
   },
   {
    "duration": 27,
    "start_time": "2024-07-26T22:16:32.101Z"
   },
   {
    "duration": 180,
    "start_time": "2024-07-26T22:16:32.132Z"
   },
   {
    "duration": 146,
    "start_time": "2024-07-26T22:16:47.667Z"
   },
   {
    "duration": 147,
    "start_time": "2024-07-26T22:17:09.306Z"
   },
   {
    "duration": 146,
    "start_time": "2024-07-26T22:17:23.084Z"
   },
   {
    "duration": 146,
    "start_time": "2024-07-26T22:19:54.827Z"
   },
   {
    "duration": 148,
    "start_time": "2024-07-26T22:22:50.406Z"
   },
   {
    "duration": 1438,
    "start_time": "2024-07-26T22:22:58.666Z"
   },
   {
    "duration": 739,
    "start_time": "2024-07-26T22:23:00.108Z"
   },
   {
    "duration": 1322,
    "start_time": "2024-07-26T22:23:00.851Z"
   },
   {
    "duration": 7,
    "start_time": "2024-07-26T22:23:02.177Z"
   },
   {
    "duration": 8,
    "start_time": "2024-07-26T22:23:02.204Z"
   },
   {
    "duration": 169,
    "start_time": "2024-07-26T22:23:02.215Z"
   },
   {
    "duration": 128,
    "start_time": "2024-07-26T22:23:02.401Z"
   },
   {
    "duration": 114,
    "start_time": "2024-07-26T22:23:02.533Z"
   },
   {
    "duration": 116,
    "start_time": "2024-07-26T22:23:02.651Z"
   },
   {
    "duration": 149,
    "start_time": "2024-07-26T22:23:02.770Z"
   },
   {
    "duration": 141,
    "start_time": "2024-07-26T22:23:02.923Z"
   },
   {
    "duration": 43,
    "start_time": "2024-07-26T22:23:03.067Z"
   },
   {
    "duration": 37,
    "start_time": "2024-07-26T22:23:03.114Z"
   },
   {
    "duration": 47,
    "start_time": "2024-07-26T22:23:03.157Z"
   },
   {
    "duration": 26,
    "start_time": "2024-07-26T22:23:03.207Z"
   },
   {
    "duration": 79,
    "start_time": "2024-07-26T22:23:03.236Z"
   },
   {
    "duration": 6,
    "start_time": "2024-07-26T22:23:03.319Z"
   },
   {
    "duration": 27,
    "start_time": "2024-07-26T22:23:03.328Z"
   },
   {
    "duration": 60,
    "start_time": "2024-07-26T22:23:03.359Z"
   },
   {
    "duration": 187,
    "start_time": "2024-07-26T22:23:03.422Z"
   },
   {
    "duration": 159,
    "start_time": "2024-07-26T22:23:10.666Z"
   },
   {
    "duration": 1458,
    "start_time": "2024-07-26T22:23:16.162Z"
   },
   {
    "duration": 779,
    "start_time": "2024-07-26T22:23:17.623Z"
   },
   {
    "duration": 1247,
    "start_time": "2024-07-26T22:23:18.405Z"
   },
   {
    "duration": 6,
    "start_time": "2024-07-26T22:23:19.657Z"
   },
   {
    "duration": 9,
    "start_time": "2024-07-26T22:23:19.666Z"
   },
   {
    "duration": 163,
    "start_time": "2024-07-26T22:23:19.703Z"
   },
   {
    "duration": 139,
    "start_time": "2024-07-26T22:23:19.869Z"
   },
   {
    "duration": 112,
    "start_time": "2024-07-26T22:23:20.011Z"
   },
   {
    "duration": 112,
    "start_time": "2024-07-26T22:23:20.127Z"
   },
   {
    "duration": 159,
    "start_time": "2024-07-26T22:23:20.245Z"
   },
   {
    "duration": 144,
    "start_time": "2024-07-26T22:23:20.407Z"
   },
   {
    "duration": 48,
    "start_time": "2024-07-26T22:23:20.554Z"
   },
   {
    "duration": 37,
    "start_time": "2024-07-26T22:23:20.606Z"
   },
   {
    "duration": 13,
    "start_time": "2024-07-26T22:23:20.646Z"
   },
   {
    "duration": 25,
    "start_time": "2024-07-26T22:23:20.702Z"
   },
   {
    "duration": 81,
    "start_time": "2024-07-26T22:23:20.733Z"
   },
   {
    "duration": 6,
    "start_time": "2024-07-26T22:23:20.817Z"
   },
   {
    "duration": 27,
    "start_time": "2024-07-26T22:23:20.826Z"
   },
   {
    "duration": 67,
    "start_time": "2024-07-26T22:23:20.857Z"
   },
   {
    "duration": 169,
    "start_time": "2024-07-26T22:23:20.927Z"
   },
   {
    "duration": 37,
    "start_time": "2024-07-26T22:23:46.975Z"
   },
   {
    "duration": 321,
    "start_time": "2024-07-26T22:24:13.568Z"
   },
   {
    "duration": 1480,
    "start_time": "2024-07-26T22:24:20.118Z"
   },
   {
    "duration": 734,
    "start_time": "2024-07-26T22:24:21.604Z"
   },
   {
    "duration": 1314,
    "start_time": "2024-07-26T22:24:22.341Z"
   },
   {
    "duration": 7,
    "start_time": "2024-07-26T22:24:23.658Z"
   },
   {
    "duration": 34,
    "start_time": "2024-07-26T22:24:23.670Z"
   },
   {
    "duration": 155,
    "start_time": "2024-07-26T22:24:23.708Z"
   },
   {
    "duration": 147,
    "start_time": "2024-07-26T22:24:23.866Z"
   },
   {
    "duration": 120,
    "start_time": "2024-07-26T22:24:24.017Z"
   },
   {
    "duration": 124,
    "start_time": "2024-07-26T22:24:24.140Z"
   },
   {
    "duration": 155,
    "start_time": "2024-07-26T22:24:24.267Z"
   },
   {
    "duration": 146,
    "start_time": "2024-07-26T22:24:24.425Z"
   },
   {
    "duration": 37,
    "start_time": "2024-07-26T22:24:24.575Z"
   },
   {
    "duration": 36,
    "start_time": "2024-07-26T22:24:24.615Z"
   },
   {
    "duration": 49,
    "start_time": "2024-07-26T22:24:24.657Z"
   },
   {
    "duration": 26,
    "start_time": "2024-07-26T22:24:24.710Z"
   },
   {
    "duration": 80,
    "start_time": "2024-07-26T22:24:24.740Z"
   },
   {
    "duration": 5,
    "start_time": "2024-07-26T22:24:24.823Z"
   },
   {
    "duration": 25,
    "start_time": "2024-07-26T22:24:24.832Z"
   },
   {
    "duration": 64,
    "start_time": "2024-07-26T22:24:24.861Z"
   },
   {
    "duration": 178,
    "start_time": "2024-07-26T22:24:24.929Z"
   },
   {
    "duration": 149,
    "start_time": "2024-07-26T22:24:32.316Z"
   },
   {
    "duration": 146,
    "start_time": "2024-07-26T22:24:42.718Z"
   },
   {
    "duration": 35,
    "start_time": "2024-07-26T22:24:47.972Z"
   },
   {
    "duration": 1473,
    "start_time": "2024-07-26T22:25:08.197Z"
   },
   {
    "duration": 759,
    "start_time": "2024-07-26T22:25:09.674Z"
   },
   {
    "duration": 1335,
    "start_time": "2024-07-26T22:25:10.436Z"
   },
   {
    "duration": 7,
    "start_time": "2024-07-26T22:25:11.776Z"
   },
   {
    "duration": 9,
    "start_time": "2024-07-26T22:25:11.802Z"
   },
   {
    "duration": 167,
    "start_time": "2024-07-26T22:25:11.815Z"
   },
   {
    "duration": 131,
    "start_time": "2024-07-26T22:25:11.985Z"
   },
   {
    "duration": 115,
    "start_time": "2024-07-26T22:25:12.120Z"
   },
   {
    "duration": 105,
    "start_time": "2024-07-26T22:25:12.238Z"
   },
   {
    "duration": 166,
    "start_time": "2024-07-26T22:25:12.349Z"
   },
   {
    "duration": 160,
    "start_time": "2024-07-26T22:25:12.518Z"
   },
   {
    "duration": 39,
    "start_time": "2024-07-26T22:25:12.682Z"
   },
   {
    "duration": 38,
    "start_time": "2024-07-26T22:25:12.725Z"
   },
   {
    "duration": 45,
    "start_time": "2024-07-26T22:25:12.766Z"
   },
   {
    "duration": 25,
    "start_time": "2024-07-26T22:25:12.815Z"
   },
   {
    "duration": 75,
    "start_time": "2024-07-26T22:25:12.843Z"
   },
   {
    "duration": 5,
    "start_time": "2024-07-26T22:25:12.921Z"
   },
   {
    "duration": 26,
    "start_time": "2024-07-26T22:25:12.930Z"
   },
   {
    "duration": 27,
    "start_time": "2024-07-26T22:25:13.001Z"
   },
   {
    "duration": 185,
    "start_time": "2024-07-26T22:25:13.031Z"
   },
   {
    "duration": 147,
    "start_time": "2024-07-26T22:25:22.146Z"
   },
   {
    "duration": 186,
    "start_time": "2024-07-26T22:25:29.617Z"
   },
   {
    "duration": 160,
    "start_time": "2024-07-26T22:26:12.181Z"
   },
   {
    "duration": 151,
    "start_time": "2024-07-26T22:26:33.947Z"
   },
   {
    "duration": 157,
    "start_time": "2024-07-26T22:26:43.794Z"
   },
   {
    "duration": 145,
    "start_time": "2024-07-26T22:26:53.910Z"
   },
   {
    "duration": 332,
    "start_time": "2024-07-26T22:27:33.482Z"
   },
   {
    "duration": 610,
    "start_time": "2024-07-26T22:28:36.967Z"
   },
   {
    "duration": 548,
    "start_time": "2024-07-26T22:28:43.854Z"
   },
   {
    "duration": 29,
    "start_time": "2024-07-26T22:29:17.817Z"
   },
   {
    "duration": 11,
    "start_time": "2024-07-26T22:30:23.774Z"
   },
   {
    "duration": 314,
    "start_time": "2024-07-26T22:30:35.239Z"
   },
   {
    "duration": 1463,
    "start_time": "2024-07-26T22:30:42.379Z"
   },
   {
    "duration": 751,
    "start_time": "2024-07-26T22:30:43.847Z"
   },
   {
    "duration": 1307,
    "start_time": "2024-07-26T22:30:44.603Z"
   },
   {
    "duration": 7,
    "start_time": "2024-07-26T22:30:45.913Z"
   },
   {
    "duration": 7,
    "start_time": "2024-07-26T22:30:45.927Z"
   },
   {
    "duration": 197,
    "start_time": "2024-07-26T22:30:45.945Z"
   },
   {
    "duration": 151,
    "start_time": "2024-07-26T22:30:46.146Z"
   },
   {
    "duration": 119,
    "start_time": "2024-07-26T22:30:46.304Z"
   },
   {
    "duration": 110,
    "start_time": "2024-07-26T22:30:46.427Z"
   },
   {
    "duration": 162,
    "start_time": "2024-07-26T22:30:46.540Z"
   },
   {
    "duration": 143,
    "start_time": "2024-07-26T22:30:46.705Z"
   },
   {
    "duration": 53,
    "start_time": "2024-07-26T22:30:46.851Z"
   },
   {
    "duration": 37,
    "start_time": "2024-07-26T22:30:46.907Z"
   },
   {
    "duration": 15,
    "start_time": "2024-07-26T22:30:46.950Z"
   },
   {
    "duration": 27,
    "start_time": "2024-07-26T22:30:47.003Z"
   },
   {
    "duration": 72,
    "start_time": "2024-07-26T22:30:47.034Z"
   },
   {
    "duration": 5,
    "start_time": "2024-07-26T22:30:47.110Z"
   },
   {
    "duration": 27,
    "start_time": "2024-07-26T22:30:47.119Z"
   },
   {
    "duration": 62,
    "start_time": "2024-07-26T22:30:47.149Z"
   },
   {
    "duration": 916,
    "start_time": "2024-07-26T22:30:47.214Z"
   },
   {
    "duration": 0,
    "start_time": "2024-07-26T22:30:48.133Z"
   },
   {
    "duration": 593,
    "start_time": "2024-07-26T22:31:03.812Z"
   },
   {
    "duration": 216,
    "start_time": "2024-07-26T22:31:19.838Z"
   },
   {
    "duration": 132,
    "start_time": "2024-07-26T22:31:32.616Z"
   },
   {
    "duration": 8,
    "start_time": "2024-07-26T22:31:38.639Z"
   },
   {
    "duration": 6,
    "start_time": "2024-07-26T22:31:42.323Z"
   },
   {
    "duration": 8,
    "start_time": "2024-07-26T22:31:44.768Z"
   },
   {
    "duration": 162,
    "start_time": "2024-07-26T22:32:11.152Z"
   },
   {
    "duration": 54,
    "start_time": "2024-07-26T22:33:39.918Z"
   },
   {
    "duration": 67,
    "start_time": "2024-07-26T22:34:10.216Z"
   },
   {
    "duration": 87,
    "start_time": "2024-07-26T22:34:25.452Z"
   },
   {
    "duration": 185,
    "start_time": "2024-07-26T22:34:32.598Z"
   },
   {
    "duration": 459,
    "start_time": "2024-07-26T22:34:52.809Z"
   },
   {
    "duration": 63,
    "start_time": "2024-07-26T22:35:35.011Z"
   },
   {
    "duration": 1482,
    "start_time": "2024-07-26T22:35:47.596Z"
   },
   {
    "duration": 756,
    "start_time": "2024-07-26T22:35:49.082Z"
   },
   {
    "duration": 1277,
    "start_time": "2024-07-26T22:35:49.842Z"
   },
   {
    "duration": 6,
    "start_time": "2024-07-26T22:35:51.122Z"
   },
   {
    "duration": 8,
    "start_time": "2024-07-26T22:35:51.132Z"
   },
   {
    "duration": 187,
    "start_time": "2024-07-26T22:35:51.143Z"
   },
   {
    "duration": 141,
    "start_time": "2024-07-26T22:35:51.334Z"
   },
   {
    "duration": 125,
    "start_time": "2024-07-26T22:35:51.478Z"
   },
   {
    "duration": 121,
    "start_time": "2024-07-26T22:35:51.606Z"
   },
   {
    "duration": 153,
    "start_time": "2024-07-26T22:35:51.731Z"
   },
   {
    "duration": 149,
    "start_time": "2024-07-26T22:35:51.902Z"
   },
   {
    "duration": 25,
    "start_time": "2024-07-26T22:35:52.054Z"
   },
   {
    "duration": 36,
    "start_time": "2024-07-26T22:35:52.102Z"
   },
   {
    "duration": 12,
    "start_time": "2024-07-26T22:35:52.145Z"
   },
   {
    "duration": 58,
    "start_time": "2024-07-26T22:35:52.161Z"
   },
   {
    "duration": 78,
    "start_time": "2024-07-26T22:35:52.223Z"
   },
   {
    "duration": 6,
    "start_time": "2024-07-26T22:35:52.304Z"
   },
   {
    "duration": 25,
    "start_time": "2024-07-26T22:35:52.314Z"
   },
   {
    "duration": 63,
    "start_time": "2024-07-26T22:35:52.343Z"
   },
   {
    "duration": 93,
    "start_time": "2024-07-26T22:35:52.410Z"
   },
   {
    "duration": 33,
    "start_time": "2024-07-26T22:35:52.507Z"
   },
   {
    "duration": 78,
    "start_time": "2024-07-26T22:36:05.864Z"
   },
   {
    "duration": 212,
    "start_time": "2024-07-26T22:36:29.467Z"
   },
   {
    "duration": 1434,
    "start_time": "2024-07-26T22:36:36.355Z"
   },
   {
    "duration": 769,
    "start_time": "2024-07-26T22:36:37.793Z"
   },
   {
    "duration": 1315,
    "start_time": "2024-07-26T22:36:38.565Z"
   },
   {
    "duration": 21,
    "start_time": "2024-07-26T22:36:39.883Z"
   },
   {
    "duration": 9,
    "start_time": "2024-07-26T22:36:39.910Z"
   },
   {
    "duration": 183,
    "start_time": "2024-07-26T22:36:39.923Z"
   },
   {
    "duration": 143,
    "start_time": "2024-07-26T22:36:40.110Z"
   },
   {
    "duration": 120,
    "start_time": "2024-07-26T22:36:40.256Z"
   },
   {
    "duration": 112,
    "start_time": "2024-07-26T22:36:40.379Z"
   },
   {
    "duration": 147,
    "start_time": "2024-07-26T22:36:40.501Z"
   },
   {
    "duration": 151,
    "start_time": "2024-07-26T22:36:40.652Z"
   },
   {
    "duration": 26,
    "start_time": "2024-07-26T22:36:40.806Z"
   },
   {
    "duration": 67,
    "start_time": "2024-07-26T22:36:40.836Z"
   },
   {
    "duration": 14,
    "start_time": "2024-07-26T22:36:40.909Z"
   },
   {
    "duration": 26,
    "start_time": "2024-07-26T22:36:40.926Z"
   },
   {
    "duration": 81,
    "start_time": "2024-07-26T22:36:40.956Z"
   },
   {
    "duration": 5,
    "start_time": "2024-07-26T22:36:41.041Z"
   },
   {
    "duration": 55,
    "start_time": "2024-07-26T22:36:41.049Z"
   },
   {
    "duration": 26,
    "start_time": "2024-07-26T22:36:41.109Z"
   },
   {
    "duration": 242,
    "start_time": "2024-07-26T22:36:41.139Z"
   },
   {
    "duration": 168,
    "start_time": "2024-07-26T22:36:49.508Z"
   },
   {
    "duration": 1311,
    "start_time": "2024-07-26T22:37:07.217Z"
   },
   {
    "duration": 1472,
    "start_time": "2024-07-26T22:37:53.218Z"
   },
   {
    "duration": 760,
    "start_time": "2024-07-26T22:37:54.694Z"
   },
   {
    "duration": 1352,
    "start_time": "2024-07-26T22:37:55.457Z"
   },
   {
    "duration": 7,
    "start_time": "2024-07-26T22:37:56.812Z"
   },
   {
    "duration": 8,
    "start_time": "2024-07-26T22:37:56.827Z"
   },
   {
    "duration": 199,
    "start_time": "2024-07-26T22:37:56.839Z"
   },
   {
    "duration": 142,
    "start_time": "2024-07-26T22:37:57.042Z"
   },
   {
    "duration": 116,
    "start_time": "2024-07-26T22:37:57.187Z"
   },
   {
    "duration": 122,
    "start_time": "2024-07-26T22:37:57.306Z"
   },
   {
    "duration": 155,
    "start_time": "2024-07-26T22:37:57.432Z"
   },
   {
    "duration": 146,
    "start_time": "2024-07-26T22:37:57.590Z"
   },
   {
    "duration": 26,
    "start_time": "2024-07-26T22:37:57.740Z"
   },
   {
    "duration": 64,
    "start_time": "2024-07-26T22:37:57.769Z"
   },
   {
    "duration": 13,
    "start_time": "2024-07-26T22:37:57.839Z"
   },
   {
    "duration": 53,
    "start_time": "2024-07-26T22:37:57.855Z"
   },
   {
    "duration": 46,
    "start_time": "2024-07-26T22:37:57.911Z"
   },
   {
    "duration": 6,
    "start_time": "2024-07-26T22:37:57.960Z"
   },
   {
    "duration": 27,
    "start_time": "2024-07-26T22:37:58.002Z"
   },
   {
    "duration": 28,
    "start_time": "2024-07-26T22:37:58.033Z"
   },
   {
    "duration": 69,
    "start_time": "2024-07-26T22:37:58.064Z"
   },
   {
    "duration": 34,
    "start_time": "2024-07-26T22:38:13.632Z"
   },
   {
    "duration": 34,
    "start_time": "2024-07-26T22:38:21.465Z"
   },
   {
    "duration": 523,
    "start_time": "2024-07-26T22:38:55.911Z"
   },
   {
    "duration": 858,
    "start_time": "2024-07-26T22:39:06.698Z"
   },
   {
    "duration": 198,
    "start_time": "2024-07-26T22:39:18.382Z"
   },
   {
    "duration": 37,
    "start_time": "2024-07-26T22:39:24.764Z"
   },
   {
    "duration": 45,
    "start_time": "2024-07-26T22:40:05.464Z"
   },
   {
    "duration": 152,
    "start_time": "2024-07-26T22:40:21.188Z"
   },
   {
    "duration": 33,
    "start_time": "2024-07-26T22:40:35.395Z"
   },
   {
    "duration": 7,
    "start_time": "2024-07-26T22:40:41.335Z"
   },
   {
    "duration": 36,
    "start_time": "2024-07-26T22:40:49.064Z"
   },
   {
    "duration": 118,
    "start_time": "2024-07-26T22:40:56.294Z"
   },
   {
    "duration": 8,
    "start_time": "2024-07-26T22:43:05.453Z"
   },
   {
    "duration": 21,
    "start_time": "2024-07-26T22:43:09.496Z"
   },
   {
    "duration": 51,
    "start_time": "2024-07-26T22:43:17.935Z"
   },
   {
    "duration": 8,
    "start_time": "2024-07-26T22:44:10.251Z"
   },
   {
    "duration": 7,
    "start_time": "2024-07-26T22:44:14.619Z"
   },
   {
    "duration": 8,
    "start_time": "2024-07-26T22:44:17.694Z"
   },
   {
    "duration": 25,
    "start_time": "2024-07-26T22:49:13.061Z"
   },
   {
    "duration": 109,
    "start_time": "2024-07-26T22:49:33.135Z"
   },
   {
    "duration": 24,
    "start_time": "2024-07-26T22:50:39.754Z"
   },
   {
    "duration": 49,
    "start_time": "2024-07-26T22:50:46.132Z"
   },
   {
    "duration": 20,
    "start_time": "2024-07-26T22:52:03.477Z"
   },
   {
    "duration": 53,
    "start_time": "2024-07-26T22:52:12.185Z"
   },
   {
    "duration": 24,
    "start_time": "2024-07-26T22:52:32.817Z"
   },
   {
    "duration": 1447,
    "start_time": "2024-07-26T22:52:43.555Z"
   },
   {
    "duration": 769,
    "start_time": "2024-07-26T22:52:45.006Z"
   },
   {
    "duration": 1360,
    "start_time": "2024-07-26T22:52:45.779Z"
   },
   {
    "duration": 6,
    "start_time": "2024-07-26T22:52:47.142Z"
   },
   {
    "duration": 7,
    "start_time": "2024-07-26T22:52:47.152Z"
   },
   {
    "duration": 176,
    "start_time": "2024-07-26T22:52:47.163Z"
   },
   {
    "duration": 135,
    "start_time": "2024-07-26T22:52:47.343Z"
   },
   {
    "duration": 105,
    "start_time": "2024-07-26T22:52:47.481Z"
   },
   {
    "duration": 106,
    "start_time": "2024-07-26T22:52:47.601Z"
   },
   {
    "duration": 145,
    "start_time": "2024-07-26T22:52:47.710Z"
   },
   {
    "duration": 153,
    "start_time": "2024-07-26T22:52:47.858Z"
   },
   {
    "duration": 27,
    "start_time": "2024-07-26T22:52:48.014Z"
   },
   {
    "duration": 68,
    "start_time": "2024-07-26T22:52:48.044Z"
   },
   {
    "duration": 12,
    "start_time": "2024-07-26T22:52:48.119Z"
   },
   {
    "duration": 28,
    "start_time": "2024-07-26T22:52:48.135Z"
   },
   {
    "duration": 50,
    "start_time": "2024-07-26T22:52:48.204Z"
   },
   {
    "duration": 5,
    "start_time": "2024-07-26T22:52:48.257Z"
   },
   {
    "duration": 57,
    "start_time": "2024-07-26T22:52:48.266Z"
   },
   {
    "duration": 27,
    "start_time": "2024-07-26T22:52:48.326Z"
   },
   {
    "duration": 64,
    "start_time": "2024-07-26T22:52:48.357Z"
   },
   {
    "duration": 51,
    "start_time": "2024-07-26T22:52:59.329Z"
   },
   {
    "duration": 22,
    "start_time": "2024-07-26T22:53:05.456Z"
   },
   {
    "duration": 85,
    "start_time": "2024-07-26T22:54:01.475Z"
   },
   {
    "duration": 102,
    "start_time": "2024-07-26T22:54:07.266Z"
   },
   {
    "duration": 104,
    "start_time": "2024-07-26T22:54:30.147Z"
   },
   {
    "duration": 77,
    "start_time": "2024-07-26T22:54:39.316Z"
   },
   {
    "duration": 104,
    "start_time": "2024-07-26T22:54:43.972Z"
   },
   {
    "duration": 202,
    "start_time": "2024-07-26T22:54:54.022Z"
   },
   {
    "duration": 203,
    "start_time": "2024-07-26T22:55:29.615Z"
   },
   {
    "duration": 31,
    "start_time": "2024-07-26T22:56:11.248Z"
   },
   {
    "duration": 103,
    "start_time": "2024-07-26T22:56:47.711Z"
   },
   {
    "duration": 37,
    "start_time": "2024-07-26T22:58:37.400Z"
   },
   {
    "duration": 62,
    "start_time": "2024-07-26T22:58:54.047Z"
   },
   {
    "duration": 60,
    "start_time": "2024-07-26T22:59:23.885Z"
   },
   {
    "duration": 141,
    "start_time": "2024-07-26T23:00:00.562Z"
   },
   {
    "duration": 6,
    "start_time": "2024-07-26T23:00:32.196Z"
   },
   {
    "duration": 492,
    "start_time": "2024-07-26T23:00:39.602Z"
   },
   {
    "duration": 26,
    "start_time": "2024-07-26T23:01:53.333Z"
   },
   {
    "duration": 50,
    "start_time": "2024-07-26T23:02:00.842Z"
   },
   {
    "duration": 89,
    "start_time": "2024-07-26T23:02:13.023Z"
   },
   {
    "duration": 30,
    "start_time": "2024-07-26T23:02:16.470Z"
   },
   {
    "duration": 47,
    "start_time": "2024-07-26T23:02:25.158Z"
   },
   {
    "duration": 25,
    "start_time": "2024-07-26T23:02:51.939Z"
   },
   {
    "duration": 239,
    "start_time": "2024-07-26T23:03:10.596Z"
   },
   {
    "duration": 277,
    "start_time": "2024-07-26T23:03:14.837Z"
   },
   {
    "duration": 269,
    "start_time": "2024-07-26T23:03:28.215Z"
   },
   {
    "duration": 233,
    "start_time": "2024-07-26T23:03:53.821Z"
   },
   {
    "duration": 273,
    "start_time": "2024-07-26T23:03:59.932Z"
   },
   {
    "duration": 23,
    "start_time": "2024-07-26T23:04:38.479Z"
   },
   {
    "duration": 54,
    "start_time": "2024-07-26T23:04:42.006Z"
   },
   {
    "duration": 19,
    "start_time": "2024-07-26T23:04:47.246Z"
   },
   {
    "duration": 225,
    "start_time": "2024-07-26T23:05:17.886Z"
   },
   {
    "duration": 313,
    "start_time": "2024-07-26T23:05:23.973Z"
   },
   {
    "duration": 2775,
    "start_time": "2024-07-26T23:05:35.045Z"
   },
   {
    "duration": 2915,
    "start_time": "2024-07-26T23:05:54.791Z"
   },
   {
    "duration": 2899,
    "start_time": "2024-07-26T23:06:20.411Z"
   },
   {
    "duration": 3008,
    "start_time": "2024-07-26T23:06:36.595Z"
   },
   {
    "duration": 35,
    "start_time": "2024-07-26T23:07:03.858Z"
   },
   {
    "duration": 278,
    "start_time": "2024-07-26T23:07:06.837Z"
   },
   {
    "duration": 641,
    "start_time": "2024-07-26T23:07:12.262Z"
   },
   {
    "duration": 10,
    "start_time": "2024-07-26T23:08:48.411Z"
   },
   {
    "duration": 10,
    "start_time": "2024-07-26T23:08:58.479Z"
   },
   {
    "duration": 5,
    "start_time": "2024-07-26T23:09:04.895Z"
   },
   {
    "duration": 3385,
    "start_time": "2024-07-26T23:09:37.338Z"
   },
   {
    "duration": 3356,
    "start_time": "2024-07-26T23:09:57.856Z"
   },
   {
    "duration": 5,
    "start_time": "2024-07-26T23:13:41.121Z"
   },
   {
    "duration": 92958,
    "start_time": "2024-07-26T23:13:41.129Z"
   },
   {
    "duration": 3428,
    "start_time": "2024-07-26T23:15:14.092Z"
   },
   {
    "duration": 27,
    "start_time": "2024-07-26T23:24:47.580Z"
   },
   {
    "duration": 7,
    "start_time": "2024-07-26T23:24:55.567Z"
   },
   {
    "duration": 895,
    "start_time": "2024-07-26T23:25:02.884Z"
   },
   {
    "duration": 13,
    "start_time": "2024-07-26T23:25:11.200Z"
   },
   {
    "duration": 26,
    "start_time": "2024-07-26T23:25:31.782Z"
   },
   {
    "duration": 42,
    "start_time": "2024-07-26T23:25:37.072Z"
   },
   {
    "duration": 55,
    "start_time": "2024-07-26T23:25:47.733Z"
   },
   {
    "duration": 44,
    "start_time": "2024-07-26T23:25:55.488Z"
   },
   {
    "duration": 43,
    "start_time": "2024-07-26T23:26:07.645Z"
   },
   {
    "duration": 71,
    "start_time": "2024-07-26T23:26:42.139Z"
   },
   {
    "duration": 4,
    "start_time": "2024-07-26T23:27:55.870Z"
   },
   {
    "duration": 195,
    "start_time": "2024-07-26T23:28:13.800Z"
   },
   {
    "duration": 68,
    "start_time": "2024-07-26T23:28:25.083Z"
   },
   {
    "duration": 196,
    "start_time": "2024-07-26T23:28:27.650Z"
   },
   {
    "duration": 194,
    "start_time": "2024-07-26T23:30:01.733Z"
   },
   {
    "duration": 182,
    "start_time": "2024-07-26T23:30:28.851Z"
   },
   {
    "duration": 187,
    "start_time": "2024-07-26T23:30:51.244Z"
   },
   {
    "duration": 35,
    "start_time": "2024-07-26T23:31:04.712Z"
   },
   {
    "duration": 44,
    "start_time": "2024-07-26T23:31:09.004Z"
   },
   {
    "duration": 45,
    "start_time": "2024-07-26T23:31:17.050Z"
   },
   {
    "duration": 215,
    "start_time": "2024-07-26T23:31:28.765Z"
   },
   {
    "duration": 27,
    "start_time": "2024-07-26T23:32:01.311Z"
   },
   {
    "duration": 38,
    "start_time": "2024-07-26T23:32:04.021Z"
   },
   {
    "duration": 196,
    "start_time": "2024-07-26T23:32:04.430Z"
   },
   {
    "duration": 201,
    "start_time": "2024-07-26T23:32:11.801Z"
   },
   {
    "duration": 38,
    "start_time": "2024-07-26T23:32:29.293Z"
   },
   {
    "duration": 221,
    "start_time": "2024-07-26T23:32:29.968Z"
   },
   {
    "duration": 42,
    "start_time": "2024-07-26T23:32:36.300Z"
   },
   {
    "duration": 181,
    "start_time": "2024-07-26T23:32:37.885Z"
   },
   {
    "duration": 36,
    "start_time": "2024-07-26T23:33:01.079Z"
   },
   {
    "duration": 195,
    "start_time": "2024-07-26T23:33:01.513Z"
   },
   {
    "duration": 43,
    "start_time": "2024-07-26T23:33:10.741Z"
   },
   {
    "duration": 187,
    "start_time": "2024-07-26T23:33:15.586Z"
   },
   {
    "duration": 242,
    "start_time": "2024-07-26T23:33:40.681Z"
   },
   {
    "duration": 187,
    "start_time": "2024-07-26T23:33:52.517Z"
   },
   {
    "duration": 359,
    "start_time": "2024-07-26T23:34:15.403Z"
   },
   {
    "duration": 187,
    "start_time": "2024-07-26T23:34:34.977Z"
   },
   {
    "duration": 298,
    "start_time": "2024-07-26T23:36:06.086Z"
   },
   {
    "duration": 260,
    "start_time": "2024-07-26T23:36:20.942Z"
   },
   {
    "duration": 268,
    "start_time": "2024-07-26T23:36:46.572Z"
   },
   {
    "duration": 263,
    "start_time": "2024-07-26T23:37:22.552Z"
   },
   {
    "duration": 32,
    "start_time": "2024-07-26T23:41:12.224Z"
   },
   {
    "duration": 17,
    "start_time": "2024-07-26T23:41:15.951Z"
   },
   {
    "duration": 259,
    "start_time": "2024-07-26T23:42:09.352Z"
   },
   {
    "duration": 84,
    "start_time": "2024-07-26T23:42:14.787Z"
   },
   {
    "duration": 59,
    "start_time": "2024-07-26T23:42:22.304Z"
   },
   {
    "duration": 13,
    "start_time": "2024-07-26T23:42:28.461Z"
   },
   {
    "duration": 47,
    "start_time": "2024-07-26T23:42:40.050Z"
   },
   {
    "duration": 59,
    "start_time": "2024-07-26T23:42:51.617Z"
   },
   {
    "duration": 48,
    "start_time": "2024-07-26T23:42:56.180Z"
   },
   {
    "duration": 188,
    "start_time": "2024-07-26T23:45:29.321Z"
   },
   {
    "duration": 28,
    "start_time": "2024-07-26T23:48:21.019Z"
   },
   {
    "duration": 31,
    "start_time": "2024-07-26T23:48:30.113Z"
   },
   {
    "duration": 86,
    "start_time": "2024-07-26T23:48:42.410Z"
   },
   {
    "duration": 12,
    "start_time": "2024-07-26T23:48:49.868Z"
   },
   {
    "duration": 8,
    "start_time": "2024-07-26T23:49:04.948Z"
   },
   {
    "duration": 12,
    "start_time": "2024-07-26T23:49:08.158Z"
   },
   {
    "duration": 5,
    "start_time": "2024-07-26T23:49:28.448Z"
   },
   {
    "duration": 5,
    "start_time": "2024-07-26T23:50:19.468Z"
   },
   {
    "duration": 9,
    "start_time": "2024-07-26T23:50:21.926Z"
   },
   {
    "duration": 9,
    "start_time": "2024-07-26T23:50:25.134Z"
   },
   {
    "duration": 221,
    "start_time": "2024-07-26T23:50:33.494Z"
   },
   {
    "duration": 208,
    "start_time": "2024-07-26T23:50:47.666Z"
   },
   {
    "duration": 207,
    "start_time": "2024-07-26T23:51:29.367Z"
   },
   {
    "duration": 227,
    "start_time": "2024-07-26T23:51:52.750Z"
   },
   {
    "duration": 8,
    "start_time": "2024-07-26T23:54:52.342Z"
   },
   {
    "duration": 39,
    "start_time": "2024-07-26T23:54:58.401Z"
   },
   {
    "duration": 316,
    "start_time": "2024-07-26T23:55:17.383Z"
   },
   {
    "duration": 41,
    "start_time": "2024-07-26T23:55:28.014Z"
   },
   {
    "duration": 215,
    "start_time": "2024-07-26T23:55:38.472Z"
   },
   {
    "duration": 240,
    "start_time": "2024-07-26T23:55:46.023Z"
   },
   {
    "duration": 24,
    "start_time": "2024-07-26T23:56:13.245Z"
   },
   {
    "duration": 39,
    "start_time": "2024-07-26T23:56:28.224Z"
   },
   {
    "duration": 66,
    "start_time": "2024-07-26T23:56:34.319Z"
   },
   {
    "duration": 6540,
    "start_time": "2024-07-26T23:56:43.684Z"
   },
   {
    "duration": 226,
    "start_time": "2024-07-26T23:56:54.677Z"
   },
   {
    "duration": 65,
    "start_time": "2024-07-26T23:56:59.468Z"
   },
   {
    "duration": 617,
    "start_time": "2024-07-26T23:57:12.420Z"
   },
   {
    "duration": 84,
    "start_time": "2024-07-26T23:57:30.080Z"
   },
   {
    "duration": 3178,
    "start_time": "2024-07-26T23:57:34.778Z"
   },
   {
    "duration": 7,
    "start_time": "2024-07-26T23:57:52.698Z"
   },
   {
    "duration": 40,
    "start_time": "2024-07-26T23:57:59.627Z"
   },
   {
    "duration": 39,
    "start_time": "2024-07-26T23:58:02.423Z"
   },
   {
    "duration": 39,
    "start_time": "2024-07-26T23:58:04.616Z"
   },
   {
    "duration": 502,
    "start_time": "2024-07-26T23:58:06.581Z"
   },
   {
    "duration": 46,
    "start_time": "2024-07-26T23:58:08.950Z"
   },
   {
    "duration": 77,
    "start_time": "2024-07-26T23:58:23.670Z"
   },
   {
    "duration": 61,
    "start_time": "2024-07-26T23:58:35.984Z"
   },
   {
    "duration": 51,
    "start_time": "2024-07-26T23:58:39.127Z"
   },
   {
    "duration": 84,
    "start_time": "2024-07-26T23:59:05.130Z"
   },
   {
    "duration": 10,
    "start_time": "2024-07-26T23:59:31.404Z"
   },
   {
    "duration": 39,
    "start_time": "2024-07-26T23:59:43.001Z"
   },
   {
    "duration": 41,
    "start_time": "2024-07-26T23:59:54.383Z"
   },
   {
    "duration": 38,
    "start_time": "2024-07-26T23:59:59.522Z"
   },
   {
    "duration": 39,
    "start_time": "2024-07-27T00:00:02.113Z"
   },
   {
    "duration": 210,
    "start_time": "2024-07-27T00:00:07.348Z"
   },
   {
    "duration": 220,
    "start_time": "2024-07-27T00:00:11.499Z"
   },
   {
    "duration": 244,
    "start_time": "2024-07-27T00:00:23.075Z"
   },
   {
    "duration": 1953,
    "start_time": "2024-07-27T00:00:27.872Z"
   },
   {
    "duration": 132,
    "start_time": "2024-07-27T00:01:34.997Z"
   },
   {
    "duration": 428,
    "start_time": "2024-07-27T00:02:26.148Z"
   },
   {
    "duration": 4433,
    "start_time": "2024-07-27T00:09:30.104Z"
   },
   {
    "duration": 3273,
    "start_time": "2024-07-27T00:09:39.459Z"
   },
   {
    "duration": 2259,
    "start_time": "2024-07-27T00:09:45.074Z"
   },
   {
    "duration": 7550,
    "start_time": "2024-07-27T00:09:50.178Z"
   },
   {
    "duration": 10871,
    "start_time": "2024-07-27T00:10:05.419Z"
   },
   {
    "duration": 21826,
    "start_time": "2024-07-27T00:10:27.098Z"
   },
   {
    "duration": 5049,
    "start_time": "2024-07-27T00:11:05.592Z"
   },
   {
    "duration": 10719,
    "start_time": "2024-07-27T00:11:15.054Z"
   },
   {
    "duration": 6718,
    "start_time": "2024-07-27T00:11:30.827Z"
   },
   {
    "duration": 3333,
    "start_time": "2024-07-27T00:12:01.204Z"
   },
   {
    "duration": 12214,
    "start_time": "2024-07-27T00:12:08.912Z"
   },
   {
    "duration": 13919,
    "start_time": "2024-07-27T00:12:28.248Z"
   },
   {
    "duration": 13166,
    "start_time": "2024-07-27T00:12:47.679Z"
   },
   {
    "duration": 14643,
    "start_time": "2024-07-27T00:13:06.539Z"
   },
   {
    "duration": 7,
    "start_time": "2024-07-27T00:13:41.890Z"
   },
   {
    "duration": 12771,
    "start_time": "2024-07-27T00:13:48.600Z"
   },
   {
    "duration": 12975,
    "start_time": "2024-07-27T00:14:10.257Z"
   },
   {
    "duration": 9,
    "start_time": "2024-07-27T00:14:36.435Z"
   },
   {
    "duration": 570,
    "start_time": "2024-07-27T00:15:02.955Z"
   },
   {
    "duration": 5353,
    "start_time": "2024-07-27T16:23:06.838Z"
   },
   {
    "duration": 827,
    "start_time": "2024-07-27T16:23:12.195Z"
   },
   {
    "duration": 1316,
    "start_time": "2024-07-27T16:23:14.331Z"
   },
   {
    "duration": 6,
    "start_time": "2024-07-27T16:23:15.651Z"
   },
   {
    "duration": 7,
    "start_time": "2024-07-27T16:23:15.662Z"
   },
   {
    "duration": 8,
    "start_time": "2024-07-27T16:23:18.374Z"
   },
   {
    "duration": 140,
    "start_time": "2024-07-27T16:23:19.237Z"
   },
   {
    "duration": 109,
    "start_time": "2024-07-27T16:23:19.958Z"
   },
   {
    "duration": 95,
    "start_time": "2024-07-27T16:23:21.275Z"
   },
   {
    "duration": 99,
    "start_time": "2024-07-27T16:23:22.409Z"
   },
   {
    "duration": 140,
    "start_time": "2024-07-27T16:23:23.040Z"
   },
   {
    "duration": 129,
    "start_time": "2024-07-27T16:23:23.973Z"
   },
   {
    "duration": 25,
    "start_time": "2024-07-27T16:23:25.961Z"
   },
   {
    "duration": 35,
    "start_time": "2024-07-27T16:23:27.211Z"
   },
   {
    "duration": 12,
    "start_time": "2024-07-27T16:23:31.357Z"
   },
   {
    "duration": 28,
    "start_time": "2024-07-27T16:23:32.470Z"
   },
   {
    "duration": 46,
    "start_time": "2024-07-27T16:23:33.258Z"
   },
   {
    "duration": 5,
    "start_time": "2024-07-27T16:23:33.619Z"
   },
   {
    "duration": 26,
    "start_time": "2024-07-27T16:23:34.253Z"
   },
   {
    "duration": 28,
    "start_time": "2024-07-27T16:23:34.765Z"
   },
   {
    "duration": 217,
    "start_time": "2024-07-27T16:23:36.647Z"
   },
   {
    "duration": 102,
    "start_time": "2024-07-27T16:23:38.696Z"
   },
   {
    "duration": 211,
    "start_time": "2024-07-27T16:23:42.408Z"
   },
   {
    "duration": 101,
    "start_time": "2024-07-27T16:23:53.531Z"
   },
   {
    "duration": 218,
    "start_time": "2024-07-27T16:24:13.952Z"
   },
   {
    "duration": 101,
    "start_time": "2024-07-27T16:24:18.836Z"
   },
   {
    "duration": 65,
    "start_time": "2024-07-27T16:24:22.990Z"
   },
   {
    "duration": 63,
    "start_time": "2024-07-27T16:24:26.712Z"
   },
   {
    "duration": 6,
    "start_time": "2024-07-27T16:24:28.694Z"
   },
   {
    "duration": 285,
    "start_time": "2024-07-27T16:24:33.923Z"
   },
   {
    "duration": 292,
    "start_time": "2024-07-27T16:24:38.098Z"
   },
   {
    "duration": 174,
    "start_time": "2024-07-27T16:24:50.341Z"
   },
   {
    "duration": 223,
    "start_time": "2024-07-27T16:24:53.862Z"
   },
   {
    "duration": 39,
    "start_time": "2024-07-27T16:24:59.368Z"
   },
   {
    "duration": 372,
    "start_time": "2024-07-27T16:25:01.342Z"
   },
   {
    "duration": 353,
    "start_time": "2024-07-27T16:25:20.237Z"
   },
   {
    "duration": 386,
    "start_time": "2024-07-27T16:25:42.448Z"
   },
   {
    "duration": 420,
    "start_time": "2024-07-27T16:27:00.129Z"
   },
   {
    "duration": 40,
    "start_time": "2024-07-27T16:27:32.230Z"
   },
   {
    "duration": 199,
    "start_time": "2024-07-27T16:27:39.240Z"
   },
   {
    "duration": 504,
    "start_time": "2024-07-27T16:27:45.911Z"
   },
   {
    "duration": 8,
    "start_time": "2024-07-27T16:27:49.040Z"
   },
   {
    "duration": 8,
    "start_time": "2024-07-27T16:27:51.137Z"
   },
   {
    "duration": 3282,
    "start_time": "2024-07-27T16:27:53.619Z"
   },
   {
    "duration": 11655,
    "start_time": "2024-07-27T16:28:00.060Z"
   },
   {
    "duration": 27,
    "start_time": "2024-07-27T16:29:57.192Z"
   },
   {
    "duration": 6,
    "start_time": "2024-07-27T16:30:11.597Z"
   },
   {
    "duration": 6,
    "start_time": "2024-07-27T16:31:14.805Z"
   },
   {
    "duration": 24,
    "start_time": "2024-07-27T16:31:30.379Z"
   },
   {
    "duration": 1664,
    "start_time": "2024-07-27T16:31:58.286Z"
   },
   {
    "duration": 775,
    "start_time": "2024-07-27T16:31:59.953Z"
   },
   {
    "duration": 1294,
    "start_time": "2024-07-27T16:32:00.731Z"
   },
   {
    "duration": 6,
    "start_time": "2024-07-27T16:32:02.030Z"
   },
   {
    "duration": 9,
    "start_time": "2024-07-27T16:32:02.039Z"
   },
   {
    "duration": 178,
    "start_time": "2024-07-27T16:32:02.052Z"
   },
   {
    "duration": 130,
    "start_time": "2024-07-27T16:32:02.233Z"
   },
   {
    "duration": 107,
    "start_time": "2024-07-27T16:32:02.366Z"
   },
   {
    "duration": 101,
    "start_time": "2024-07-27T16:32:02.476Z"
   },
   {
    "duration": 141,
    "start_time": "2024-07-27T16:32:02.593Z"
   },
   {
    "duration": 173,
    "start_time": "2024-07-27T16:32:02.738Z"
   },
   {
    "duration": 26,
    "start_time": "2024-07-27T16:32:02.914Z"
   },
   {
    "duration": 60,
    "start_time": "2024-07-27T16:32:02.943Z"
   },
   {
    "duration": 12,
    "start_time": "2024-07-27T16:32:03.006Z"
   },
   {
    "duration": 25,
    "start_time": "2024-07-27T16:32:03.022Z"
   },
   {
    "duration": 74,
    "start_time": "2024-07-27T16:32:03.050Z"
   },
   {
    "duration": 5,
    "start_time": "2024-07-27T16:32:03.128Z"
   },
   {
    "duration": 26,
    "start_time": "2024-07-27T16:32:03.136Z"
   },
   {
    "duration": 28,
    "start_time": "2024-07-27T16:32:03.192Z"
   },
   {
    "duration": 269,
    "start_time": "2024-07-27T16:32:03.223Z"
   },
   {
    "duration": 114,
    "start_time": "2024-07-27T16:32:03.497Z"
   },
   {
    "duration": 63,
    "start_time": "2024-07-27T16:32:03.614Z"
   },
   {
    "duration": 62,
    "start_time": "2024-07-27T16:32:03.691Z"
   },
   {
    "duration": 6,
    "start_time": "2024-07-27T16:32:03.756Z"
   },
   {
    "duration": 41,
    "start_time": "2024-07-27T16:32:03.792Z"
   },
   {
    "duration": 234,
    "start_time": "2024-07-27T16:32:03.837Z"
   },
   {
    "duration": 284,
    "start_time": "2024-07-27T16:32:04.075Z"
   },
   {
    "duration": 164,
    "start_time": "2024-07-27T16:32:04.368Z"
   },
   {
    "duration": 256,
    "start_time": "2024-07-27T16:32:04.536Z"
   },
   {
    "duration": 46,
    "start_time": "2024-07-27T16:32:04.795Z"
   },
   {
    "duration": 391,
    "start_time": "2024-07-27T16:32:04.844Z"
   },
   {
    "duration": 200,
    "start_time": "2024-07-27T16:32:05.238Z"
   },
   {
    "duration": 559,
    "start_time": "2024-07-27T16:32:05.441Z"
   },
   {
    "duration": 14,
    "start_time": "2024-07-27T16:32:06.002Z"
   },
   {
    "duration": 3405,
    "start_time": "2024-07-27T16:32:06.092Z"
   },
   {
    "duration": 11822,
    "start_time": "2024-07-27T16:32:09.500Z"
   },
   {
    "duration": 1630,
    "start_time": "2024-07-27T16:33:11.753Z"
   },
   {
    "duration": 778,
    "start_time": "2024-07-27T16:33:13.388Z"
   },
   {
    "duration": 1256,
    "start_time": "2024-07-27T16:33:14.168Z"
   },
   {
    "duration": 7,
    "start_time": "2024-07-27T16:33:15.427Z"
   },
   {
    "duration": 11,
    "start_time": "2024-07-27T16:33:15.437Z"
   },
   {
    "duration": 175,
    "start_time": "2024-07-27T16:33:15.450Z"
   },
   {
    "duration": 130,
    "start_time": "2024-07-27T16:33:15.628Z"
   },
   {
    "duration": 105,
    "start_time": "2024-07-27T16:33:15.762Z"
   },
   {
    "duration": 107,
    "start_time": "2024-07-27T16:33:15.870Z"
   },
   {
    "duration": 142,
    "start_time": "2024-07-27T16:33:15.990Z"
   },
   {
    "duration": 145,
    "start_time": "2024-07-27T16:33:16.135Z"
   },
   {
    "duration": 25,
    "start_time": "2024-07-27T16:33:16.292Z"
   },
   {
    "duration": 35,
    "start_time": "2024-07-27T16:33:16.321Z"
   },
   {
    "duration": 42,
    "start_time": "2024-07-27T16:33:16.359Z"
   },
   {
    "duration": 26,
    "start_time": "2024-07-27T16:33:16.404Z"
   },
   {
    "duration": 71,
    "start_time": "2024-07-27T16:33:16.432Z"
   },
   {
    "duration": 6,
    "start_time": "2024-07-27T16:33:16.506Z"
   },
   {
    "duration": 26,
    "start_time": "2024-07-27T16:33:16.514Z"
   },
   {
    "duration": 54,
    "start_time": "2024-07-27T16:33:16.544Z"
   },
   {
    "duration": 253,
    "start_time": "2024-07-27T16:33:16.601Z"
   },
   {
    "duration": 111,
    "start_time": "2024-07-27T16:33:16.856Z"
   },
   {
    "duration": 75,
    "start_time": "2024-07-27T16:33:16.971Z"
   },
   {
    "duration": 74,
    "start_time": "2024-07-27T16:33:17.048Z"
   },
   {
    "duration": 6,
    "start_time": "2024-07-27T16:33:17.124Z"
   },
   {
    "duration": 68,
    "start_time": "2024-07-27T16:33:17.133Z"
   },
   {
    "duration": 214,
    "start_time": "2024-07-27T16:33:17.204Z"
   },
   {
    "duration": 286,
    "start_time": "2024-07-27T16:33:17.421Z"
   },
   {
    "duration": 170,
    "start_time": "2024-07-27T16:33:17.714Z"
   },
   {
    "duration": 241,
    "start_time": "2024-07-27T16:33:17.887Z"
   },
   {
    "duration": 39,
    "start_time": "2024-07-27T16:33:18.131Z"
   },
   {
    "duration": 383,
    "start_time": "2024-07-27T16:33:18.191Z"
   },
   {
    "duration": 207,
    "start_time": "2024-07-27T16:33:18.578Z"
   },
   {
    "duration": 604,
    "start_time": "2024-07-27T16:33:18.791Z"
   },
   {
    "duration": 87,
    "start_time": "2024-07-27T16:33:19.403Z"
   },
   {
    "duration": 3213,
    "start_time": "2024-07-27T16:33:19.493Z"
   },
   {
    "duration": 12090,
    "start_time": "2024-07-27T16:33:22.711Z"
   },
   {
    "duration": 7,
    "start_time": "2024-07-27T16:33:34.808Z"
   },
   {
    "duration": 450,
    "start_time": "2024-07-27T16:33:34.820Z"
   },
   {
    "duration": 3,
    "start_time": "2024-07-27T16:33:48.727Z"
   },
   {
    "duration": 29721,
    "start_time": "2024-07-27T16:34:09.250Z"
   },
   {
    "duration": 28808,
    "start_time": "2024-07-27T16:34:52.470Z"
   },
   {
    "duration": 28711,
    "start_time": "2024-07-27T16:37:25.902Z"
   },
   {
    "duration": 36,
    "start_time": "2024-07-27T16:40:45.094Z"
   },
   {
    "duration": 6,
    "start_time": "2024-07-27T16:41:01.327Z"
   },
   {
    "duration": 28,
    "start_time": "2024-07-27T16:41:38.052Z"
   },
   {
    "duration": 6,
    "start_time": "2024-07-27T16:42:51.180Z"
   },
   {
    "duration": 221,
    "start_time": "2024-07-27T16:43:00.096Z"
   },
   {
    "duration": 22,
    "start_time": "2024-07-27T16:43:18.168Z"
   },
   {
    "duration": 4,
    "start_time": "2024-07-27T16:43:25.642Z"
   },
   {
    "duration": 30,
    "start_time": "2024-07-27T16:43:34.784Z"
   },
   {
    "duration": 6,
    "start_time": "2024-07-27T16:44:17.874Z"
   },
   {
    "duration": 28,
    "start_time": "2024-07-27T16:44:23.089Z"
   },
   {
    "duration": 3226,
    "start_time": "2024-07-27T16:44:32.786Z"
   },
   {
    "duration": 3927,
    "start_time": "2024-07-27T16:45:14.384Z"
   },
   {
    "duration": 3848,
    "start_time": "2024-07-27T16:46:17.370Z"
   },
   {
    "duration": 36,
    "start_time": "2024-07-27T16:48:00.358Z"
   },
   {
    "duration": 71,
    "start_time": "2024-07-27T16:48:47.485Z"
   },
   {
    "duration": 4,
    "start_time": "2024-07-27T16:49:15.601Z"
   },
   {
    "duration": 42719,
    "start_time": "2024-07-27T16:50:08.432Z"
   },
   {
    "duration": 41449,
    "start_time": "2024-07-27T16:52:03.196Z"
   },
   {
    "duration": 8,
    "start_time": "2024-07-27T16:53:11.516Z"
   },
   {
    "duration": 582,
    "start_time": "2024-07-27T16:53:14.066Z"
   },
   {
    "duration": 48,
    "start_time": "2024-07-27T16:53:21.736Z"
   },
   {
    "duration": 787,
    "start_time": "2024-07-27T16:53:32.095Z"
   },
   {
    "duration": 1203,
    "start_time": "2024-07-27T16:53:41.945Z"
   },
   {
    "duration": 40,
    "start_time": "2024-07-27T16:54:21.167Z"
   },
   {
    "duration": 8,
    "start_time": "2024-07-27T16:54:28.446Z"
   },
   {
    "duration": 9,
    "start_time": "2024-07-27T16:54:36.892Z"
   },
   {
    "duration": 5039,
    "start_time": "2024-07-27T16:55:16.634Z"
   },
   {
    "duration": 1268,
    "start_time": "2024-07-27T16:55:31.554Z"
   },
   {
    "duration": 1192,
    "start_time": "2024-07-27T16:56:16.329Z"
   },
   {
    "duration": 4,
    "start_time": "2024-07-27T16:56:44.783Z"
   },
   {
    "duration": 1697,
    "start_time": "2024-07-27T16:59:50.164Z"
   },
   {
    "duration": 767,
    "start_time": "2024-07-27T16:59:51.866Z"
   },
   {
    "duration": 1336,
    "start_time": "2024-07-27T16:59:52.637Z"
   },
   {
    "duration": 17,
    "start_time": "2024-07-27T16:59:53.976Z"
   },
   {
    "duration": 8,
    "start_time": "2024-07-27T16:59:54.000Z"
   },
   {
    "duration": 167,
    "start_time": "2024-07-27T16:59:54.012Z"
   },
   {
    "duration": 127,
    "start_time": "2024-07-27T16:59:54.190Z"
   },
   {
    "duration": 106,
    "start_time": "2024-07-27T16:59:54.322Z"
   },
   {
    "duration": 108,
    "start_time": "2024-07-27T16:59:54.431Z"
   },
   {
    "duration": 155,
    "start_time": "2024-07-27T16:59:54.542Z"
   },
   {
    "duration": 161,
    "start_time": "2024-07-27T16:59:54.701Z"
   },
   {
    "duration": 38,
    "start_time": "2024-07-27T16:59:54.865Z"
   },
   {
    "duration": 46,
    "start_time": "2024-07-27T16:59:54.907Z"
   },
   {
    "duration": 32,
    "start_time": "2024-07-27T16:59:54.960Z"
   },
   {
    "duration": 26,
    "start_time": "2024-07-27T16:59:54.995Z"
   },
   {
    "duration": 71,
    "start_time": "2024-07-27T16:59:55.025Z"
   },
   {
    "duration": 5,
    "start_time": "2024-07-27T16:59:55.099Z"
   },
   {
    "duration": 28,
    "start_time": "2024-07-27T16:59:55.107Z"
   },
   {
    "duration": 59,
    "start_time": "2024-07-27T16:59:55.138Z"
   },
   {
    "duration": 250,
    "start_time": "2024-07-27T16:59:55.200Z"
   },
   {
    "duration": 118,
    "start_time": "2024-07-27T16:59:55.453Z"
   },
   {
    "duration": 71,
    "start_time": "2024-07-27T16:59:55.575Z"
   },
   {
    "duration": 79,
    "start_time": "2024-07-27T16:59:55.649Z"
   },
   {
    "duration": 6,
    "start_time": "2024-07-27T16:59:55.732Z"
   },
   {
    "duration": 64,
    "start_time": "2024-07-27T16:59:55.742Z"
   },
   {
    "duration": 227,
    "start_time": "2024-07-27T16:59:55.810Z"
   },
   {
    "duration": 284,
    "start_time": "2024-07-27T16:59:56.042Z"
   },
   {
    "duration": 178,
    "start_time": "2024-07-27T16:59:56.329Z"
   },
   {
    "duration": 233,
    "start_time": "2024-07-27T16:59:56.510Z"
   },
   {
    "duration": 58,
    "start_time": "2024-07-27T16:59:56.746Z"
   },
   {
    "duration": 393,
    "start_time": "2024-07-27T16:59:56.807Z"
   },
   {
    "duration": 215,
    "start_time": "2024-07-27T16:59:57.204Z"
   },
   {
    "duration": 571,
    "start_time": "2024-07-27T16:59:57.425Z"
   },
   {
    "duration": 86,
    "start_time": "2024-07-27T16:59:58.004Z"
   },
   {
    "duration": 3298,
    "start_time": "2024-07-27T16:59:58.093Z"
   },
   {
    "duration": 11769,
    "start_time": "2024-07-27T17:00:01.395Z"
   },
   {
    "duration": 30102,
    "start_time": "2024-07-27T17:00:13.167Z"
   },
   {
    "duration": 3835,
    "start_time": "2024-07-27T17:00:43.273Z"
   },
   {
    "duration": 1319,
    "start_time": "2024-07-27T17:00:47.111Z"
   },
   {
    "duration": 561,
    "start_time": "2024-07-27T17:02:26.440Z"
   },
   {
    "duration": 641,
    "start_time": "2024-07-27T17:02:32.161Z"
   },
   {
    "duration": 586,
    "start_time": "2024-07-27T17:02:43.007Z"
   },
   {
    "duration": 7,
    "start_time": "2024-07-27T17:03:10.857Z"
   },
   {
    "duration": 11654,
    "start_time": "2024-07-27T17:03:38.377Z"
   },
   {
    "duration": 29417,
    "start_time": "2024-07-27T17:04:44.123Z"
   },
   {
    "duration": 4650,
    "start_time": "2024-07-27T17:05:13.543Z"
   },
   {
    "duration": 1209,
    "start_time": "2024-07-27T17:05:18.196Z"
   },
   {
    "duration": 582,
    "start_time": "2024-07-27T17:10:40.308Z"
   },
   {
    "duration": 7,
    "start_time": "2024-07-27T17:11:50.121Z"
   },
   {
    "duration": 28599,
    "start_time": "2024-07-27T17:14:26.841Z"
   },
   {
    "duration": 104,
    "start_time": "2024-07-27T17:21:06.154Z"
   },
   {
    "duration": 563,
    "start_time": "2024-07-27T17:21:10.743Z"
   },
   {
    "duration": 585,
    "start_time": "2024-07-27T17:21:32.804Z"
   },
   {
    "duration": 498,
    "start_time": "2024-07-27T17:22:07.695Z"
   },
   {
    "duration": 566,
    "start_time": "2024-07-27T17:22:13.544Z"
   },
   {
    "duration": 556,
    "start_time": "2024-07-27T17:22:22.260Z"
   },
   {
    "duration": 8,
    "start_time": "2024-07-27T17:23:46.452Z"
   },
   {
    "duration": 12023,
    "start_time": "2024-07-27T17:24:11.164Z"
   },
   {
    "duration": 29332,
    "start_time": "2024-07-27T17:25:52.420Z"
   },
   {
    "duration": 3822,
    "start_time": "2024-07-27T17:27:38.083Z"
   },
   {
    "duration": 1210,
    "start_time": "2024-07-27T17:28:37.845Z"
   },
   {
    "duration": 10,
    "start_time": "2024-07-27T18:27:52.196Z"
   },
   {
    "duration": 5389,
    "start_time": "2024-07-27T22:45:12.586Z"
   },
   {
    "duration": 774,
    "start_time": "2024-07-27T22:45:17.978Z"
   },
   {
    "duration": 1247,
    "start_time": "2024-07-27T22:45:18.755Z"
   },
   {
    "duration": 6,
    "start_time": "2024-07-27T22:45:21.998Z"
   },
   {
    "duration": 7,
    "start_time": "2024-07-27T22:45:22.607Z"
   },
   {
    "duration": 154,
    "start_time": "2024-07-27T22:45:23.551Z"
   },
   {
    "duration": 115,
    "start_time": "2024-07-27T22:45:23.893Z"
   },
   {
    "duration": 105,
    "start_time": "2024-07-27T22:45:25.385Z"
   },
   {
    "duration": 97,
    "start_time": "2024-07-27T22:45:26.860Z"
   },
   {
    "duration": 143,
    "start_time": "2024-07-27T22:45:27.446Z"
   },
   {
    "duration": 131,
    "start_time": "2024-07-27T22:45:28.464Z"
   },
   {
    "duration": 26,
    "start_time": "2024-07-27T22:45:29.120Z"
   },
   {
    "duration": 35,
    "start_time": "2024-07-27T22:45:30.581Z"
   },
   {
    "duration": 12,
    "start_time": "2024-07-27T22:45:31.280Z"
   },
   {
    "duration": 26,
    "start_time": "2024-07-27T22:45:33.791Z"
   },
   {
    "duration": 45,
    "start_time": "2024-07-27T22:45:34.291Z"
   },
   {
    "duration": 4,
    "start_time": "2024-07-27T22:45:41.870Z"
   },
   {
    "duration": 26,
    "start_time": "2024-07-27T22:45:43.014Z"
   },
   {
    "duration": 27,
    "start_time": "2024-07-27T22:45:43.833Z"
   },
   {
    "duration": 231,
    "start_time": "2024-07-27T22:45:46.380Z"
   },
   {
    "duration": 103,
    "start_time": "2024-07-27T22:45:47.140Z"
   },
   {
    "duration": 63,
    "start_time": "2024-07-27T22:45:52.281Z"
   },
   {
    "duration": 65,
    "start_time": "2024-07-27T22:45:52.831Z"
   },
   {
    "duration": 44,
    "start_time": "2024-07-27T22:46:15.448Z"
   },
   {
    "duration": 6,
    "start_time": "2024-07-27T22:46:23.809Z"
   },
   {
    "duration": 43,
    "start_time": "2024-07-27T22:46:24.466Z"
   },
   {
    "duration": 210,
    "start_time": "2024-07-27T22:46:29.376Z"
   },
   {
    "duration": 265,
    "start_time": "2024-07-27T22:46:34.360Z"
   },
   {
    "duration": 146,
    "start_time": "2024-07-27T22:46:36.066Z"
   },
   {
    "duration": 216,
    "start_time": "2024-07-27T22:46:48.013Z"
   },
   {
    "duration": 388,
    "start_time": "2024-07-27T22:46:54.754Z"
   },
   {
    "duration": 267,
    "start_time": "2024-07-27T22:47:07.005Z"
   },
   {
    "duration": 2423,
    "start_time": "2024-07-27T22:47:24.789Z"
   },
   {
    "duration": 6,
    "start_time": "2024-07-27T22:49:22.627Z"
   },
   {
    "duration": 4,
    "start_time": "2024-07-27T22:50:02.710Z"
   },
   {
    "duration": 462,
    "start_time": "2024-07-27T22:50:39.848Z"
   },
   {
    "duration": 487,
    "start_time": "2024-07-27T22:50:46.284Z"
   },
   {
    "duration": 458,
    "start_time": "2024-07-27T22:50:50.322Z"
   },
   {
    "duration": 445,
    "start_time": "2024-07-27T22:50:54.330Z"
   },
   {
    "duration": 279,
    "start_time": "2024-07-27T22:51:14.822Z"
   },
   {
    "duration": 2436,
    "start_time": "2024-07-27T22:51:32.957Z"
   },
   {
    "duration": 5385,
    "start_time": "2024-07-28T03:10:40.919Z"
   },
   {
    "duration": 791,
    "start_time": "2024-07-28T03:10:46.308Z"
   },
   {
    "duration": 1242,
    "start_time": "2024-07-28T03:10:47.102Z"
   },
   {
    "duration": 5,
    "start_time": "2024-07-28T03:10:48.347Z"
   },
   {
    "duration": 8,
    "start_time": "2024-07-28T03:10:48.357Z"
   },
   {
    "duration": 149,
    "start_time": "2024-07-28T03:10:48.392Z"
   },
   {
    "duration": 132,
    "start_time": "2024-07-28T03:10:48.543Z"
   },
   {
    "duration": 99,
    "start_time": "2024-07-28T03:10:48.678Z"
   },
   {
    "duration": 112,
    "start_time": "2024-07-28T03:10:48.780Z"
   },
   {
    "duration": 151,
    "start_time": "2024-07-28T03:10:48.894Z"
   },
   {
    "duration": 149,
    "start_time": "2024-07-28T03:10:49.048Z"
   },
   {
    "duration": 25,
    "start_time": "2024-07-28T03:10:49.200Z"
   },
   {
    "duration": 35,
    "start_time": "2024-07-28T03:10:49.228Z"
   },
   {
    "duration": 12,
    "start_time": "2024-07-28T03:10:49.295Z"
   },
   {
    "duration": 25,
    "start_time": "2024-07-28T03:10:49.310Z"
   },
   {
    "duration": 70,
    "start_time": "2024-07-28T03:10:49.338Z"
   },
   {
    "duration": 4,
    "start_time": "2024-07-28T03:10:49.411Z"
   },
   {
    "duration": 26,
    "start_time": "2024-07-28T03:10:49.419Z"
   },
   {
    "duration": 60,
    "start_time": "2024-07-28T03:10:49.448Z"
   },
   {
    "duration": 248,
    "start_time": "2024-07-28T03:10:49.511Z"
   },
   {
    "duration": 113,
    "start_time": "2024-07-28T03:10:49.762Z"
   },
   {
    "duration": 69,
    "start_time": "2024-07-28T03:10:49.878Z"
   },
   {
    "duration": 73,
    "start_time": "2024-07-28T03:10:49.950Z"
   },
   {
    "duration": 9,
    "start_time": "2024-07-28T03:10:50.026Z"
   },
   {
    "duration": 70,
    "start_time": "2024-07-28T03:10:50.038Z"
   },
   {
    "duration": 215,
    "start_time": "2024-07-28T03:10:50.110Z"
   },
   {
    "duration": 277,
    "start_time": "2024-07-28T03:10:50.328Z"
   },
   {
    "duration": 175,
    "start_time": "2024-07-28T03:10:50.608Z"
   },
   {
    "duration": 240,
    "start_time": "2024-07-28T03:10:50.786Z"
   },
   {
    "duration": 40,
    "start_time": "2024-07-28T03:10:51.029Z"
   },
   {
    "duration": 378,
    "start_time": "2024-07-28T03:10:51.090Z"
   },
   {
    "duration": 285,
    "start_time": "2024-07-28T03:10:51.471Z"
   },
   {
    "duration": 411,
    "start_time": "2024-07-28T03:13:57.310Z"
   },
   {
    "duration": 3,
    "start_time": "2024-07-28T03:14:04.484Z"
   },
   {
    "duration": 7,
    "start_time": "2024-07-28T03:14:07.868Z"
   },
   {
    "duration": 27,
    "start_time": "2024-07-28T03:14:24.821Z"
   },
   {
    "duration": 25,
    "start_time": "2024-07-28T03:14:35.409Z"
   },
   {
    "duration": 24,
    "start_time": "2024-07-28T03:14:42.862Z"
   },
   {
    "duration": 364,
    "start_time": "2024-07-28T03:15:31.477Z"
   },
   {
    "duration": 32,
    "start_time": "2024-07-28T03:15:47.783Z"
   },
   {
    "duration": 339,
    "start_time": "2024-07-28T03:15:58.526Z"
   },
   {
    "duration": 2632,
    "start_time": "2024-07-28T03:16:08.766Z"
   },
   {
    "duration": 2836,
    "start_time": "2024-07-28T03:16:59.972Z"
   },
   {
    "duration": 2714,
    "start_time": "2024-07-28T03:17:19.782Z"
   },
   {
    "duration": 6,
    "start_time": "2024-07-28T03:17:50.174Z"
   },
   {
    "duration": 8,
    "start_time": "2024-07-28T03:19:41.646Z"
   },
   {
    "duration": 13187,
    "start_time": "2024-07-28T03:19:44.403Z"
   },
   {
    "duration": 23048,
    "start_time": "2024-07-28T03:20:19.333Z"
   },
   {
    "duration": 1537,
    "start_time": "2024-07-28T03:21:45.405Z"
   },
   {
    "duration": 1257,
    "start_time": "2024-07-28T03:22:31.544Z"
   },
   {
    "duration": 1682,
    "start_time": "2024-07-28T03:22:38.572Z"
   },
   {
    "duration": 2848,
    "start_time": "2024-07-28T03:22:49.282Z"
   },
   {
    "duration": 2911,
    "start_time": "2024-07-28T03:23:24.542Z"
   },
   {
    "duration": 2838,
    "start_time": "2024-07-28T03:23:34.178Z"
   },
   {
    "duration": 2853,
    "start_time": "2024-07-28T03:23:46.956Z"
   },
   {
    "duration": 2861,
    "start_time": "2024-07-28T03:23:57.522Z"
   },
   {
    "duration": 2870,
    "start_time": "2024-07-28T03:24:05.112Z"
   },
   {
    "duration": 2858,
    "start_time": "2024-07-28T03:24:14.285Z"
   },
   {
    "duration": 11,
    "start_time": "2024-07-28T03:26:48.690Z"
   },
   {
    "duration": 2926,
    "start_time": "2024-07-28T03:27:25.463Z"
   },
   {
    "duration": 2853,
    "start_time": "2024-07-28T03:30:43.368Z"
   },
   {
    "duration": 799,
    "start_time": "2024-07-28T03:31:00.450Z"
   },
   {
    "duration": 2835,
    "start_time": "2024-07-28T03:31:14.249Z"
   },
   {
    "duration": 2995,
    "start_time": "2024-07-28T03:32:51.415Z"
   },
   {
    "duration": 4480,
    "start_time": "2024-07-28T03:33:00.247Z"
   },
   {
    "duration": 4415,
    "start_time": "2024-07-28T03:33:11.700Z"
   },
   {
    "duration": 4704,
    "start_time": "2024-07-28T03:33:22.230Z"
   },
   {
    "duration": 3956,
    "start_time": "2024-07-28T03:33:38.042Z"
   },
   {
    "duration": 2867,
    "start_time": "2024-07-28T03:33:45.838Z"
   },
   {
    "duration": 11038,
    "start_time": "2024-07-28T03:33:56.173Z"
   },
   {
    "duration": 5010,
    "start_time": "2024-07-28T03:34:10.891Z"
   },
   {
    "duration": 11066,
    "start_time": "2024-07-28T03:34:19.453Z"
   },
   {
    "duration": 8364,
    "start_time": "2024-07-28T03:34:45.734Z"
   },
   {
    "duration": 1843,
    "start_time": "2024-07-28T03:35:07.249Z"
   },
   {
    "duration": 4566,
    "start_time": "2024-07-28T03:35:14.847Z"
   },
   {
    "duration": 7047,
    "start_time": "2024-07-28T03:35:23.864Z"
   },
   {
    "duration": 8608,
    "start_time": "2024-07-28T03:35:53.912Z"
   },
   {
    "duration": 8166,
    "start_time": "2024-07-28T03:36:57.929Z"
   },
   {
    "duration": 7847,
    "start_time": "2024-07-28T03:37:10.169Z"
   },
   {
    "duration": 7642,
    "start_time": "2024-07-28T03:37:23.071Z"
   },
   {
    "duration": 8107,
    "start_time": "2024-07-28T03:37:51.719Z"
   },
   {
    "duration": 2848,
    "start_time": "2024-07-28T03:38:48.763Z"
   },
   {
    "duration": 47,
    "start_time": "2024-07-28T03:44:06.521Z"
   },
   {
    "duration": 718,
    "start_time": "2024-07-28T03:44:24.374Z"
   },
   {
    "duration": 1785,
    "start_time": "2024-07-28T03:45:01.033Z"
   },
   {
    "duration": 819,
    "start_time": "2024-07-28T03:45:02.822Z"
   },
   {
    "duration": 1347,
    "start_time": "2024-07-28T03:45:03.645Z"
   },
   {
    "duration": 6,
    "start_time": "2024-07-28T03:45:04.995Z"
   },
   {
    "duration": 8,
    "start_time": "2024-07-28T03:45:05.008Z"
   },
   {
    "duration": 185,
    "start_time": "2024-07-28T03:45:05.020Z"
   },
   {
    "duration": 121,
    "start_time": "2024-07-28T03:45:05.208Z"
   },
   {
    "duration": 104,
    "start_time": "2024-07-28T03:45:05.333Z"
   },
   {
    "duration": 106,
    "start_time": "2024-07-28T03:45:05.441Z"
   },
   {
    "duration": 152,
    "start_time": "2024-07-28T03:45:05.551Z"
   },
   {
    "duration": 148,
    "start_time": "2024-07-28T03:45:05.706Z"
   },
   {
    "duration": 37,
    "start_time": "2024-07-28T03:45:05.857Z"
   },
   {
    "duration": 36,
    "start_time": "2024-07-28T03:45:05.897Z"
   },
   {
    "duration": 13,
    "start_time": "2024-07-28T03:45:05.940Z"
   },
   {
    "duration": 26,
    "start_time": "2024-07-28T03:45:05.992Z"
   },
   {
    "duration": 47,
    "start_time": "2024-07-28T03:45:06.022Z"
   },
   {
    "duration": 5,
    "start_time": "2024-07-28T03:45:06.092Z"
   },
   {
    "duration": 26,
    "start_time": "2024-07-28T03:45:06.101Z"
   },
   {
    "duration": 27,
    "start_time": "2024-07-28T03:45:06.130Z"
   },
   {
    "duration": 254,
    "start_time": "2024-07-28T03:45:06.191Z"
   },
   {
    "duration": 113,
    "start_time": "2024-07-28T03:45:06.448Z"
   },
   {
    "duration": 70,
    "start_time": "2024-07-28T03:45:06.564Z"
   },
   {
    "duration": 76,
    "start_time": "2024-07-28T03:45:06.637Z"
   },
   {
    "duration": 5,
    "start_time": "2024-07-28T03:45:06.727Z"
   },
   {
    "duration": 41,
    "start_time": "2024-07-28T03:45:06.908Z"
   },
   {
    "duration": 205,
    "start_time": "2024-07-28T03:45:11.253Z"
   },
   {
    "duration": 278,
    "start_time": "2024-07-28T03:45:12.569Z"
   },
   {
    "duration": 157,
    "start_time": "2024-07-28T03:45:16.099Z"
   },
   {
    "duration": 6,
    "start_time": "2024-07-28T03:45:23.826Z"
   },
   {
    "duration": 719,
    "start_time": "2024-07-28T03:45:23.837Z"
   },
   {
    "duration": 1175,
    "start_time": "2024-07-28T03:45:24.559Z"
   },
   {
    "duration": 7,
    "start_time": "2024-07-28T03:45:25.737Z"
   },
   {
    "duration": 8,
    "start_time": "2024-07-28T03:45:25.750Z"
   },
   {
    "duration": 175,
    "start_time": "2024-07-28T03:45:25.761Z"
   },
   {
    "duration": 125,
    "start_time": "2024-07-28T03:45:25.939Z"
   },
   {
    "duration": 106,
    "start_time": "2024-07-28T03:45:26.066Z"
   },
   {
    "duration": 97,
    "start_time": "2024-07-28T03:45:26.175Z"
   },
   {
    "duration": 148,
    "start_time": "2024-07-28T03:45:26.275Z"
   },
   {
    "duration": 143,
    "start_time": "2024-07-28T03:45:26.426Z"
   },
   {
    "duration": 37,
    "start_time": "2024-07-28T03:45:26.571Z"
   },
   {
    "duration": 37,
    "start_time": "2024-07-28T03:45:26.612Z"
   },
   {
    "duration": 39,
    "start_time": "2024-07-28T03:45:26.656Z"
   },
   {
    "duration": 26,
    "start_time": "2024-07-28T03:45:26.698Z"
   },
   {
    "duration": 67,
    "start_time": "2024-07-28T03:45:26.727Z"
   },
   {
    "duration": 5,
    "start_time": "2024-07-28T03:45:26.797Z"
   },
   {
    "duration": 27,
    "start_time": "2024-07-28T03:45:26.806Z"
   },
   {
    "duration": 67,
    "start_time": "2024-07-28T03:45:26.837Z"
   },
   {
    "duration": 234,
    "start_time": "2024-07-28T03:45:26.910Z"
   },
   {
    "duration": 117,
    "start_time": "2024-07-28T03:45:27.146Z"
   },
   {
    "duration": 66,
    "start_time": "2024-07-28T03:45:27.266Z"
   },
   {
    "duration": 79,
    "start_time": "2024-07-28T03:45:27.335Z"
   },
   {
    "duration": 7,
    "start_time": "2024-07-28T03:45:27.416Z"
   },
   {
    "duration": 68,
    "start_time": "2024-07-28T03:45:27.426Z"
   },
   {
    "duration": 193,
    "start_time": "2024-07-28T03:45:27.497Z"
   },
   {
    "duration": 279,
    "start_time": "2024-07-28T03:45:27.693Z"
   },
   {
    "duration": 173,
    "start_time": "2024-07-28T03:45:27.975Z"
   },
   {
    "duration": 241,
    "start_time": "2024-07-28T03:45:28.152Z"
   },
   {
    "duration": 40,
    "start_time": "2024-07-28T03:45:28.396Z"
   },
   {
    "duration": 395,
    "start_time": "2024-07-28T03:45:28.440Z"
   },
   {
    "duration": 272,
    "start_time": "2024-07-28T03:45:28.839Z"
   },
   {
    "duration": 573,
    "start_time": "2024-07-28T03:45:33.793Z"
   },
   {
    "duration": 2804,
    "start_time": "2024-07-28T03:45:51.187Z"
   },
   {
    "duration": 8,
    "start_time": "2024-07-28T03:45:58.640Z"
   },
   {
    "duration": 13303,
    "start_time": "2024-07-28T03:46:00.396Z"
   },
   {
    "duration": 8,
    "start_time": "2024-07-28T03:47:50.543Z"
   },
   {
    "duration": 21391,
    "start_time": "2024-07-28T03:47:53.041Z"
   },
   {
    "duration": 43512,
    "start_time": "2024-07-28T03:48:28.226Z"
   },
   {
    "duration": 7692,
    "start_time": "2024-07-28T03:51:35.615Z"
   },
   {
    "duration": 2931,
    "start_time": "2024-07-28T03:52:53.578Z"
   },
   {
    "duration": 165,
    "start_time": "2024-07-28T15:27:34.811Z"
   },
   {
    "duration": 5615,
    "start_time": "2024-07-28T15:27:44.651Z"
   },
   {
    "duration": 864,
    "start_time": "2024-07-28T15:27:50.270Z"
   },
   {
    "duration": 1250,
    "start_time": "2024-07-28T15:27:51.137Z"
   },
   {
    "duration": 13,
    "start_time": "2024-07-28T15:27:52.391Z"
   },
   {
    "duration": 23,
    "start_time": "2024-07-28T15:27:52.407Z"
   },
   {
    "duration": 151,
    "start_time": "2024-07-28T15:27:52.433Z"
   },
   {
    "duration": 139,
    "start_time": "2024-07-28T15:27:52.589Z"
   },
   {
    "duration": 109,
    "start_time": "2024-07-28T15:27:52.731Z"
   },
   {
    "duration": 112,
    "start_time": "2024-07-28T15:27:52.844Z"
   },
   {
    "duration": 147,
    "start_time": "2024-07-28T15:27:52.965Z"
   },
   {
    "duration": 154,
    "start_time": "2024-07-28T15:27:53.114Z"
   },
   {
    "duration": 43,
    "start_time": "2024-07-28T15:27:53.271Z"
   },
   {
    "duration": 35,
    "start_time": "2024-07-28T15:27:53.328Z"
   },
   {
    "duration": 15,
    "start_time": "2024-07-28T15:27:53.367Z"
   },
   {
    "duration": 49,
    "start_time": "2024-07-28T15:27:53.389Z"
   },
   {
    "duration": 47,
    "start_time": "2024-07-28T15:27:53.442Z"
   },
   {
    "duration": 33,
    "start_time": "2024-07-28T15:27:53.493Z"
   },
   {
    "duration": 27,
    "start_time": "2024-07-28T15:27:53.533Z"
   },
   {
    "duration": 27,
    "start_time": "2024-07-28T15:27:53.564Z"
   },
   {
    "duration": 289,
    "start_time": "2024-07-28T15:27:53.594Z"
   },
   {
    "duration": 126,
    "start_time": "2024-07-28T15:27:53.886Z"
   },
   {
    "duration": 79,
    "start_time": "2024-07-28T15:27:54.016Z"
   },
   {
    "duration": 95,
    "start_time": "2024-07-28T15:27:54.097Z"
   },
   {
    "duration": 6,
    "start_time": "2024-07-28T15:27:54.195Z"
   },
   {
    "duration": 49,
    "start_time": "2024-07-28T15:27:54.227Z"
   },
   {
    "duration": 247,
    "start_time": "2024-07-28T15:27:54.280Z"
   },
   {
    "duration": 289,
    "start_time": "2024-07-28T15:27:54.531Z"
   },
   {
    "duration": 186,
    "start_time": "2024-07-28T15:27:54.831Z"
   },
   {
    "duration": 246,
    "start_time": "2024-07-28T15:27:55.027Z"
   },
   {
    "duration": 50,
    "start_time": "2024-07-28T15:27:55.276Z"
   },
   {
    "duration": 483,
    "start_time": "2024-07-28T15:27:55.330Z"
   },
   {
    "duration": 296,
    "start_time": "2024-07-28T15:27:55.825Z"
   },
   {
    "duration": 3029,
    "start_time": "2024-07-28T15:27:56.127Z"
   },
   {
    "duration": 80,
    "start_time": "2024-07-28T15:27:59.158Z"
   },
   {
    "duration": 13484,
    "start_time": "2024-07-28T15:27:59.242Z"
   },
   {
    "duration": 21675,
    "start_time": "2024-07-28T15:28:12.734Z"
   },
   {
    "duration": 44290,
    "start_time": "2024-07-28T15:28:34.413Z"
   },
   {
    "duration": 10038,
    "start_time": "2024-07-28T15:29:18.706Z"
   },
   {
    "duration": 2908,
    "start_time": "2024-07-28T15:29:28.747Z"
   },
   {
    "duration": 7932,
    "start_time": "2024-07-28T15:29:45.896Z"
   },
   {
    "duration": 3994,
    "start_time": "2024-07-28T15:30:17.047Z"
   },
   {
    "duration": 27378,
    "start_time": "2024-07-28T15:34:39.772Z"
   },
   {
    "duration": 502,
    "start_time": "2024-07-28T15:36:12.463Z"
   },
   {
    "duration": 6697,
    "start_time": "2024-07-28T15:36:22.697Z"
   },
   {
    "duration": 11474,
    "start_time": "2024-07-28T15:36:56.738Z"
   },
   {
    "duration": 3748,
    "start_time": "2024-07-28T15:38:51.095Z"
   },
   {
    "duration": 5668,
    "start_time": "2024-07-28T15:39:20.816Z"
   },
   {
    "duration": 1262,
    "start_time": "2024-07-28T15:42:17.581Z"
   },
   {
    "duration": 4825,
    "start_time": "2024-07-28T15:42:37.838Z"
   },
   {
    "duration": 7921,
    "start_time": "2024-07-28T15:42:59.020Z"
   },
   {
    "duration": 1482,
    "start_time": "2024-07-28T15:43:06.944Z"
   },
   {
    "duration": 3871,
    "start_time": "2024-07-28T15:43:08.963Z"
   },
   {
    "duration": 6,
    "start_time": "2024-07-28T15:51:43.877Z"
   },
   {
    "duration": 1723,
    "start_time": "2024-07-28T15:59:24.408Z"
   },
   {
    "duration": 725,
    "start_time": "2024-07-28T15:59:26.134Z"
   },
   {
    "duration": 1268,
    "start_time": "2024-07-28T15:59:26.862Z"
   },
   {
    "duration": 9,
    "start_time": "2024-07-28T15:59:28.137Z"
   },
   {
    "duration": 8,
    "start_time": "2024-07-28T15:59:28.150Z"
   },
   {
    "duration": 174,
    "start_time": "2024-07-28T15:59:28.160Z"
   },
   {
    "duration": 130,
    "start_time": "2024-07-28T15:59:28.337Z"
   },
   {
    "duration": 104,
    "start_time": "2024-07-28T15:59:28.470Z"
   },
   {
    "duration": 106,
    "start_time": "2024-07-28T15:59:28.577Z"
   },
   {
    "duration": 150,
    "start_time": "2024-07-28T15:59:28.689Z"
   },
   {
    "duration": 138,
    "start_time": "2024-07-28T15:59:28.842Z"
   },
   {
    "duration": 44,
    "start_time": "2024-07-28T15:59:28.983Z"
   },
   {
    "duration": 39,
    "start_time": "2024-07-28T15:59:29.030Z"
   },
   {
    "duration": 13,
    "start_time": "2024-07-28T15:59:29.072Z"
   },
   {
    "duration": 53,
    "start_time": "2024-07-28T15:59:29.088Z"
   },
   {
    "duration": 47,
    "start_time": "2024-07-28T15:59:29.144Z"
   },
   {
    "duration": 33,
    "start_time": "2024-07-28T15:59:29.194Z"
   },
   {
    "duration": 25,
    "start_time": "2024-07-28T15:59:29.230Z"
   },
   {
    "duration": 27,
    "start_time": "2024-07-28T15:59:29.258Z"
   },
   {
    "duration": 266,
    "start_time": "2024-07-28T15:59:29.288Z"
   },
   {
    "duration": 110,
    "start_time": "2024-07-28T15:59:29.557Z"
   },
   {
    "duration": 76,
    "start_time": "2024-07-28T15:59:29.671Z"
   },
   {
    "duration": 78,
    "start_time": "2024-07-28T15:59:29.750Z"
   },
   {
    "duration": 5,
    "start_time": "2024-07-28T15:59:29.831Z"
   },
   {
    "duration": 55,
    "start_time": "2024-07-28T15:59:29.839Z"
   },
   {
    "duration": 232,
    "start_time": "2024-07-28T15:59:29.899Z"
   },
   {
    "duration": 279,
    "start_time": "2024-07-28T15:59:30.134Z"
   },
   {
    "duration": 155,
    "start_time": "2024-07-28T15:59:30.426Z"
   },
   {
    "duration": 229,
    "start_time": "2024-07-28T15:59:30.588Z"
   },
   {
    "duration": 39,
    "start_time": "2024-07-28T15:59:30.827Z"
   },
   {
    "duration": 386,
    "start_time": "2024-07-28T15:59:30.869Z"
   },
   {
    "duration": 282,
    "start_time": "2024-07-28T15:59:31.258Z"
   },
   {
    "duration": 2604,
    "start_time": "2024-07-28T15:59:31.543Z"
   },
   {
    "duration": 13,
    "start_time": "2024-07-28T15:59:34.228Z"
   },
   {
    "duration": 13191,
    "start_time": "2024-07-28T15:59:34.249Z"
   },
   {
    "duration": 21543,
    "start_time": "2024-07-28T15:59:47.443Z"
   },
   {
    "duration": 27815,
    "start_time": "2024-07-28T16:00:08.988Z"
   },
   {
    "duration": 11562,
    "start_time": "2024-07-28T16:00:36.806Z"
   },
   {
    "duration": 6784,
    "start_time": "2024-07-28T16:00:48.371Z"
   },
   {
    "duration": 7914,
    "start_time": "2024-07-28T16:00:55.159Z"
   },
   {
    "duration": 3773,
    "start_time": "2024-07-28T16:01:03.076Z"
   },
   {
    "duration": 1475,
    "start_time": "2024-07-28T16:01:06.852Z"
   },
   {
    "duration": 2897,
    "start_time": "2024-07-28T16:01:08.333Z"
   },
   {
    "duration": 5569,
    "start_time": "2024-07-28T16:01:11.233Z"
   },
   {
    "duration": 1659,
    "start_time": "2024-07-28T16:02:53.753Z"
   },
   {
    "duration": 709,
    "start_time": "2024-07-28T16:02:55.415Z"
   },
   {
    "duration": 1247,
    "start_time": "2024-07-28T16:02:56.127Z"
   },
   {
    "duration": 7,
    "start_time": "2024-07-28T16:02:57.377Z"
   },
   {
    "duration": 7,
    "start_time": "2024-07-28T16:02:57.390Z"
   },
   {
    "duration": 200,
    "start_time": "2024-07-28T16:02:57.400Z"
   },
   {
    "duration": 139,
    "start_time": "2024-07-28T16:02:57.602Z"
   },
   {
    "duration": 113,
    "start_time": "2024-07-28T16:02:57.744Z"
   },
   {
    "duration": 113,
    "start_time": "2024-07-28T16:02:57.859Z"
   },
   {
    "duration": 157,
    "start_time": "2024-07-28T16:02:57.975Z"
   },
   {
    "duration": 141,
    "start_time": "2024-07-28T16:02:58.134Z"
   },
   {
    "duration": 26,
    "start_time": "2024-07-28T16:02:58.278Z"
   },
   {
    "duration": 36,
    "start_time": "2024-07-28T16:02:58.328Z"
   },
   {
    "duration": 12,
    "start_time": "2024-07-28T16:02:58.371Z"
   },
   {
    "duration": 52,
    "start_time": "2024-07-28T16:02:58.386Z"
   },
   {
    "duration": 48,
    "start_time": "2024-07-28T16:02:58.442Z"
   },
   {
    "duration": 5,
    "start_time": "2024-07-28T16:02:58.493Z"
   },
   {
    "duration": 28,
    "start_time": "2024-07-28T16:02:58.525Z"
   },
   {
    "duration": 28,
    "start_time": "2024-07-28T16:02:58.556Z"
   },
   {
    "duration": 261,
    "start_time": "2024-07-28T16:02:58.587Z"
   },
   {
    "duration": 111,
    "start_time": "2024-07-28T16:02:58.852Z"
   },
   {
    "duration": 74,
    "start_time": "2024-07-28T16:02:58.966Z"
   },
   {
    "duration": 58,
    "start_time": "2024-07-28T16:02:59.043Z"
   },
   {
    "duration": 24,
    "start_time": "2024-07-28T16:02:59.104Z"
   },
   {
    "duration": 41,
    "start_time": "2024-07-28T16:02:59.132Z"
   },
   {
    "duration": 232,
    "start_time": "2024-07-28T16:02:59.177Z"
   },
   {
    "duration": 289,
    "start_time": "2024-07-28T16:02:59.412Z"
   },
   {
    "duration": 163,
    "start_time": "2024-07-28T16:02:59.704Z"
   },
   {
    "duration": 241,
    "start_time": "2024-07-28T16:02:59.870Z"
   },
   {
    "duration": 43,
    "start_time": "2024-07-28T16:03:00.114Z"
   },
   {
    "duration": 411,
    "start_time": "2024-07-28T16:03:00.160Z"
   },
   {
    "duration": 371,
    "start_time": "2024-07-28T16:03:00.574Z"
   },
   {
    "duration": 2598,
    "start_time": "2024-07-28T16:03:00.947Z"
   },
   {
    "duration": 9,
    "start_time": "2024-07-28T16:03:03.626Z"
   },
   {
    "duration": 13189,
    "start_time": "2024-07-28T16:03:03.638Z"
   },
   {
    "duration": 21231,
    "start_time": "2024-07-28T16:03:16.830Z"
   },
   {
    "duration": 27564,
    "start_time": "2024-07-28T16:03:38.064Z"
   },
   {
    "duration": 11511,
    "start_time": "2024-07-28T16:04:05.631Z"
   },
   {
    "duration": 6812,
    "start_time": "2024-07-28T16:04:17.145Z"
   },
   {
    "duration": 1646,
    "start_time": "2024-07-28T16:08:13.548Z"
   },
   {
    "duration": 714,
    "start_time": "2024-07-28T16:08:15.197Z"
   },
   {
    "duration": 1220,
    "start_time": "2024-07-28T16:08:15.913Z"
   },
   {
    "duration": 5,
    "start_time": "2024-07-28T16:08:17.136Z"
   },
   {
    "duration": 7,
    "start_time": "2024-07-28T16:08:17.147Z"
   },
   {
    "duration": 180,
    "start_time": "2024-07-28T16:08:17.157Z"
   },
   {
    "duration": 123,
    "start_time": "2024-07-28T16:08:17.340Z"
   },
   {
    "duration": 120,
    "start_time": "2024-07-28T16:08:17.466Z"
   },
   {
    "duration": 117,
    "start_time": "2024-07-28T16:08:17.589Z"
   },
   {
    "duration": 161,
    "start_time": "2024-07-28T16:08:17.709Z"
   },
   {
    "duration": 143,
    "start_time": "2024-07-28T16:08:17.873Z"
   },
   {
    "duration": 27,
    "start_time": "2024-07-28T16:08:18.028Z"
   },
   {
    "duration": 36,
    "start_time": "2024-07-28T16:08:18.058Z"
   },
   {
    "duration": 15,
    "start_time": "2024-07-28T16:08:18.129Z"
   },
   {
    "duration": 25,
    "start_time": "2024-07-28T16:08:18.146Z"
   },
   {
    "duration": 74,
    "start_time": "2024-07-28T16:08:18.174Z"
   },
   {
    "duration": 11,
    "start_time": "2024-07-28T16:08:18.253Z"
   },
   {
    "duration": 26,
    "start_time": "2024-07-28T16:08:18.267Z"
   },
   {
    "duration": 52,
    "start_time": "2024-07-28T16:08:18.296Z"
   },
   {
    "duration": 252,
    "start_time": "2024-07-28T16:08:18.350Z"
   },
   {
    "duration": 121,
    "start_time": "2024-07-28T16:08:18.605Z"
   },
   {
    "duration": 63,
    "start_time": "2024-07-28T16:08:18.729Z"
   },
   {
    "duration": 75,
    "start_time": "2024-07-28T16:08:18.795Z"
   },
   {
    "duration": 6,
    "start_time": "2024-07-28T16:08:18.873Z"
   },
   {
    "duration": 66,
    "start_time": "2024-07-28T16:08:18.882Z"
   },
   {
    "duration": 208,
    "start_time": "2024-07-28T16:08:18.954Z"
   },
   {
    "duration": 292,
    "start_time": "2024-07-28T16:08:19.165Z"
   },
   {
    "duration": 172,
    "start_time": "2024-07-28T16:08:19.460Z"
   },
   {
    "duration": 239,
    "start_time": "2024-07-28T16:08:19.635Z"
   },
   {
    "duration": 54,
    "start_time": "2024-07-28T16:08:19.878Z"
   },
   {
    "duration": 393,
    "start_time": "2024-07-28T16:08:19.935Z"
   },
   {
    "duration": 278,
    "start_time": "2024-07-28T16:08:20.331Z"
   },
   {
    "duration": 2615,
    "start_time": "2024-07-28T16:08:20.612Z"
   },
   {
    "duration": 10,
    "start_time": "2024-07-28T16:08:23.230Z"
   },
   {
    "duration": 13286,
    "start_time": "2024-07-28T16:08:23.246Z"
   },
   {
    "duration": 21299,
    "start_time": "2024-07-28T16:08:36.535Z"
   },
   {
    "duration": 27681,
    "start_time": "2024-07-28T16:08:57.837Z"
   },
   {
    "duration": 12474,
    "start_time": "2024-07-28T16:09:25.527Z"
   },
   {
    "duration": 7612,
    "start_time": "2024-07-28T16:09:38.004Z"
   },
   {
    "duration": 13532,
    "start_time": "2024-07-28T16:09:45.619Z"
   },
   {
    "duration": 4300,
    "start_time": "2024-07-28T16:09:59.159Z"
   },
   {
    "duration": 1274,
    "start_time": "2024-07-28T16:10:03.461Z"
   },
   {
    "duration": 2910,
    "start_time": "2024-07-28T16:10:04.738Z"
   },
   {
    "duration": 5577,
    "start_time": "2024-07-28T16:10:07.651Z"
   },
   {
    "duration": 116694,
    "start_time": "2024-07-28T16:10:21.566Z"
   },
   {
    "duration": 317,
    "start_time": "2024-07-28T21:43:55.634Z"
   },
   {
    "duration": 5361,
    "start_time": "2024-07-28T21:44:02.113Z"
   },
   {
    "duration": 758,
    "start_time": "2024-07-28T21:44:07.479Z"
   },
   {
    "duration": 1246,
    "start_time": "2024-07-28T21:44:08.240Z"
   },
   {
    "duration": 7,
    "start_time": "2024-07-28T21:44:09.489Z"
   },
   {
    "duration": 10,
    "start_time": "2024-07-28T21:44:09.500Z"
   },
   {
    "duration": 154,
    "start_time": "2024-07-28T21:44:09.532Z"
   },
   {
    "duration": 121,
    "start_time": "2024-07-28T21:44:09.691Z"
   },
   {
    "duration": 115,
    "start_time": "2024-07-28T21:44:09.815Z"
   },
   {
    "duration": 109,
    "start_time": "2024-07-28T21:44:09.933Z"
   },
   {
    "duration": 166,
    "start_time": "2024-07-28T21:44:10.044Z"
   },
   {
    "duration": 145,
    "start_time": "2024-07-28T21:44:10.212Z"
   },
   {
    "duration": 27,
    "start_time": "2024-07-28T21:44:10.359Z"
   },
   {
    "duration": 64,
    "start_time": "2024-07-28T21:44:10.389Z"
   },
   {
    "duration": 12,
    "start_time": "2024-07-28T21:44:10.460Z"
   },
   {
    "duration": 25,
    "start_time": "2024-07-28T21:44:10.475Z"
   },
   {
    "duration": 45,
    "start_time": "2024-07-28T21:44:10.530Z"
   },
   {
    "duration": 5,
    "start_time": "2024-07-28T21:44:10.579Z"
   },
   {
    "duration": 53,
    "start_time": "2024-07-28T21:44:10.588Z"
   },
   {
    "duration": 27,
    "start_time": "2024-07-28T21:44:10.644Z"
   },
   {
    "duration": 258,
    "start_time": "2024-07-28T21:44:10.674Z"
   },
   {
    "duration": 114,
    "start_time": "2024-07-28T21:44:10.935Z"
   },
   {
    "duration": 61,
    "start_time": "2024-07-28T21:44:11.052Z"
   },
   {
    "duration": 60,
    "start_time": "2024-07-28T21:44:11.131Z"
   },
   {
    "duration": 6,
    "start_time": "2024-07-28T21:44:11.194Z"
   },
   {
    "duration": 68,
    "start_time": "2024-07-28T21:44:11.203Z"
   },
   {
    "duration": 222,
    "start_time": "2024-07-28T21:44:11.273Z"
   },
   {
    "duration": 306,
    "start_time": "2024-07-28T21:44:11.499Z"
   },
   {
    "duration": 165,
    "start_time": "2024-07-28T21:44:11.808Z"
   },
   {
    "duration": 239,
    "start_time": "2024-07-28T21:44:11.976Z"
   },
   {
    "duration": 53,
    "start_time": "2024-07-28T21:44:12.217Z"
   },
   {
    "duration": 383,
    "start_time": "2024-07-28T21:44:12.273Z"
   },
   {
    "duration": 289,
    "start_time": "2024-07-28T21:44:12.660Z"
   },
   {
    "duration": 2691,
    "start_time": "2024-07-28T21:44:12.952Z"
   },
   {
    "duration": 87,
    "start_time": "2024-07-28T21:44:15.649Z"
   },
   {
    "duration": 13008,
    "start_time": "2024-07-28T21:44:15.743Z"
   },
   {
    "duration": 1710,
    "start_time": "2024-07-28T21:44:50.444Z"
   },
   {
    "duration": 730,
    "start_time": "2024-07-28T21:44:52.159Z"
   },
   {
    "duration": 1224,
    "start_time": "2024-07-28T21:44:52.892Z"
   },
   {
    "duration": 15,
    "start_time": "2024-07-28T21:44:54.119Z"
   },
   {
    "duration": 8,
    "start_time": "2024-07-28T21:44:54.142Z"
   },
   {
    "duration": 165,
    "start_time": "2024-07-28T21:44:54.153Z"
   },
   {
    "duration": 126,
    "start_time": "2024-07-28T21:44:54.320Z"
   },
   {
    "duration": 106,
    "start_time": "2024-07-28T21:44:54.449Z"
   },
   {
    "duration": 108,
    "start_time": "2024-07-28T21:44:54.558Z"
   },
   {
    "duration": 147,
    "start_time": "2024-07-28T21:44:54.669Z"
   },
   {
    "duration": 137,
    "start_time": "2024-07-28T21:44:54.819Z"
   },
   {
    "duration": 27,
    "start_time": "2024-07-28T21:44:54.958Z"
   },
   {
    "duration": 64,
    "start_time": "2024-07-28T21:44:54.988Z"
   },
   {
    "duration": 13,
    "start_time": "2024-07-28T21:44:55.059Z"
   },
   {
    "duration": 58,
    "start_time": "2024-07-28T21:44:55.074Z"
   },
   {
    "duration": 46,
    "start_time": "2024-07-28T21:44:55.135Z"
   },
   {
    "duration": 5,
    "start_time": "2024-07-28T21:44:55.184Z"
   },
   {
    "duration": 49,
    "start_time": "2024-07-28T21:44:55.192Z"
   },
   {
    "duration": 27,
    "start_time": "2024-07-28T21:44:55.245Z"
   },
   {
    "duration": 257,
    "start_time": "2024-07-28T21:44:55.275Z"
   },
   {
    "duration": 215,
    "start_time": "2024-07-28T21:44:57.590Z"
   },
   {
    "duration": 101,
    "start_time": "2024-07-28T21:45:01.062Z"
   },
   {
    "duration": 62,
    "start_time": "2024-07-28T21:45:45.227Z"
   },
   {
    "duration": 59,
    "start_time": "2024-07-28T21:45:45.978Z"
   },
   {
    "duration": 5,
    "start_time": "2024-07-28T21:45:48.105Z"
   },
   {
    "duration": 43,
    "start_time": "2024-07-28T21:45:50.556Z"
   },
   {
    "duration": 199,
    "start_time": "2024-07-28T21:45:58.458Z"
   },
   {
    "duration": 279,
    "start_time": "2024-07-28T21:46:00.715Z"
   },
   {
    "duration": 152,
    "start_time": "2024-07-28T21:46:05.214Z"
   },
   {
    "duration": 215,
    "start_time": "2024-07-28T21:46:07.953Z"
   },
   {
    "duration": 39,
    "start_time": "2024-07-28T21:46:11.220Z"
   },
   {
    "duration": 388,
    "start_time": "2024-07-28T21:46:11.717Z"
   },
   {
    "duration": 270,
    "start_time": "2024-07-28T21:46:15.644Z"
   },
   {
    "duration": 2667,
    "start_time": "2024-07-28T21:46:22.173Z"
   },
   {
    "duration": 7,
    "start_time": "2024-07-28T21:46:32.977Z"
   },
   {
    "duration": 13010,
    "start_time": "2024-07-28T21:46:35.221Z"
   },
   {
    "duration": 21258,
    "start_time": "2024-07-28T21:46:48.235Z"
   },
   {
    "duration": 27975,
    "start_time": "2024-07-28T21:47:09.495Z"
   },
   {
    "duration": 11398,
    "start_time": "2024-07-28T21:47:37.474Z"
   },
   {
    "duration": 6728,
    "start_time": "2024-07-28T21:47:48.875Z"
   },
   {
    "duration": 8446,
    "start_time": "2024-07-28T21:47:55.606Z"
   },
   {
    "duration": 3787,
    "start_time": "2024-07-28T21:48:04.054Z"
   },
   {
    "duration": 2948,
    "start_time": "2024-07-28T21:48:07.844Z"
   },
   {
    "duration": 5569,
    "start_time": "2024-07-28T21:48:10.795Z"
   },
   {
    "duration": 1213,
    "start_time": "2024-07-28T21:48:18.730Z"
   },
   {
    "duration": 14,
    "start_time": "2024-07-28T21:48:26.427Z"
   },
   {
    "duration": 1195,
    "start_time": "2024-07-28T21:49:48.337Z"
   },
   {
    "duration": 134,
    "start_time": "2024-07-28T21:49:57.099Z"
   },
   {
    "duration": 2829,
    "start_time": "2024-07-28T21:50:09.247Z"
   },
   {
    "duration": 2789,
    "start_time": "2024-07-28T21:50:33.215Z"
   },
   {
    "duration": 5514,
    "start_time": "2024-07-28T21:51:02.716Z"
   }
  ],
  "kernelspec": {
   "display_name": "Python 3 (ipykernel)",
   "language": "python",
   "name": "python3"
  },
  "language_info": {
   "codemirror_mode": {
    "name": "ipython",
    "version": 3
   },
   "file_extension": ".py",
   "mimetype": "text/x-python",
   "name": "python",
   "nbconvert_exporter": "python",
   "pygments_lexer": "ipython3",
   "version": "3.9.19"
  },
  "toc": {
   "base_numbering": 1,
   "nav_menu": {},
   "number_sections": true,
   "sideBar": true,
   "skip_h1_title": true,
   "title_cell": "Table of Contents",
   "title_sidebar": "Contents",
   "toc_cell": false,
   "toc_position": {},
   "toc_section_display": true,
   "toc_window_display": false
  }
 },
 "nbformat": 4,
 "nbformat_minor": 2
}
